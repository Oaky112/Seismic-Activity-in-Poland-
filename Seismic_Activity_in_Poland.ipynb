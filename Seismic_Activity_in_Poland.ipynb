{
  "nbformat": 4,
  "nbformat_minor": 0,
  "metadata": {
    "colab": {
      "provenance": []
    },
    "kernelspec": {
      "name": "python3",
      "display_name": "Python 3"
    },
    "language_info": {
      "name": "python"
    }
  },
  "cells": [
    {
      "cell_type": "markdown",
      "source": [
        "Big Data Analytics Coursework\n",
        "<br>\n",
        "By Joshua Oakman 2213772\n",
        "\n",
        "\n",
        "\n"
      ],
      "metadata": {
        "id": "nPOJgV7h86LB"
      }
    },
    {
      "cell_type": "markdown",
      "source": [
        "# **1.1 Dataset**\n",
        "The dataset I have chosen is from the\n",
        "UCI Machine Learning Repository (https://archive.ics.uci.edu) providing a 'seismic bumps' data set that contains many records of combined categorical and numeric variables that could be used to predict seismic hazards. This dataset was obatined on the 26th of October 2022. The reason\n",
        "I chose this dataset was because I find natural hazards facinating and wanted to incorpirate this into my studys doing some research into seismic activity.\n",
        "<br><br>\n",
        "I\n",
        "have seen that it is a very intresting process done by professionals and is the line of work I would like to go into I believe that\n",
        "with the use of algorithms I will be able to make this process alot quicker and easier which will not\n",
        "only be beneficial for seismologists but will also test my skills.\n",
        "\n",
        "\n",
        "This coursework dataset on 'seismic bumps' can be found at: https://archive.ics.uci.edu/ml/datasets/seismic-bumps."
      ],
      "metadata": {
        "id": "Vk8h0FYS7iZm"
      }
    },
    {
      "cell_type": "markdown",
      "source": [
        "# **1.2 Describing the Data**\n",
        "The data was taken from from instruments in the Zabrze-Bielszowice coal mine, in Poland. There are 2,584 records with only 170 positive examples representing class 1 variables, therefore the data is largely towards non-hazardous training data.\n",
        "\n",
        "Field descriptions shown in the data table, show the energy readings and bump counts during one work shift that can be used to predict a 'hazardous' bump during the next shift.\n",
        "\n",
        "From the data description, a 'hazardous bump' is a seismic event with > 10,000 Joules, and a 'shift' is a period of 8 hours. For the sake of reference, the  practical example of 10,000 Joules would be like the approximate amount of energy required to lift 10,000 golf balls 1m above the ground.\n",
        "\n",
        "A class = 1 variable result signifies that a harzardous bump did, indeed, occur in the following shift to the measured data.\n",
        "\n"
      ],
      "metadata": {
        "id": "-k3UHxfPLWiR"
      }
    },
    {
      "cell_type": "markdown",
      "source": [
        "**Below is an example of the fields in the data set showing the bumps and energy readings during seismic activity.**\n",
        "<br>\n",
        "    ## Observations: 2,584\n",
        "    ## Variables: 19\n",
        "    ## $ seismic        <fctr> a, a, a, a, a, a, a, a, a, a, a, a, a, a, a, a...\n",
        "    ## $ seismoacoustic <fctr> a, a, a, a, a, a, a, a, a, a, a, a, a, a, a, b...\n",
        "    ## $ shift          <fctr> N, N, N, N, N, W, W, N, N, W, N, N, W, N, N, W...\n",
        "    ## $ genergy        <dbl> 15180, 14720, 8050, 28820, 12640, 63760, 207930...\n",
        "    ## $ gpuls          <dbl> 48, 33, 30, 171, 57, 195, 614, 194, 303, 675, 1...\n",
        "    ## $ gdenergy       <dbl> -72, -70, -81, -23, -63, -73, -6, -27, 54, 4, -...\n",
        "    ## $ gdpuls         <dbl> -72, -79, -78, 40, -52, -65, 18, -3, 52, 25, -3...\n",
        "    ## $ ghazard        <fctr> a, a, a, a, a, a, a, a, a, a, a, a, a, a, a, a...\n",
        "    ## $ nbumps         <dbl> 0, 1, 0, 1, 0, 0, 2, 1, 0, 1, 1, 0, 1, 1, 1, 2,...\n",
        "    ## $ nbumps2        <dbl> 0, 0, 0, 0, 0, 0, 2, 0, 0, 1, 0, 0, 1, 0, 1, 0,...\n",
        "    ## $ nbumps3        <dbl> 0, 1, 0, 1, 0, 0, 0, 1, 0, 0, 1, 0, 0, 1, 0, 2,...\n",
        "    ## $ nbumps4        <dbl> 0, 0, 0, 0, 0, 0, 0, 0, 0, 0, 0, 0, 0, 0, 0, 0,...\n",
        "    ## $ nbumps5        <dbl> 0, 0, 0, 0, 0, 0, 0, 0, 0, 0, 0, 0, 0, 0, 0, 0,...\n",
        "    ## $ nbumps6        <dbl> 0, 0, 0, 0, 0, 0, 0, 0, 0, 0, 0, 0, 0, 0, 0, 0,...\n",
        "    ## $ nbumps7        <dbl> 0, 0, 0, 0, 0, 0, 0, 0, 0, 0, 0, 0, 0, 0, 0, 0,...\n",
        "    ## $ nbumps89       <dbl> 0, 0, 0, 0, 0, 0, 0, 0, 0, 0, 0, 0, 0, 0, 0, 0,...\n",
        "    ## $ energy         <dbl> 0, 2000, 0, 3000, 0, 0, 1000, 4000, 0, 500, 500...\n",
        "    ## $ maxenergy      <dbl> 0, 2000, 0, 3000, 0, 0, 700, 4000, 0, 500, 5000...\n",
        "    ## $ class          <fctr> 0, 0, 0, 0, 0, 0, 0, 0, 0, 0, 0, 0, 0, 0, 0, 0...\n",
        "\n",
        "\n"
      ],
      "metadata": {
        "id": "pl5he0N9Fv7Q"
      }
    },
    {
      "cell_type": "markdown",
      "source": [
        "From the UCI Machine Learning Repository, these are the field descriptions:\n",
        "\n",
        "* seismic: result of shift seismic hazard\n",
        "assessment in the mine working obtained by the seismic method (a - lack of hazard, b - low hazard, c - high hazard, d - danger state);\n",
        "\n",
        "* seismoacoustic: result of shift seismic hazard assessment in the mine working obtained by the seismoacoustic method;\n",
        "* shift: information about type of a shift (W - coal-getting, N -preparation shift);\n",
        "* genergy: seismic energy recorded within previous shift by the most active geophone (GMax) out of geophones monitoring the longwall;\n",
        "* gpuls: a number of pulses recorded within previous shift by GMax;\n",
        "* gdenergy: a deviation of energy recorded within previous shift by GMax from average energy recorded during eight previous shifts;\n",
        "* gdpuls: a deviation of a number of pulses recorded within previous shift by GMax from average number of pulses recorded during eight previous shifts;\n",
        "* ghazard: result of shift seismic hazard assessment in the mine working obtained by the seismoacoustic method based on registration coming form GMax only;\n",
        "* nbumps: the number of seismic bumps recorded within previous shift;\n",
        "* nbumps2: the number of seismic bumps (in energy range [102,103)) registered within previous shift;\n",
        "* nbumps3: the number of seismic bumps (in energy range [103,104)) registered within previous shift;\n",
        "* nbumps4: the number of seismic bumps (in energy range [104,105)) registered within previous shift;\n",
        "* nbumps5: the number of seismic bumps (in energy range [105,106)) registered within the last shift;\n",
        "* nbumps6: the number of seismic bumps (in energy range [106,107)) registered within previous shift;\n",
        "* nbumps7: the number of seismic bumps (in energy range [107,108)) registered within previous shift;\n",
        "* nbumps89: the number of seismic bumps (in energy range [108,1010)) registered within previous shift;\n",
        "* energy: total energy of seismic bumps registered within previous shift;\n",
        "* maxenergy: the maximum energy of the seismic bumps registered within previous shift;\n",
        "* class: the decision attribute - '1' means that high energy seismic bump occurred in the next shift ('hazardous state'), '0' means that no high energy seismic bumps occurred in the next shift ('non-hazardous state').\n",
        "\n",
        "\n",
        "\n"
      ],
      "metadata": {
        "id": "JDF9ZyG5NHiC"
      }
    },
    {
      "cell_type": "markdown",
      "source": [
        "# **1.3 Related Work and Data Exploration**"
      ],
      "metadata": {
        "id": "LmEk6yDlICm6"
      }
    },
    {
      "cell_type": "markdown",
      "source": [
        "## Dataset Overview\n",
        "The dangers associated with mining range from cave-ins, explosions, toxic air, and extreme temperatures are some of the most perilous hazards observed to take place in underground mining. Valuable minerals are found all over the world. And most often the only way to get to them is by mining into the earth's ground.\n",
        "\n",
        "Mining companies must consider many saftey protocols when attempting to provide safe working conditions for miners. One of the most common class of mining hazard, commonly called \"seismic hazards\", are notoriously difficult to protect against and even more difficult to predict with certainty.\n",
        "\n",
        "Therefore, predicting these hazards has become a well-known problem for machine learning and predictive analytics.\n",
        "\n"
      ],
      "metadata": {
        "id": "EA4Bx_oc-xsY"
      }
    },
    {
      "cell_type": "markdown",
      "source": [
        "## Importing the Dataset as a dataframe\n",
        "Load the necessary libraries numpy arrays, pandas for data frames, seaborn for visualisation and\n",
        "matplitlib for visualisation."
      ],
      "metadata": {
        "id": "9qYVB7L7VgAp"
      }
    },
    {
      "cell_type": "code",
      "source": [
        "# import necessary libraries\n",
        "import numpy as np\n",
        "import pandas as pd\n",
        "import seaborn as sns\n",
        "import matplotlib.pyplot as plt\n",
        "\n",
        "df = pd.read_csv('seismic-bumps.csv')\n"
      ],
      "metadata": {
        "id": "aUZv_jGGi8dx"
      },
      "execution_count": null,
      "outputs": []
    },
    {
      "cell_type": "markdown",
      "source": [
        "## Objectives\n",
        "My analysis attempt in this coursework uses logistic regression, Random Forest and Decision Tree techniques to predict whether a 'seismic bump' can predict a notable seismic hazard.\n",
        "\n",
        "I will attempt to characterize my prediction accuracy and compare the results against the state of the art results from other statistical and machine learning techniques, that are included within this data set.\n",
        "\n"
      ],
      "metadata": {
        "id": "EK2EvidXL_4F"
      }
    },
    {
      "cell_type": "markdown",
      "source": [
        "## Peer Reviewed Paper\n",
        "The peer reviewed paper I have decided to use that is relevant to the dataset is **Seismic Events Prediction Using Deep Temporal Convolution Networks**.\n",
        "\n",
        "Found at https://www.hindawi.com/journals/jece/2019/7343784/\n",
        "\n",
        "\n",
        "Seismic events prediction is a crucial task for preventing coal mine rock burst hazards. Currently, this task attracts increasing research enthusiasms from many mining experts. Considering the temporal characteristics of monitoring data, seismic events prediction can be abstracted as a time series prediction task. The paper I chose contributes to the idea of records of combined categorical and numeric variables that could be used to predict seismic hazards.\n",
        "\n",
        "This ‘Seismic Events Prediction Using Deep Temporal Convolution Networks’ can be linked to my dataset and the surrounding idea found at https://archive.ics.uci.edu/ml/datasets/seismic-bumps.\n",
        "\n",
        "The paper covers ideas about abstracting the underground coal mine seismic events prediction into time series forecasting tasks, Generating  two deep learning models are proposed to deal with the long-term memory problem: dilated causal temporal convolutional network (DCTCNN) and CNN-LSTM hybrid network. It allows for improved methods compared to the standard deep learning network ideas this idea allows to address the long-term historical dependence in time series prediction giving clear readings and positive predictions, designed to modifying deep learning networks through expanding CNN local receptive field and hybrid modelling that is new in this field taking advantage of dilated and causal convolution mechanism to address the historical long-term dependence problem. It is based on the idea of expanding convolutional kernel receptive field.\n",
        "\n",
        "While this section combines one-dimensional CNN with LSTM to solve the long-term memory issue of time series prediction, specifically, temporal CNN. The paper tests the proposed models on two real-life coal mine seismic datasets and compare them with some classic algorithms classic machine learning algorithms (SVR and RF), and standard deep learning networks (TCNN and LSTM). DCTCNN and CNN-LSTM outperformed all those five algorithms. Their experimental results were better than the above algorithms in 1-3 orders magnitudes on RMSE and MAE metrics. Compared with each other, DCTCNN could be trained more stable, and CNN-LSTM runs faster.\n",
        "\n",
        "Data used; the paper used the same dataset as my attempt supporting my findings of the negative corrolation, this study have been deposited alongside the UCI repository.\n",
        "\n",
        "\n",
        "\n"
      ],
      "metadata": {
        "id": "CL5GTwz3A4QI"
      }
    },
    {
      "cell_type": "markdown",
      "source": [
        "Changing the provided ARFF file into CSV"
      ],
      "metadata": {
        "id": "ucq1cTdsQ2H1"
      }
    },
    {
      "cell_type": "code",
      "source": [
        "# Importing library\n",
        "import os\n",
        "\n",
        "# Getting all the arff files from the current directory\n",
        "files = [arff for arff in os.listdir('.') if arff.endswith(\".arff\")]\n",
        "\n",
        "# Function for converting arff list to csv list\n",
        "def toCsv(text):\n",
        "    data = False\n",
        "    header = \"\"\n",
        "    new_content = []\n",
        "    for line in text:\n",
        "        if not data:\n",
        "            if \"@ATTRIBUTE\" in line or \"@attribute\" in line:\n",
        "                attributes = line.split()\n",
        "                if(\"@attribute\" in line):\n",
        "                    attri_case = \"@attribute\"\n",
        "                else:\n",
        "                    attri_case = \"@ATTRIBUTE\"\n",
        "                column_name = attributes[attributes.index(attri_case) + 1]\n",
        "                header = header + column_name + \",\"\n",
        "            elif \"@DATA\" in line or \"@data\" in line:\n",
        "                data = True\n",
        "                header = header[:-1]\n",
        "                header += '\\n'\n",
        "                new_content.append(header)\n",
        "        else:\n",
        "            new_content.append(line)\n",
        "    return new_content\n",
        "\n",
        "\n",
        "# Main loop for reading and writing files\n",
        "for file in files:\n",
        "    with open(file, \"r\") as inFile:\n",
        "        content = inFile.readlines()\n",
        "        name, ext = os.path.splitext(inFile.name)\n",
        "        new = toCsv(content)\n",
        "        with open(name + \".csv\", \"w\") as outFile:\n",
        "            outFile.writelines(new)\n"
      ],
      "metadata": {
        "id": "cDoLGLzXQZAe"
      },
      "execution_count": null,
      "outputs": []
    },
    {
      "cell_type": "markdown",
      "source": [
        "## Results from changing the dataset from ARFF to CSV"
      ],
      "metadata": {
        "id": "XkTrAo_hRcDv"
      }
    },
    {
      "cell_type": "markdown",
      "source": [
        "![image.png](data:image/png;base64,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)"
      ],
      "metadata": {
        "id": "L1yhQU-dRFH4"
      }
    },
    {
      "cell_type": "markdown",
      "source": [
        "The following section of this report will be exploring the datset I have chosen to get a better\n",
        "understanding of it by using Python code. The code below is basic starter code that will import the\n",
        "python libraries needed to perform operations on the dataset. From there the datasets are read\n",
        "and extracted through variables.\n"
      ],
      "metadata": {
        "id": "rleMqdZrTDZ6"
      }
    },
    {
      "cell_type": "markdown",
      "source": [
        "# 1.4 Dealing with missing values"
      ],
      "metadata": {
        "id": "ABZmHhYTNSUw"
      }
    },
    {
      "cell_type": "markdown",
      "source": [
        "The method isnull was used to find if there are any missing values in the dataset, this information could\n",
        "be important as these missing values would need to be filled in during section 1.7, however as you can\n",
        "be see there are no missing values"
      ],
      "metadata": {
        "id": "c1fSuoKcLPNJ"
      }
    },
    {
      "cell_type": "code",
      "source": [
        "#Check for missing values in the dataset\n",
        "print(\"Seismic Bump Datset\")\n",
        "print()\n",
        "print (df.isnull().sum())\n",
        "print()"
      ],
      "metadata": {
        "colab": {
          "base_uri": "https://localhost:8080/"
        },
        "id": "vKhBJlm3LZYr",
        "outputId": "f35856f9-0546-4bd2-bd80-8f9a8a8da4e5"
      },
      "execution_count": null,
      "outputs": [
        {
          "output_type": "stream",
          "name": "stdout",
          "text": [
            "Seismic Bump Datset\n",
            "\n",
            "seismic           0\n",
            "seismoacoustic    0\n",
            "shift             0\n",
            "genergy           0\n",
            "gpuls             0\n",
            "gdenergy          0\n",
            "gdpuls            0\n",
            "ghazard           0\n",
            "nbumps            0\n",
            "nbumps2           0\n",
            "nbumps3           0\n",
            "nbumps4           0\n",
            "nbumps5           0\n",
            "nbumps6           0\n",
            "nbumps7           0\n",
            "nbumps89          0\n",
            "energy            0\n",
            "maxenergy         0\n",
            "class             0\n",
            "dtype: int64\n",
            "\n"
          ]
        }
      ]
    },
    {
      "cell_type": "markdown",
      "source": [
        "#1.5 Removing Unnecessary Features"
      ],
      "metadata": {
        "id": "tWYHYmOhNloe"
      }
    },
    {
      "cell_type": "markdown",
      "source": [
        "**1. Remove duplicate observations**<br>\n",
        "**2. Filter unwanted outliers**<br>\n",
        "**3. Fix structural errors**<br>\n",
        "**4. Fix missing data**<br>\n",
        "**5. Validate the data**\n"
      ],
      "metadata": {
        "id": "DovqBdtBDVi4"
      }
    },
    {
      "cell_type": "markdown",
      "source": [
        "![image.png](data:image/png;base64,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)"
      ],
      "metadata": {
        "id": "35OF5O60Dy6C"
      }
    },
    {
      "cell_type": "markdown",
      "source": [
        "https://www.obviously.ai/post/data-cleaning-in-machine-learning"
      ],
      "metadata": {
        "id": "w17Dr4GbD12Q"
      }
    },
    {
      "cell_type": "code",
      "source": [
        "# split the data into Features and Label (X, y)\n",
        "features = ['genergy','gpuls', 'gdenergy', 'gdpuls','nbumps', 'nbumps2', 'nbumps3', 'nbumps4', 'nbumps5', 'nbumps6', 'nbumps7', 'nbumps89', 'energy', 'maxenergy']\n",
        "X = df[features]# returns data frame\n",
        "y = df['class']"
      ],
      "metadata": {
        "id": "EzJ4UrqeOFsC"
      },
      "execution_count": null,
      "outputs": []
    },
    {
      "cell_type": "code",
      "source": [
        "#Copying the dataframe so I can work on it without messing up previous data\n",
        "dfc = df.copy()"
      ],
      "metadata": {
        "id": "VlVAHOUUOem8"
      },
      "execution_count": null,
      "outputs": []
    },
    {
      "cell_type": "code",
      "source": [
        "#Dropping irreivant columns to clean up the table\n",
        "dfc.drop(['seismic', 'seismoacoustic','nbumps', 'nbumps2', 'nbumps3', 'nbumps4', 'nbumps5', 'nbumps6', 'nbumps7', 'nbumps89'], axis = 1)"
      ],
      "metadata": {
        "colab": {
          "base_uri": "https://localhost:8080/",
          "height": 424
        },
        "id": "p_eO0B4COxlv",
        "outputId": "462ee657-2a2f-4750-d7e6-5fd6fd58b41b"
      },
      "execution_count": null,
      "outputs": [
        {
          "output_type": "execute_result",
          "data": {
            "text/plain": [
              "     shift  genergy  gpuls  gdenergy  gdpuls ghazard  energy  maxenergy  class\n",
              "0        N    15180     48       -72     -72       a       0          0      0\n",
              "1        N    14720     33       -70     -79       a    2000       2000      0\n",
              "2        N     8050     30       -81     -78       a       0          0      0\n",
              "3        N    28820    171       -23      40       a    3000       3000      0\n",
              "4        N    12640     57       -63     -52       a       0          0      0\n",
              "...    ...      ...    ...       ...     ...     ...     ...        ...    ...\n",
              "2579     W    81410    785       432     151       b       0          0      0\n",
              "2580     W    42110    555       213     118       a       0          0      0\n",
              "2581     W    26960    540       101     112       a       0          0      0\n",
              "2582     W    16130    322         2       2       a       0          0      0\n",
              "2583     W    12750    235       -10     -10       a       0          0      0\n",
              "\n",
              "[2584 rows x 9 columns]"
            ],
            "text/html": [
              "\n",
              "  <div id=\"df-bbb381fa-2a3a-4d15-9a27-0bd8cd9d63b9\">\n",
              "    <div class=\"colab-df-container\">\n",
              "      <div>\n",
              "<style scoped>\n",
              "    .dataframe tbody tr th:only-of-type {\n",
              "        vertical-align: middle;\n",
              "    }\n",
              "\n",
              "    .dataframe tbody tr th {\n",
              "        vertical-align: top;\n",
              "    }\n",
              "\n",
              "    .dataframe thead th {\n",
              "        text-align: right;\n",
              "    }\n",
              "</style>\n",
              "<table border=\"1\" class=\"dataframe\">\n",
              "  <thead>\n",
              "    <tr style=\"text-align: right;\">\n",
              "      <th></th>\n",
              "      <th>shift</th>\n",
              "      <th>genergy</th>\n",
              "      <th>gpuls</th>\n",
              "      <th>gdenergy</th>\n",
              "      <th>gdpuls</th>\n",
              "      <th>ghazard</th>\n",
              "      <th>energy</th>\n",
              "      <th>maxenergy</th>\n",
              "      <th>class</th>\n",
              "    </tr>\n",
              "  </thead>\n",
              "  <tbody>\n",
              "    <tr>\n",
              "      <th>0</th>\n",
              "      <td>N</td>\n",
              "      <td>15180</td>\n",
              "      <td>48</td>\n",
              "      <td>-72</td>\n",
              "      <td>-72</td>\n",
              "      <td>a</td>\n",
              "      <td>0</td>\n",
              "      <td>0</td>\n",
              "      <td>0</td>\n",
              "    </tr>\n",
              "    <tr>\n",
              "      <th>1</th>\n",
              "      <td>N</td>\n",
              "      <td>14720</td>\n",
              "      <td>33</td>\n",
              "      <td>-70</td>\n",
              "      <td>-79</td>\n",
              "      <td>a</td>\n",
              "      <td>2000</td>\n",
              "      <td>2000</td>\n",
              "      <td>0</td>\n",
              "    </tr>\n",
              "    <tr>\n",
              "      <th>2</th>\n",
              "      <td>N</td>\n",
              "      <td>8050</td>\n",
              "      <td>30</td>\n",
              "      <td>-81</td>\n",
              "      <td>-78</td>\n",
              "      <td>a</td>\n",
              "      <td>0</td>\n",
              "      <td>0</td>\n",
              "      <td>0</td>\n",
              "    </tr>\n",
              "    <tr>\n",
              "      <th>3</th>\n",
              "      <td>N</td>\n",
              "      <td>28820</td>\n",
              "      <td>171</td>\n",
              "      <td>-23</td>\n",
              "      <td>40</td>\n",
              "      <td>a</td>\n",
              "      <td>3000</td>\n",
              "      <td>3000</td>\n",
              "      <td>0</td>\n",
              "    </tr>\n",
              "    <tr>\n",
              "      <th>4</th>\n",
              "      <td>N</td>\n",
              "      <td>12640</td>\n",
              "      <td>57</td>\n",
              "      <td>-63</td>\n",
              "      <td>-52</td>\n",
              "      <td>a</td>\n",
              "      <td>0</td>\n",
              "      <td>0</td>\n",
              "      <td>0</td>\n",
              "    </tr>\n",
              "    <tr>\n",
              "      <th>...</th>\n",
              "      <td>...</td>\n",
              "      <td>...</td>\n",
              "      <td>...</td>\n",
              "      <td>...</td>\n",
              "      <td>...</td>\n",
              "      <td>...</td>\n",
              "      <td>...</td>\n",
              "      <td>...</td>\n",
              "      <td>...</td>\n",
              "    </tr>\n",
              "    <tr>\n",
              "      <th>2579</th>\n",
              "      <td>W</td>\n",
              "      <td>81410</td>\n",
              "      <td>785</td>\n",
              "      <td>432</td>\n",
              "      <td>151</td>\n",
              "      <td>b</td>\n",
              "      <td>0</td>\n",
              "      <td>0</td>\n",
              "      <td>0</td>\n",
              "    </tr>\n",
              "    <tr>\n",
              "      <th>2580</th>\n",
              "      <td>W</td>\n",
              "      <td>42110</td>\n",
              "      <td>555</td>\n",
              "      <td>213</td>\n",
              "      <td>118</td>\n",
              "      <td>a</td>\n",
              "      <td>0</td>\n",
              "      <td>0</td>\n",
              "      <td>0</td>\n",
              "    </tr>\n",
              "    <tr>\n",
              "      <th>2581</th>\n",
              "      <td>W</td>\n",
              "      <td>26960</td>\n",
              "      <td>540</td>\n",
              "      <td>101</td>\n",
              "      <td>112</td>\n",
              "      <td>a</td>\n",
              "      <td>0</td>\n",
              "      <td>0</td>\n",
              "      <td>0</td>\n",
              "    </tr>\n",
              "    <tr>\n",
              "      <th>2582</th>\n",
              "      <td>W</td>\n",
              "      <td>16130</td>\n",
              "      <td>322</td>\n",
              "      <td>2</td>\n",
              "      <td>2</td>\n",
              "      <td>a</td>\n",
              "      <td>0</td>\n",
              "      <td>0</td>\n",
              "      <td>0</td>\n",
              "    </tr>\n",
              "    <tr>\n",
              "      <th>2583</th>\n",
              "      <td>W</td>\n",
              "      <td>12750</td>\n",
              "      <td>235</td>\n",
              "      <td>-10</td>\n",
              "      <td>-10</td>\n",
              "      <td>a</td>\n",
              "      <td>0</td>\n",
              "      <td>0</td>\n",
              "      <td>0</td>\n",
              "    </tr>\n",
              "  </tbody>\n",
              "</table>\n",
              "<p>2584 rows × 9 columns</p>\n",
              "</div>\n",
              "      <button class=\"colab-df-convert\" onclick=\"convertToInteractive('df-bbb381fa-2a3a-4d15-9a27-0bd8cd9d63b9')\"\n",
              "              title=\"Convert this dataframe to an interactive table.\"\n",
              "              style=\"display:none;\">\n",
              "        \n",
              "  <svg xmlns=\"http://www.w3.org/2000/svg\" height=\"24px\"viewBox=\"0 0 24 24\"\n",
              "       width=\"24px\">\n",
              "    <path d=\"M0 0h24v24H0V0z\" fill=\"none\"/>\n",
              "    <path d=\"M18.56 5.44l.94 2.06.94-2.06 2.06-.94-2.06-.94-.94-2.06-.94 2.06-2.06.94zm-11 1L8.5 8.5l.94-2.06 2.06-.94-2.06-.94L8.5 2.5l-.94 2.06-2.06.94zm10 10l.94 2.06.94-2.06 2.06-.94-2.06-.94-.94-2.06-.94 2.06-2.06.94z\"/><path d=\"M17.41 7.96l-1.37-1.37c-.4-.4-.92-.59-1.43-.59-.52 0-1.04.2-1.43.59L10.3 9.45l-7.72 7.72c-.78.78-.78 2.05 0 2.83L4 21.41c.39.39.9.59 1.41.59.51 0 1.02-.2 1.41-.59l7.78-7.78 2.81-2.81c.8-.78.8-2.07 0-2.86zM5.41 20L4 18.59l7.72-7.72 1.47 1.35L5.41 20z\"/>\n",
              "  </svg>\n",
              "      </button>\n",
              "      \n",
              "  <style>\n",
              "    .colab-df-container {\n",
              "      display:flex;\n",
              "      flex-wrap:wrap;\n",
              "      gap: 12px;\n",
              "    }\n",
              "\n",
              "    .colab-df-convert {\n",
              "      background-color: #E8F0FE;\n",
              "      border: none;\n",
              "      border-radius: 50%;\n",
              "      cursor: pointer;\n",
              "      display: none;\n",
              "      fill: #1967D2;\n",
              "      height: 32px;\n",
              "      padding: 0 0 0 0;\n",
              "      width: 32px;\n",
              "    }\n",
              "\n",
              "    .colab-df-convert:hover {\n",
              "      background-color: #E2EBFA;\n",
              "      box-shadow: 0px 1px 2px rgba(60, 64, 67, 0.3), 0px 1px 3px 1px rgba(60, 64, 67, 0.15);\n",
              "      fill: #174EA6;\n",
              "    }\n",
              "\n",
              "    [theme=dark] .colab-df-convert {\n",
              "      background-color: #3B4455;\n",
              "      fill: #D2E3FC;\n",
              "    }\n",
              "\n",
              "    [theme=dark] .colab-df-convert:hover {\n",
              "      background-color: #434B5C;\n",
              "      box-shadow: 0px 1px 3px 1px rgba(0, 0, 0, 0.15);\n",
              "      filter: drop-shadow(0px 1px 2px rgba(0, 0, 0, 0.3));\n",
              "      fill: #FFFFFF;\n",
              "    }\n",
              "  </style>\n",
              "\n",
              "      <script>\n",
              "        const buttonEl =\n",
              "          document.querySelector('#df-bbb381fa-2a3a-4d15-9a27-0bd8cd9d63b9 button.colab-df-convert');\n",
              "        buttonEl.style.display =\n",
              "          google.colab.kernel.accessAllowed ? 'block' : 'none';\n",
              "\n",
              "        async function convertToInteractive(key) {\n",
              "          const element = document.querySelector('#df-bbb381fa-2a3a-4d15-9a27-0bd8cd9d63b9');\n",
              "          const dataTable =\n",
              "            await google.colab.kernel.invokeFunction('convertToInteractive',\n",
              "                                                     [key], {});\n",
              "          if (!dataTable) return;\n",
              "\n",
              "          const docLinkHtml = 'Like what you see? Visit the ' +\n",
              "            '<a target=\"_blank\" href=https://colab.research.google.com/notebooks/data_table.ipynb>data table notebook</a>'\n",
              "            + ' to learn more about interactive tables.';\n",
              "          element.innerHTML = '';\n",
              "          dataTable['output_type'] = 'display_data';\n",
              "          await google.colab.output.renderOutput(dataTable, element);\n",
              "          const docLink = document.createElement('div');\n",
              "          docLink.innerHTML = docLinkHtml;\n",
              "          element.appendChild(docLink);\n",
              "        }\n",
              "      </script>\n",
              "    </div>\n",
              "  </div>\n",
              "  "
            ]
          },
          "metadata": {},
          "execution_count": 6
        }
      ]
    },
    {
      "cell_type": "markdown",
      "source": [
        "## Class Distribution"
      ],
      "metadata": {
        "id": "uk6wbiJ1zYg5"
      }
    },
    {
      "cell_type": "markdown",
      "source": [
        "\n",
        "Next it is important to understand how many observations are \"hazardous state (class = 1)\" and \"non-hazardous state (class = 0)\""
      ],
      "metadata": {
        "id": "ubcJo1X6LugL"
      }
    },
    {
      "cell_type": "code",
      "source": [
        "#Get class distribution of datsets\n",
        "df['class'].value_counts()"
      ],
      "metadata": {
        "colab": {
          "base_uri": "https://localhost:8080/"
        },
        "id": "YXU4ll64L4zr",
        "outputId": "94d1d342-b552-43f9-cefa-7dc48186bb02"
      },
      "execution_count": null,
      "outputs": [
        {
          "output_type": "execute_result",
          "data": {
            "text/plain": [
              "0    2414\n",
              "1     170\n",
              "Name: class, dtype: int64"
            ]
          },
          "metadata": {},
          "execution_count": 7
        }
      ]
    },
    {
      "cell_type": "code",
      "source": [
        "pd.DataFrame({'count':df['class'].value_counts()}).head(10)"
      ],
      "metadata": {
        "colab": {
          "base_uri": "https://localhost:8080/"
        },
        "id": "1o2z9xSFqPAN",
        "outputId": "cc83be25-d8f6-4d45-c50f-ac8ec75c350a"
      },
      "execution_count": null,
      "outputs": [
        {
          "output_type": "execute_result",
          "data": {
            "text/plain": [
              "   count\n",
              "0   2414\n",
              "1    170"
            ],
            "text/html": [
              "\n",
              "  <div id=\"df-48784f3d-16db-4e9b-bcf1-9914717507b4\">\n",
              "    <div class=\"colab-df-container\">\n",
              "      <div>\n",
              "<style scoped>\n",
              "    .dataframe tbody tr th:only-of-type {\n",
              "        vertical-align: middle;\n",
              "    }\n",
              "\n",
              "    .dataframe tbody tr th {\n",
              "        vertical-align: top;\n",
              "    }\n",
              "\n",
              "    .dataframe thead th {\n",
              "        text-align: right;\n",
              "    }\n",
              "</style>\n",
              "<table border=\"1\" class=\"dataframe\">\n",
              "  <thead>\n",
              "    <tr style=\"text-align: right;\">\n",
              "      <th></th>\n",
              "      <th>count</th>\n",
              "    </tr>\n",
              "  </thead>\n",
              "  <tbody>\n",
              "    <tr>\n",
              "      <th>0</th>\n",
              "      <td>2414</td>\n",
              "    </tr>\n",
              "    <tr>\n",
              "      <th>1</th>\n",
              "      <td>170</td>\n",
              "    </tr>\n",
              "  </tbody>\n",
              "</table>\n",
              "</div>\n",
              "      <button class=\"colab-df-convert\" onclick=\"convertToInteractive('df-48784f3d-16db-4e9b-bcf1-9914717507b4')\"\n",
              "              title=\"Convert this dataframe to an interactive table.\"\n",
              "              style=\"display:none;\">\n",
              "        \n",
              "  <svg xmlns=\"http://www.w3.org/2000/svg\" height=\"24px\"viewBox=\"0 0 24 24\"\n",
              "       width=\"24px\">\n",
              "    <path d=\"M0 0h24v24H0V0z\" fill=\"none\"/>\n",
              "    <path d=\"M18.56 5.44l.94 2.06.94-2.06 2.06-.94-2.06-.94-.94-2.06-.94 2.06-2.06.94zm-11 1L8.5 8.5l.94-2.06 2.06-.94-2.06-.94L8.5 2.5l-.94 2.06-2.06.94zm10 10l.94 2.06.94-2.06 2.06-.94-2.06-.94-.94-2.06-.94 2.06-2.06.94z\"/><path d=\"M17.41 7.96l-1.37-1.37c-.4-.4-.92-.59-1.43-.59-.52 0-1.04.2-1.43.59L10.3 9.45l-7.72 7.72c-.78.78-.78 2.05 0 2.83L4 21.41c.39.39.9.59 1.41.59.51 0 1.02-.2 1.41-.59l7.78-7.78 2.81-2.81c.8-.78.8-2.07 0-2.86zM5.41 20L4 18.59l7.72-7.72 1.47 1.35L5.41 20z\"/>\n",
              "  </svg>\n",
              "      </button>\n",
              "      \n",
              "  <style>\n",
              "    .colab-df-container {\n",
              "      display:flex;\n",
              "      flex-wrap:wrap;\n",
              "      gap: 12px;\n",
              "    }\n",
              "\n",
              "    .colab-df-convert {\n",
              "      background-color: #E8F0FE;\n",
              "      border: none;\n",
              "      border-radius: 50%;\n",
              "      cursor: pointer;\n",
              "      display: none;\n",
              "      fill: #1967D2;\n",
              "      height: 32px;\n",
              "      padding: 0 0 0 0;\n",
              "      width: 32px;\n",
              "    }\n",
              "\n",
              "    .colab-df-convert:hover {\n",
              "      background-color: #E2EBFA;\n",
              "      box-shadow: 0px 1px 2px rgba(60, 64, 67, 0.3), 0px 1px 3px 1px rgba(60, 64, 67, 0.15);\n",
              "      fill: #174EA6;\n",
              "    }\n",
              "\n",
              "    [theme=dark] .colab-df-convert {\n",
              "      background-color: #3B4455;\n",
              "      fill: #D2E3FC;\n",
              "    }\n",
              "\n",
              "    [theme=dark] .colab-df-convert:hover {\n",
              "      background-color: #434B5C;\n",
              "      box-shadow: 0px 1px 3px 1px rgba(0, 0, 0, 0.15);\n",
              "      filter: drop-shadow(0px 1px 2px rgba(0, 0, 0, 0.3));\n",
              "      fill: #FFFFFF;\n",
              "    }\n",
              "  </style>\n",
              "\n",
              "      <script>\n",
              "        const buttonEl =\n",
              "          document.querySelector('#df-48784f3d-16db-4e9b-bcf1-9914717507b4 button.colab-df-convert');\n",
              "        buttonEl.style.display =\n",
              "          google.colab.kernel.accessAllowed ? 'block' : 'none';\n",
              "\n",
              "        async function convertToInteractive(key) {\n",
              "          const element = document.querySelector('#df-48784f3d-16db-4e9b-bcf1-9914717507b4');\n",
              "          const dataTable =\n",
              "            await google.colab.kernel.invokeFunction('convertToInteractive',\n",
              "                                                     [key], {});\n",
              "          if (!dataTable) return;\n",
              "\n",
              "          const docLinkHtml = 'Like what you see? Visit the ' +\n",
              "            '<a target=\"_blank\" href=https://colab.research.google.com/notebooks/data_table.ipynb>data table notebook</a>'\n",
              "            + ' to learn more about interactive tables.';\n",
              "          element.innerHTML = '';\n",
              "          dataTable['output_type'] = 'display_data';\n",
              "          await google.colab.output.renderOutput(dataTable, element);\n",
              "          const docLink = document.createElement('div');\n",
              "          docLink.innerHTML = docLinkHtml;\n",
              "          element.appendChild(docLink);\n",
              "        }\n",
              "      </script>\n",
              "    </div>\n",
              "  </div>\n",
              "  "
            ]
          },
          "metadata": {},
          "execution_count": 8
        }
      ]
    },
    {
      "cell_type": "markdown",
      "source": [
        "Balancing training data is an important part of data preprocessing. Data imbalance refers to when the classes in a dataset are not equally distributed, which can then lead to potential risks in training a model this will be solved further in the report"
      ],
      "metadata": {
        "id": "88KgZb_Sz6Qc"
      }
    },
    {
      "cell_type": "code",
      "source": [
        "g = df.groupby('class')\n",
        "g.apply(lambda x: x.sample(g.size().min()).reset_index(drop=True))"
      ],
      "metadata": {
        "id": "3I0VonrwWtbP",
        "colab": {
          "base_uri": "https://localhost:8080/"
        },
        "outputId": "0c1bc814-cd70-4c80-876a-f673e4037d6f"
      },
      "execution_count": null,
      "outputs": [
        {
          "output_type": "execute_result",
          "data": {
            "text/plain": [
              "          seismic seismoacoustic shift  genergy  gpuls  gdenergy  gdpuls  \\\n",
              "class                                                                      \n",
              "0     0         b              a     W    24100    392       -31     -29   \n",
              "      1         a              a     W   620720   1789        17      23   \n",
              "      2         b              a     N    10820    524        16      75   \n",
              "      3         b              b     W    36940    375        48     -25   \n",
              "      4         a              b     N    10540    321        15       3   \n",
              "...           ...            ...   ...      ...    ...       ...     ...   \n",
              "1     165       b              b     W    19680    288       121      37   \n",
              "      166       a              a     W   268170   1352       -41     -35   \n",
              "      167       a              b     W    20160    243       -47     -36   \n",
              "      168       a              a     W    29150    259         0      18   \n",
              "      169       b              b     W    54610    527        95      84   \n",
              "\n",
              "          ghazard  nbumps  nbumps2  nbumps3  nbumps4  nbumps5  nbumps6  \\\n",
              "class                                                                    \n",
              "0     0         a       0        0        0        0        0        0   \n",
              "      1         a       0        0        0        0        0        0   \n",
              "      2         a       0        0        0        0        0        0   \n",
              "      3         a       0        0        0        0        0        0   \n",
              "      4         a       0        0        0        0        0        0   \n",
              "...           ...     ...      ...      ...      ...      ...      ...   \n",
              "1     165       b       0        0        0        0        0        0   \n",
              "      166       a       1        1        0        0        0        0   \n",
              "      167       a       2        1        1        0        0        0   \n",
              "      168       a       1        1        0        0        0        0   \n",
              "      169       a       6        1        5        0        0        0   \n",
              "\n",
              "           nbumps7  nbumps89  energy  maxenergy  class  \n",
              "class                                                   \n",
              "0     0          0         0       0          0      0  \n",
              "      1          0         0       0          0      0  \n",
              "      2          0         0       0          0      0  \n",
              "      3          0         0       0          0      0  \n",
              "      4          0         0       0          0      0  \n",
              "...            ...       ...     ...        ...    ...  \n",
              "1     165        0         0       0          0      1  \n",
              "      166        0         0     400        400      1  \n",
              "      167        0         0    2700       2000      1  \n",
              "      168        0         0     600        600      1  \n",
              "      169        0         0   14700       4000      1  \n",
              "\n",
              "[340 rows x 19 columns]"
            ],
            "text/html": [
              "\n",
              "  <div id=\"df-a0704480-3096-41bf-826a-b204647f89a4\">\n",
              "    <div class=\"colab-df-container\">\n",
              "      <div>\n",
              "<style scoped>\n",
              "    .dataframe tbody tr th:only-of-type {\n",
              "        vertical-align: middle;\n",
              "    }\n",
              "\n",
              "    .dataframe tbody tr th {\n",
              "        vertical-align: top;\n",
              "    }\n",
              "\n",
              "    .dataframe thead th {\n",
              "        text-align: right;\n",
              "    }\n",
              "</style>\n",
              "<table border=\"1\" class=\"dataframe\">\n",
              "  <thead>\n",
              "    <tr style=\"text-align: right;\">\n",
              "      <th></th>\n",
              "      <th></th>\n",
              "      <th>seismic</th>\n",
              "      <th>seismoacoustic</th>\n",
              "      <th>shift</th>\n",
              "      <th>genergy</th>\n",
              "      <th>gpuls</th>\n",
              "      <th>gdenergy</th>\n",
              "      <th>gdpuls</th>\n",
              "      <th>ghazard</th>\n",
              "      <th>nbumps</th>\n",
              "      <th>nbumps2</th>\n",
              "      <th>nbumps3</th>\n",
              "      <th>nbumps4</th>\n",
              "      <th>nbumps5</th>\n",
              "      <th>nbumps6</th>\n",
              "      <th>nbumps7</th>\n",
              "      <th>nbumps89</th>\n",
              "      <th>energy</th>\n",
              "      <th>maxenergy</th>\n",
              "      <th>class</th>\n",
              "    </tr>\n",
              "    <tr>\n",
              "      <th>class</th>\n",
              "      <th></th>\n",
              "      <th></th>\n",
              "      <th></th>\n",
              "      <th></th>\n",
              "      <th></th>\n",
              "      <th></th>\n",
              "      <th></th>\n",
              "      <th></th>\n",
              "      <th></th>\n",
              "      <th></th>\n",
              "      <th></th>\n",
              "      <th></th>\n",
              "      <th></th>\n",
              "      <th></th>\n",
              "      <th></th>\n",
              "      <th></th>\n",
              "      <th></th>\n",
              "      <th></th>\n",
              "      <th></th>\n",
              "      <th></th>\n",
              "    </tr>\n",
              "  </thead>\n",
              "  <tbody>\n",
              "    <tr>\n",
              "      <th rowspan=\"5\" valign=\"top\">0</th>\n",
              "      <th>0</th>\n",
              "      <td>b</td>\n",
              "      <td>a</td>\n",
              "      <td>W</td>\n",
              "      <td>24100</td>\n",
              "      <td>392</td>\n",
              "      <td>-31</td>\n",
              "      <td>-29</td>\n",
              "      <td>a</td>\n",
              "      <td>0</td>\n",
              "      <td>0</td>\n",
              "      <td>0</td>\n",
              "      <td>0</td>\n",
              "      <td>0</td>\n",
              "      <td>0</td>\n",
              "      <td>0</td>\n",
              "      <td>0</td>\n",
              "      <td>0</td>\n",
              "      <td>0</td>\n",
              "      <td>0</td>\n",
              "    </tr>\n",
              "    <tr>\n",
              "      <th>1</th>\n",
              "      <td>a</td>\n",
              "      <td>a</td>\n",
              "      <td>W</td>\n",
              "      <td>620720</td>\n",
              "      <td>1789</td>\n",
              "      <td>17</td>\n",
              "      <td>23</td>\n",
              "      <td>a</td>\n",
              "      <td>0</td>\n",
              "      <td>0</td>\n",
              "      <td>0</td>\n",
              "      <td>0</td>\n",
              "      <td>0</td>\n",
              "      <td>0</td>\n",
              "      <td>0</td>\n",
              "      <td>0</td>\n",
              "      <td>0</td>\n",
              "      <td>0</td>\n",
              "      <td>0</td>\n",
              "    </tr>\n",
              "    <tr>\n",
              "      <th>2</th>\n",
              "      <td>b</td>\n",
              "      <td>a</td>\n",
              "      <td>N</td>\n",
              "      <td>10820</td>\n",
              "      <td>524</td>\n",
              "      <td>16</td>\n",
              "      <td>75</td>\n",
              "      <td>a</td>\n",
              "      <td>0</td>\n",
              "      <td>0</td>\n",
              "      <td>0</td>\n",
              "      <td>0</td>\n",
              "      <td>0</td>\n",
              "      <td>0</td>\n",
              "      <td>0</td>\n",
              "      <td>0</td>\n",
              "      <td>0</td>\n",
              "      <td>0</td>\n",
              "      <td>0</td>\n",
              "    </tr>\n",
              "    <tr>\n",
              "      <th>3</th>\n",
              "      <td>b</td>\n",
              "      <td>b</td>\n",
              "      <td>W</td>\n",
              "      <td>36940</td>\n",
              "      <td>375</td>\n",
              "      <td>48</td>\n",
              "      <td>-25</td>\n",
              "      <td>a</td>\n",
              "      <td>0</td>\n",
              "      <td>0</td>\n",
              "      <td>0</td>\n",
              "      <td>0</td>\n",
              "      <td>0</td>\n",
              "      <td>0</td>\n",
              "      <td>0</td>\n",
              "      <td>0</td>\n",
              "      <td>0</td>\n",
              "      <td>0</td>\n",
              "      <td>0</td>\n",
              "    </tr>\n",
              "    <tr>\n",
              "      <th>4</th>\n",
              "      <td>a</td>\n",
              "      <td>b</td>\n",
              "      <td>N</td>\n",
              "      <td>10540</td>\n",
              "      <td>321</td>\n",
              "      <td>15</td>\n",
              "      <td>3</td>\n",
              "      <td>a</td>\n",
              "      <td>0</td>\n",
              "      <td>0</td>\n",
              "      <td>0</td>\n",
              "      <td>0</td>\n",
              "      <td>0</td>\n",
              "      <td>0</td>\n",
              "      <td>0</td>\n",
              "      <td>0</td>\n",
              "      <td>0</td>\n",
              "      <td>0</td>\n",
              "      <td>0</td>\n",
              "    </tr>\n",
              "    <tr>\n",
              "      <th>...</th>\n",
              "      <th>...</th>\n",
              "      <td>...</td>\n",
              "      <td>...</td>\n",
              "      <td>...</td>\n",
              "      <td>...</td>\n",
              "      <td>...</td>\n",
              "      <td>...</td>\n",
              "      <td>...</td>\n",
              "      <td>...</td>\n",
              "      <td>...</td>\n",
              "      <td>...</td>\n",
              "      <td>...</td>\n",
              "      <td>...</td>\n",
              "      <td>...</td>\n",
              "      <td>...</td>\n",
              "      <td>...</td>\n",
              "      <td>...</td>\n",
              "      <td>...</td>\n",
              "      <td>...</td>\n",
              "      <td>...</td>\n",
              "    </tr>\n",
              "    <tr>\n",
              "      <th rowspan=\"5\" valign=\"top\">1</th>\n",
              "      <th>165</th>\n",
              "      <td>b</td>\n",
              "      <td>b</td>\n",
              "      <td>W</td>\n",
              "      <td>19680</td>\n",
              "      <td>288</td>\n",
              "      <td>121</td>\n",
              "      <td>37</td>\n",
              "      <td>b</td>\n",
              "      <td>0</td>\n",
              "      <td>0</td>\n",
              "      <td>0</td>\n",
              "      <td>0</td>\n",
              "      <td>0</td>\n",
              "      <td>0</td>\n",
              "      <td>0</td>\n",
              "      <td>0</td>\n",
              "      <td>0</td>\n",
              "      <td>0</td>\n",
              "      <td>1</td>\n",
              "    </tr>\n",
              "    <tr>\n",
              "      <th>166</th>\n",
              "      <td>a</td>\n",
              "      <td>a</td>\n",
              "      <td>W</td>\n",
              "      <td>268170</td>\n",
              "      <td>1352</td>\n",
              "      <td>-41</td>\n",
              "      <td>-35</td>\n",
              "      <td>a</td>\n",
              "      <td>1</td>\n",
              "      <td>1</td>\n",
              "      <td>0</td>\n",
              "      <td>0</td>\n",
              "      <td>0</td>\n",
              "      <td>0</td>\n",
              "      <td>0</td>\n",
              "      <td>0</td>\n",
              "      <td>400</td>\n",
              "      <td>400</td>\n",
              "      <td>1</td>\n",
              "    </tr>\n",
              "    <tr>\n",
              "      <th>167</th>\n",
              "      <td>a</td>\n",
              "      <td>b</td>\n",
              "      <td>W</td>\n",
              "      <td>20160</td>\n",
              "      <td>243</td>\n",
              "      <td>-47</td>\n",
              "      <td>-36</td>\n",
              "      <td>a</td>\n",
              "      <td>2</td>\n",
              "      <td>1</td>\n",
              "      <td>1</td>\n",
              "      <td>0</td>\n",
              "      <td>0</td>\n",
              "      <td>0</td>\n",
              "      <td>0</td>\n",
              "      <td>0</td>\n",
              "      <td>2700</td>\n",
              "      <td>2000</td>\n",
              "      <td>1</td>\n",
              "    </tr>\n",
              "    <tr>\n",
              "      <th>168</th>\n",
              "      <td>a</td>\n",
              "      <td>a</td>\n",
              "      <td>W</td>\n",
              "      <td>29150</td>\n",
              "      <td>259</td>\n",
              "      <td>0</td>\n",
              "      <td>18</td>\n",
              "      <td>a</td>\n",
              "      <td>1</td>\n",
              "      <td>1</td>\n",
              "      <td>0</td>\n",
              "      <td>0</td>\n",
              "      <td>0</td>\n",
              "      <td>0</td>\n",
              "      <td>0</td>\n",
              "      <td>0</td>\n",
              "      <td>600</td>\n",
              "      <td>600</td>\n",
              "      <td>1</td>\n",
              "    </tr>\n",
              "    <tr>\n",
              "      <th>169</th>\n",
              "      <td>b</td>\n",
              "      <td>b</td>\n",
              "      <td>W</td>\n",
              "      <td>54610</td>\n",
              "      <td>527</td>\n",
              "      <td>95</td>\n",
              "      <td>84</td>\n",
              "      <td>a</td>\n",
              "      <td>6</td>\n",
              "      <td>1</td>\n",
              "      <td>5</td>\n",
              "      <td>0</td>\n",
              "      <td>0</td>\n",
              "      <td>0</td>\n",
              "      <td>0</td>\n",
              "      <td>0</td>\n",
              "      <td>14700</td>\n",
              "      <td>4000</td>\n",
              "      <td>1</td>\n",
              "    </tr>\n",
              "  </tbody>\n",
              "</table>\n",
              "<p>340 rows × 19 columns</p>\n",
              "</div>\n",
              "      <button class=\"colab-df-convert\" onclick=\"convertToInteractive('df-a0704480-3096-41bf-826a-b204647f89a4')\"\n",
              "              title=\"Convert this dataframe to an interactive table.\"\n",
              "              style=\"display:none;\">\n",
              "        \n",
              "  <svg xmlns=\"http://www.w3.org/2000/svg\" height=\"24px\"viewBox=\"0 0 24 24\"\n",
              "       width=\"24px\">\n",
              "    <path d=\"M0 0h24v24H0V0z\" fill=\"none\"/>\n",
              "    <path d=\"M18.56 5.44l.94 2.06.94-2.06 2.06-.94-2.06-.94-.94-2.06-.94 2.06-2.06.94zm-11 1L8.5 8.5l.94-2.06 2.06-.94-2.06-.94L8.5 2.5l-.94 2.06-2.06.94zm10 10l.94 2.06.94-2.06 2.06-.94-2.06-.94-.94-2.06-.94 2.06-2.06.94z\"/><path d=\"M17.41 7.96l-1.37-1.37c-.4-.4-.92-.59-1.43-.59-.52 0-1.04.2-1.43.59L10.3 9.45l-7.72 7.72c-.78.78-.78 2.05 0 2.83L4 21.41c.39.39.9.59 1.41.59.51 0 1.02-.2 1.41-.59l7.78-7.78 2.81-2.81c.8-.78.8-2.07 0-2.86zM5.41 20L4 18.59l7.72-7.72 1.47 1.35L5.41 20z\"/>\n",
              "  </svg>\n",
              "      </button>\n",
              "      \n",
              "  <style>\n",
              "    .colab-df-container {\n",
              "      display:flex;\n",
              "      flex-wrap:wrap;\n",
              "      gap: 12px;\n",
              "    }\n",
              "\n",
              "    .colab-df-convert {\n",
              "      background-color: #E8F0FE;\n",
              "      border: none;\n",
              "      border-radius: 50%;\n",
              "      cursor: pointer;\n",
              "      display: none;\n",
              "      fill: #1967D2;\n",
              "      height: 32px;\n",
              "      padding: 0 0 0 0;\n",
              "      width: 32px;\n",
              "    }\n",
              "\n",
              "    .colab-df-convert:hover {\n",
              "      background-color: #E2EBFA;\n",
              "      box-shadow: 0px 1px 2px rgba(60, 64, 67, 0.3), 0px 1px 3px 1px rgba(60, 64, 67, 0.15);\n",
              "      fill: #174EA6;\n",
              "    }\n",
              "\n",
              "    [theme=dark] .colab-df-convert {\n",
              "      background-color: #3B4455;\n",
              "      fill: #D2E3FC;\n",
              "    }\n",
              "\n",
              "    [theme=dark] .colab-df-convert:hover {\n",
              "      background-color: #434B5C;\n",
              "      box-shadow: 0px 1px 3px 1px rgba(0, 0, 0, 0.15);\n",
              "      filter: drop-shadow(0px 1px 2px rgba(0, 0, 0, 0.3));\n",
              "      fill: #FFFFFF;\n",
              "    }\n",
              "  </style>\n",
              "\n",
              "      <script>\n",
              "        const buttonEl =\n",
              "          document.querySelector('#df-a0704480-3096-41bf-826a-b204647f89a4 button.colab-df-convert');\n",
              "        buttonEl.style.display =\n",
              "          google.colab.kernel.accessAllowed ? 'block' : 'none';\n",
              "\n",
              "        async function convertToInteractive(key) {\n",
              "          const element = document.querySelector('#df-a0704480-3096-41bf-826a-b204647f89a4');\n",
              "          const dataTable =\n",
              "            await google.colab.kernel.invokeFunction('convertToInteractive',\n",
              "                                                     [key], {});\n",
              "          if (!dataTable) return;\n",
              "\n",
              "          const docLinkHtml = 'Like what you see? Visit the ' +\n",
              "            '<a target=\"_blank\" href=https://colab.research.google.com/notebooks/data_table.ipynb>data table notebook</a>'\n",
              "            + ' to learn more about interactive tables.';\n",
              "          element.innerHTML = '';\n",
              "          dataTable['output_type'] = 'display_data';\n",
              "          await google.colab.output.renderOutput(dataTable, element);\n",
              "          const docLink = document.createElement('div');\n",
              "          docLink.innerHTML = docLinkHtml;\n",
              "          element.appendChild(docLink);\n",
              "        }\n",
              "      </script>\n",
              "    </div>\n",
              "  </div>\n",
              "  "
            ]
          },
          "metadata": {},
          "execution_count": 9
        }
      ]
    },
    {
      "cell_type": "markdown",
      "source": [
        "The x in the lambda ends up being a dataframe that is the subset of df represented by the group. Each of these dataframes, one for each group, gets passed through this lambda.\n",
        "\n",
        "g is the groupby object. I placed it in a named variable because I planned on using it twice.\n",
        "\n",
        "df.groupby('class').size() is an alternative way to do df['class'].value_counts() but since I was going to groupby anyway, I might as well reuse the same groupby, use a size to get the value counts as it saves time.\n",
        "\n",
        "Those numbers are the the index values from df that go with the sampling. I added reset_index(drop=True) to get rid of it."
      ],
      "metadata": {
        "id": "pmTbs3HvYLhq"
      }
    },
    {
      "cell_type": "markdown",
      "source": [
        "## Target Value"
      ],
      "metadata": {
        "id": "i2chlPlkOhJj"
      }
    },
    {
      "cell_type": "markdown",
      "source": [
        "The tables below are the target of this report classes between non-hazardous and hazardous selected as 0 and 1.\n",
        "\n",
        "As mentioned above, the data set output variable is highly skewed, and contains many more non-hazardous classes than it does hazardous classes.\n",
        "\n",
        "As show in the countplot below the dataset is imbalanced. This will be fixed in the sampling process further along in this report."
      ],
      "metadata": {
        "id": "3Ok1sonIMRf8"
      }
    },
    {
      "cell_type": "code",
      "source": [
        "plt.figure(figsize=(10,5))\n",
        "sns.countplot(df['class'])\n",
        "plt.show()"
      ],
      "metadata": {
        "colab": {
          "base_uri": "https://localhost:8080/"
        },
        "id": "Q1XLK3TyUjLB",
        "outputId": "9d200035-c278-4feb-8f25-366c8c0149dd"
      },
      "execution_count": null,
      "outputs": [
        {
          "output_type": "stream",
          "name": "stderr",
          "text": [
            "/usr/local/lib/python3.8/dist-packages/seaborn/_decorators.py:36: FutureWarning: Pass the following variable as a keyword arg: x. From version 0.12, the only valid positional argument will be `data`, and passing other arguments without an explicit keyword will result in an error or misinterpretation.\n",
            "  warnings.warn(\n"
          ]
        },
        {
          "output_type": "display_data",
          "data": {
            "text/plain": [
              "<Figure size 720x360 with 1 Axes>"
            ],
            "image/png": "[encoded data removed]"
          },
          "metadata": {
            "needs_background": "light"
          }
        }
      ]
    },
    {
      "cell_type": "code",
      "source": [
        "g = df.groupby('class')\n",
        "g.apply(lambda x: x.sample(g.size().min()).reset_index(drop=True))"
      ],
      "metadata": {
        "id": "MAFiR47zyF6v",
        "colab": {
          "base_uri": "https://localhost:8080/"
        },
        "outputId": "84ec16cc-2d22-4e3d-cc15-ded040b42d44"
      },
      "execution_count": null,
      "outputs": [
        {
          "output_type": "execute_result",
          "data": {
            "text/plain": [
              "          seismic seismoacoustic shift  genergy  gpuls  gdenergy  gdpuls  \\\n",
              "class                                                                      \n",
              "0     0         a              a     N      950      4       -40     -90   \n",
              "      1         a              b     N    96600    383        87      70   \n",
              "      2         b              b     W   439210   2259       -21      -2   \n",
              "      3         b              a     W    32490    595        -7       7   \n",
              "      4         a              a     W    22220    415        -5     -11   \n",
              "...           ...            ...   ...      ...    ...       ...     ...   \n",
              "1     165       b              a     W    19520    211        -2       6   \n",
              "      166       b              a     W    91510    768       -78     -69   \n",
              "      167       a              a     N     6040    112       -44     -24   \n",
              "      168       b              b     W   690550   3915        28      29   \n",
              "      169       a              a     N     7570     69        69      67   \n",
              "\n",
              "          ghazard  nbumps  nbumps2  nbumps3  nbumps4  nbumps5  nbumps6  \\\n",
              "class                                                                    \n",
              "0     0         a       0        0        0        0        0        0   \n",
              "      1         a       0        0        0        0        0        0   \n",
              "      2         a       6        3        2        1        0        0   \n",
              "      3         a       0        0        0        0        0        0   \n",
              "      4         a       1        0        1        0        0        0   \n",
              "...           ...     ...      ...      ...      ...      ...      ...   \n",
              "1     165       a       2        1        1        0        0        0   \n",
              "      166       a       3        2        1        0        0        0   \n",
              "      167       a       2        1        1        0        0        0   \n",
              "      168       a       3        1        1        1        0        0   \n",
              "      169       a       1        0        1        0        0        0   \n",
              "\n",
              "           nbumps7  nbumps89  energy  maxenergy  class  \n",
              "class                                                   \n",
              "0     0          0         0       0          0      0  \n",
              "      1          0         0       0          0      0  \n",
              "      2          0         0   18000      10000      0  \n",
              "      3          0         0       0          0      0  \n",
              "      4          0         0    7000       7000      0  \n",
              "...            ...       ...     ...        ...    ...  \n",
              "1     165        0         0    3200       3000      1  \n",
              "      166        0         0    5900       5000      1  \n",
              "      167        0         0    2400       2000      1  \n",
              "      168        0         0   34400      30000      1  \n",
              "      169        0         0    5000       5000      1  \n",
              "\n",
              "[340 rows x 19 columns]"
            ],
            "text/html": [
              "\n",
              "  <div id=\"df-5d3e116b-bfc4-490c-bd20-df494ea0b741\">\n",
              "    <div class=\"colab-df-container\">\n",
              "      <div>\n",
              "<style scoped>\n",
              "    .dataframe tbody tr th:only-of-type {\n",
              "        vertical-align: middle;\n",
              "    }\n",
              "\n",
              "    .dataframe tbody tr th {\n",
              "        vertical-align: top;\n",
              "    }\n",
              "\n",
              "    .dataframe thead th {\n",
              "        text-align: right;\n",
              "    }\n",
              "</style>\n",
              "<table border=\"1\" class=\"dataframe\">\n",
              "  <thead>\n",
              "    <tr style=\"text-align: right;\">\n",
              "      <th></th>\n",
              "      <th></th>\n",
              "      <th>seismic</th>\n",
              "      <th>seismoacoustic</th>\n",
              "      <th>shift</th>\n",
              "      <th>genergy</th>\n",
              "      <th>gpuls</th>\n",
              "      <th>gdenergy</th>\n",
              "      <th>gdpuls</th>\n",
              "      <th>ghazard</th>\n",
              "      <th>nbumps</th>\n",
              "      <th>nbumps2</th>\n",
              "      <th>nbumps3</th>\n",
              "      <th>nbumps4</th>\n",
              "      <th>nbumps5</th>\n",
              "      <th>nbumps6</th>\n",
              "      <th>nbumps7</th>\n",
              "      <th>nbumps89</th>\n",
              "      <th>energy</th>\n",
              "      <th>maxenergy</th>\n",
              "      <th>class</th>\n",
              "    </tr>\n",
              "    <tr>\n",
              "      <th>class</th>\n",
              "      <th></th>\n",
              "      <th></th>\n",
              "      <th></th>\n",
              "      <th></th>\n",
              "      <th></th>\n",
              "      <th></th>\n",
              "      <th></th>\n",
              "      <th></th>\n",
              "      <th></th>\n",
              "      <th></th>\n",
              "      <th></th>\n",
              "      <th></th>\n",
              "      <th></th>\n",
              "      <th></th>\n",
              "      <th></th>\n",
              "      <th></th>\n",
              "      <th></th>\n",
              "      <th></th>\n",
              "      <th></th>\n",
              "      <th></th>\n",
              "    </tr>\n",
              "  </thead>\n",
              "  <tbody>\n",
              "    <tr>\n",
              "      <th rowspan=\"5\" valign=\"top\">0</th>\n",
              "      <th>0</th>\n",
              "      <td>a</td>\n",
              "      <td>a</td>\n",
              "      <td>N</td>\n",
              "      <td>950</td>\n",
              "      <td>4</td>\n",
              "      <td>-40</td>\n",
              "      <td>-90</td>\n",
              "      <td>a</td>\n",
              "      <td>0</td>\n",
              "      <td>0</td>\n",
              "      <td>0</td>\n",
              "      <td>0</td>\n",
              "      <td>0</td>\n",
              "      <td>0</td>\n",
              "      <td>0</td>\n",
              "      <td>0</td>\n",
              "      <td>0</td>\n",
              "      <td>0</td>\n",
              "      <td>0</td>\n",
              "    </tr>\n",
              "    <tr>\n",
              "      <th>1</th>\n",
              "      <td>a</td>\n",
              "      <td>b</td>\n",
              "      <td>N</td>\n",
              "      <td>96600</td>\n",
              "      <td>383</td>\n",
              "      <td>87</td>\n",
              "      <td>70</td>\n",
              "      <td>a</td>\n",
              "      <td>0</td>\n",
              "      <td>0</td>\n",
              "      <td>0</td>\n",
              "      <td>0</td>\n",
              "      <td>0</td>\n",
              "      <td>0</td>\n",
              "      <td>0</td>\n",
              "      <td>0</td>\n",
              "      <td>0</td>\n",
              "      <td>0</td>\n",
              "      <td>0</td>\n",
              "    </tr>\n",
              "    <tr>\n",
              "      <th>2</th>\n",
              "      <td>b</td>\n",
              "      <td>b</td>\n",
              "      <td>W</td>\n",
              "      <td>439210</td>\n",
              "      <td>2259</td>\n",
              "      <td>-21</td>\n",
              "      <td>-2</td>\n",
              "      <td>a</td>\n",
              "      <td>6</td>\n",
              "      <td>3</td>\n",
              "      <td>2</td>\n",
              "      <td>1</td>\n",
              "      <td>0</td>\n",
              "      <td>0</td>\n",
              "      <td>0</td>\n",
              "      <td>0</td>\n",
              "      <td>18000</td>\n",
              "      <td>10000</td>\n",
              "      <td>0</td>\n",
              "    </tr>\n",
              "    <tr>\n",
              "      <th>3</th>\n",
              "      <td>b</td>\n",
              "      <td>a</td>\n",
              "      <td>W</td>\n",
              "      <td>32490</td>\n",
              "      <td>595</td>\n",
              "      <td>-7</td>\n",
              "      <td>7</td>\n",
              "      <td>a</td>\n",
              "      <td>0</td>\n",
              "      <td>0</td>\n",
              "      <td>0</td>\n",
              "      <td>0</td>\n",
              "      <td>0</td>\n",
              "      <td>0</td>\n",
              "      <td>0</td>\n",
              "      <td>0</td>\n",
              "      <td>0</td>\n",
              "      <td>0</td>\n",
              "      <td>0</td>\n",
              "    </tr>\n",
              "    <tr>\n",
              "      <th>4</th>\n",
              "      <td>a</td>\n",
              "      <td>a</td>\n",
              "      <td>W</td>\n",
              "      <td>22220</td>\n",
              "      <td>415</td>\n",
              "      <td>-5</td>\n",
              "      <td>-11</td>\n",
              "      <td>a</td>\n",
              "      <td>1</td>\n",
              "      <td>0</td>\n",
              "      <td>1</td>\n",
              "      <td>0</td>\n",
              "      <td>0</td>\n",
              "      <td>0</td>\n",
              "      <td>0</td>\n",
              "      <td>0</td>\n",
              "      <td>7000</td>\n",
              "      <td>7000</td>\n",
              "      <td>0</td>\n",
              "    </tr>\n",
              "    <tr>\n",
              "      <th>...</th>\n",
              "      <th>...</th>\n",
              "      <td>...</td>\n",
              "      <td>...</td>\n",
              "      <td>...</td>\n",
              "      <td>...</td>\n",
              "      <td>...</td>\n",
              "      <td>...</td>\n",
              "      <td>...</td>\n",
              "      <td>...</td>\n",
              "      <td>...</td>\n",
              "      <td>...</td>\n",
              "      <td>...</td>\n",
              "      <td>...</td>\n",
              "      <td>...</td>\n",
              "      <td>...</td>\n",
              "      <td>...</td>\n",
              "      <td>...</td>\n",
              "      <td>...</td>\n",
              "      <td>...</td>\n",
              "      <td>...</td>\n",
              "    </tr>\n",
              "    <tr>\n",
              "      <th rowspan=\"5\" valign=\"top\">1</th>\n",
              "      <th>165</th>\n",
              "      <td>b</td>\n",
              "      <td>a</td>\n",
              "      <td>W</td>\n",
              "      <td>19520</td>\n",
              "      <td>211</td>\n",
              "      <td>-2</td>\n",
              "      <td>6</td>\n",
              "      <td>a</td>\n",
              "      <td>2</td>\n",
              "      <td>1</td>\n",
              "      <td>1</td>\n",
              "      <td>0</td>\n",
              "      <td>0</td>\n",
              "      <td>0</td>\n",
              "      <td>0</td>\n",
              "      <td>0</td>\n",
              "      <td>3200</td>\n",
              "      <td>3000</td>\n",
              "      <td>1</td>\n",
              "    </tr>\n",
              "    <tr>\n",
              "      <th>166</th>\n",
              "      <td>b</td>\n",
              "      <td>a</td>\n",
              "      <td>W</td>\n",
              "      <td>91510</td>\n",
              "      <td>768</td>\n",
              "      <td>-78</td>\n",
              "      <td>-69</td>\n",
              "      <td>a</td>\n",
              "      <td>3</td>\n",
              "      <td>2</td>\n",
              "      <td>1</td>\n",
              "      <td>0</td>\n",
              "      <td>0</td>\n",
              "      <td>0</td>\n",
              "      <td>0</td>\n",
              "      <td>0</td>\n",
              "      <td>5900</td>\n",
              "      <td>5000</td>\n",
              "      <td>1</td>\n",
              "    </tr>\n",
              "    <tr>\n",
              "      <th>167</th>\n",
              "      <td>a</td>\n",
              "      <td>a</td>\n",
              "      <td>N</td>\n",
              "      <td>6040</td>\n",
              "      <td>112</td>\n",
              "      <td>-44</td>\n",
              "      <td>-24</td>\n",
              "      <td>a</td>\n",
              "      <td>2</td>\n",
              "      <td>1</td>\n",
              "      <td>1</td>\n",
              "      <td>0</td>\n",
              "      <td>0</td>\n",
              "      <td>0</td>\n",
              "      <td>0</td>\n",
              "      <td>0</td>\n",
              "      <td>2400</td>\n",
              "      <td>2000</td>\n",
              "      <td>1</td>\n",
              "    </tr>\n",
              "    <tr>\n",
              "      <th>168</th>\n",
              "      <td>b</td>\n",
              "      <td>b</td>\n",
              "      <td>W</td>\n",
              "      <td>690550</td>\n",
              "      <td>3915</td>\n",
              "      <td>28</td>\n",
              "      <td>29</td>\n",
              "      <td>a</td>\n",
              "      <td>3</td>\n",
              "      <td>1</td>\n",
              "      <td>1</td>\n",
              "      <td>1</td>\n",
              "      <td>0</td>\n",
              "      <td>0</td>\n",
              "      <td>0</td>\n",
              "      <td>0</td>\n",
              "      <td>34400</td>\n",
              "      <td>30000</td>\n",
              "      <td>1</td>\n",
              "    </tr>\n",
              "    <tr>\n",
              "      <th>169</th>\n",
              "      <td>a</td>\n",
              "      <td>a</td>\n",
              "      <td>N</td>\n",
              "      <td>7570</td>\n",
              "      <td>69</td>\n",
              "      <td>69</td>\n",
              "      <td>67</td>\n",
              "      <td>a</td>\n",
              "      <td>1</td>\n",
              "      <td>0</td>\n",
              "      <td>1</td>\n",
              "      <td>0</td>\n",
              "      <td>0</td>\n",
              "      <td>0</td>\n",
              "      <td>0</td>\n",
              "      <td>0</td>\n",
              "      <td>5000</td>\n",
              "      <td>5000</td>\n",
              "      <td>1</td>\n",
              "    </tr>\n",
              "  </tbody>\n",
              "</table>\n",
              "<p>340 rows × 19 columns</p>\n",
              "</div>\n",
              "      <button class=\"colab-df-convert\" onclick=\"convertToInteractive('df-5d3e116b-bfc4-490c-bd20-df494ea0b741')\"\n",
              "              title=\"Convert this dataframe to an interactive table.\"\n",
              "              style=\"display:none;\">\n",
              "        \n",
              "  <svg xmlns=\"http://www.w3.org/2000/svg\" height=\"24px\"viewBox=\"0 0 24 24\"\n",
              "       width=\"24px\">\n",
              "    <path d=\"M0 0h24v24H0V0z\" fill=\"none\"/>\n",
              "    <path d=\"M18.56 5.44l.94 2.06.94-2.06 2.06-.94-2.06-.94-.94-2.06-.94 2.06-2.06.94zm-11 1L8.5 8.5l.94-2.06 2.06-.94-2.06-.94L8.5 2.5l-.94 2.06-2.06.94zm10 10l.94 2.06.94-2.06 2.06-.94-2.06-.94-.94-2.06-.94 2.06-2.06.94z\"/><path d=\"M17.41 7.96l-1.37-1.37c-.4-.4-.92-.59-1.43-.59-.52 0-1.04.2-1.43.59L10.3 9.45l-7.72 7.72c-.78.78-.78 2.05 0 2.83L4 21.41c.39.39.9.59 1.41.59.51 0 1.02-.2 1.41-.59l7.78-7.78 2.81-2.81c.8-.78.8-2.07 0-2.86zM5.41 20L4 18.59l7.72-7.72 1.47 1.35L5.41 20z\"/>\n",
              "  </svg>\n",
              "      </button>\n",
              "      \n",
              "  <style>\n",
              "    .colab-df-container {\n",
              "      display:flex;\n",
              "      flex-wrap:wrap;\n",
              "      gap: 12px;\n",
              "    }\n",
              "\n",
              "    .colab-df-convert {\n",
              "      background-color: #E8F0FE;\n",
              "      border: none;\n",
              "      border-radius: 50%;\n",
              "      cursor: pointer;\n",
              "      display: none;\n",
              "      fill: #1967D2;\n",
              "      height: 32px;\n",
              "      padding: 0 0 0 0;\n",
              "      width: 32px;\n",
              "    }\n",
              "\n",
              "    .colab-df-convert:hover {\n",
              "      background-color: #E2EBFA;\n",
              "      box-shadow: 0px 1px 2px rgba(60, 64, 67, 0.3), 0px 1px 3px 1px rgba(60, 64, 67, 0.15);\n",
              "      fill: #174EA6;\n",
              "    }\n",
              "\n",
              "    [theme=dark] .colab-df-convert {\n",
              "      background-color: #3B4455;\n",
              "      fill: #D2E3FC;\n",
              "    }\n",
              "\n",
              "    [theme=dark] .colab-df-convert:hover {\n",
              "      background-color: #434B5C;\n",
              "      box-shadow: 0px 1px 3px 1px rgba(0, 0, 0, 0.15);\n",
              "      filter: drop-shadow(0px 1px 2px rgba(0, 0, 0, 0.3));\n",
              "      fill: #FFFFFF;\n",
              "    }\n",
              "  </style>\n",
              "\n",
              "      <script>\n",
              "        const buttonEl =\n",
              "          document.querySelector('#df-5d3e116b-bfc4-490c-bd20-df494ea0b741 button.colab-df-convert');\n",
              "        buttonEl.style.display =\n",
              "          google.colab.kernel.accessAllowed ? 'block' : 'none';\n",
              "\n",
              "        async function convertToInteractive(key) {\n",
              "          const element = document.querySelector('#df-5d3e116b-bfc4-490c-bd20-df494ea0b741');\n",
              "          const dataTable =\n",
              "            await google.colab.kernel.invokeFunction('convertToInteractive',\n",
              "                                                     [key], {});\n",
              "          if (!dataTable) return;\n",
              "\n",
              "          const docLinkHtml = 'Like what you see? Visit the ' +\n",
              "            '<a target=\"_blank\" href=https://colab.research.google.com/notebooks/data_table.ipynb>data table notebook</a>'\n",
              "            + ' to learn more about interactive tables.';\n",
              "          element.innerHTML = '';\n",
              "          dataTable['output_type'] = 'display_data';\n",
              "          await google.colab.output.renderOutput(dataTable, element);\n",
              "          const docLink = document.createElement('div');\n",
              "          docLink.innerHTML = docLinkHtml;\n",
              "          element.appendChild(docLink);\n",
              "        }\n",
              "      </script>\n",
              "    </div>\n",
              "  </div>\n",
              "  "
            ]
          },
          "metadata": {},
          "execution_count": 11
        }
      ]
    },
    {
      "cell_type": "code",
      "source": [
        "# create a small subset and show min, max and other statistical summaries of the data\n",
        "tmp = df.iloc[:5, list(range(10)) + [-1]]\n",
        "tmp.describe()\n",
        "# instead you can simply do\n",
        "# df.describe()"
      ],
      "metadata": {
        "colab": {
          "base_uri": "https://localhost:8080/"
        },
        "id": "rVGrCEGoq2DD",
        "outputId": "44332ad6-4861-4bd0-a8e6-407e962230e9"
      },
      "execution_count": null,
      "outputs": [
        {
          "output_type": "execute_result",
          "data": {
            "text/plain": [
              "            genergy       gpuls   gdenergy     gdpuls    nbumps  nbumps2  \\\n",
              "count      5.000000    5.000000   5.000000   5.000000  5.000000      5.0   \n",
              "mean   15882.000000   67.800000 -61.800000 -48.200000  0.400000      0.0   \n",
              "std     7763.467009   58.734147  22.620787  50.489603  0.547723      0.0   \n",
              "min     8050.000000   30.000000 -81.000000 -79.000000  0.000000      0.0   \n",
              "25%    12640.000000   33.000000 -72.000000 -78.000000  0.000000      0.0   \n",
              "50%    14720.000000   48.000000 -70.000000 -72.000000  0.000000      0.0   \n",
              "75%    15180.000000   57.000000 -63.000000 -52.000000  1.000000      0.0   \n",
              "max    28820.000000  171.000000 -23.000000  40.000000  1.000000      0.0   \n",
              "\n",
              "       class  \n",
              "count    5.0  \n",
              "mean     0.0  \n",
              "std      0.0  \n",
              "min      0.0  \n",
              "25%      0.0  \n",
              "50%      0.0  \n",
              "75%      0.0  \n",
              "max      0.0  "
            ],
            "text/html": [
              "\n",
              "  <div id=\"df-009914ff-b4a4-454e-a571-e793ee78cc0a\">\n",
              "    <div class=\"colab-df-container\">\n",
              "      <div>\n",
              "<style scoped>\n",
              "    .dataframe tbody tr th:only-of-type {\n",
              "        vertical-align: middle;\n",
              "    }\n",
              "\n",
              "    .dataframe tbody tr th {\n",
              "        vertical-align: top;\n",
              "    }\n",
              "\n",
              "    .dataframe thead th {\n",
              "        text-align: right;\n",
              "    }\n",
              "</style>\n",
              "<table border=\"1\" class=\"dataframe\">\n",
              "  <thead>\n",
              "    <tr style=\"text-align: right;\">\n",
              "      <th></th>\n",
              "      <th>genergy</th>\n",
              "      <th>gpuls</th>\n",
              "      <th>gdenergy</th>\n",
              "      <th>gdpuls</th>\n",
              "      <th>nbumps</th>\n",
              "      <th>nbumps2</th>\n",
              "      <th>class</th>\n",
              "    </tr>\n",
              "  </thead>\n",
              "  <tbody>\n",
              "    <tr>\n",
              "      <th>count</th>\n",
              "      <td>5.000000</td>\n",
              "      <td>5.000000</td>\n",
              "      <td>5.000000</td>\n",
              "      <td>5.000000</td>\n",
              "      <td>5.000000</td>\n",
              "      <td>5.0</td>\n",
              "      <td>5.0</td>\n",
              "    </tr>\n",
              "    <tr>\n",
              "      <th>mean</th>\n",
              "      <td>15882.000000</td>\n",
              "      <td>67.800000</td>\n",
              "      <td>-61.800000</td>\n",
              "      <td>-48.200000</td>\n",
              "      <td>0.400000</td>\n",
              "      <td>0.0</td>\n",
              "      <td>0.0</td>\n",
              "    </tr>\n",
              "    <tr>\n",
              "      <th>std</th>\n",
              "      <td>7763.467009</td>\n",
              "      <td>58.734147</td>\n",
              "      <td>22.620787</td>\n",
              "      <td>50.489603</td>\n",
              "      <td>0.547723</td>\n",
              "      <td>0.0</td>\n",
              "      <td>0.0</td>\n",
              "    </tr>\n",
              "    <tr>\n",
              "      <th>min</th>\n",
              "      <td>8050.000000</td>\n",
              "      <td>30.000000</td>\n",
              "      <td>-81.000000</td>\n",
              "      <td>-79.000000</td>\n",
              "      <td>0.000000</td>\n",
              "      <td>0.0</td>\n",
              "      <td>0.0</td>\n",
              "    </tr>\n",
              "    <tr>\n",
              "      <th>25%</th>\n",
              "      <td>12640.000000</td>\n",
              "      <td>33.000000</td>\n",
              "      <td>-72.000000</td>\n",
              "      <td>-78.000000</td>\n",
              "      <td>0.000000</td>\n",
              "      <td>0.0</td>\n",
              "      <td>0.0</td>\n",
              "    </tr>\n",
              "    <tr>\n",
              "      <th>50%</th>\n",
              "      <td>14720.000000</td>\n",
              "      <td>48.000000</td>\n",
              "      <td>-70.000000</td>\n",
              "      <td>-72.000000</td>\n",
              "      <td>0.000000</td>\n",
              "      <td>0.0</td>\n",
              "      <td>0.0</td>\n",
              "    </tr>\n",
              "    <tr>\n",
              "      <th>75%</th>\n",
              "      <td>15180.000000</td>\n",
              "      <td>57.000000</td>\n",
              "      <td>-63.000000</td>\n",
              "      <td>-52.000000</td>\n",
              "      <td>1.000000</td>\n",
              "      <td>0.0</td>\n",
              "      <td>0.0</td>\n",
              "    </tr>\n",
              "    <tr>\n",
              "      <th>max</th>\n",
              "      <td>28820.000000</td>\n",
              "      <td>171.000000</td>\n",
              "      <td>-23.000000</td>\n",
              "      <td>40.000000</td>\n",
              "      <td>1.000000</td>\n",
              "      <td>0.0</td>\n",
              "      <td>0.0</td>\n",
              "    </tr>\n",
              "  </tbody>\n",
              "</table>\n",
              "</div>\n",
              "      <button class=\"colab-df-convert\" onclick=\"convertToInteractive('df-009914ff-b4a4-454e-a571-e793ee78cc0a')\"\n",
              "              title=\"Convert this dataframe to an interactive table.\"\n",
              "              style=\"display:none;\">\n",
              "        \n",
              "  <svg xmlns=\"http://www.w3.org/2000/svg\" height=\"24px\"viewBox=\"0 0 24 24\"\n",
              "       width=\"24px\">\n",
              "    <path d=\"M0 0h24v24H0V0z\" fill=\"none\"/>\n",
              "    <path d=\"M18.56 5.44l.94 2.06.94-2.06 2.06-.94-2.06-.94-.94-2.06-.94 2.06-2.06.94zm-11 1L8.5 8.5l.94-2.06 2.06-.94-2.06-.94L8.5 2.5l-.94 2.06-2.06.94zm10 10l.94 2.06.94-2.06 2.06-.94-2.06-.94-.94-2.06-.94 2.06-2.06.94z\"/><path d=\"M17.41 7.96l-1.37-1.37c-.4-.4-.92-.59-1.43-.59-.52 0-1.04.2-1.43.59L10.3 9.45l-7.72 7.72c-.78.78-.78 2.05 0 2.83L4 21.41c.39.39.9.59 1.41.59.51 0 1.02-.2 1.41-.59l7.78-7.78 2.81-2.81c.8-.78.8-2.07 0-2.86zM5.41 20L4 18.59l7.72-7.72 1.47 1.35L5.41 20z\"/>\n",
              "  </svg>\n",
              "      </button>\n",
              "      \n",
              "  <style>\n",
              "    .colab-df-container {\n",
              "      display:flex;\n",
              "      flex-wrap:wrap;\n",
              "      gap: 12px;\n",
              "    }\n",
              "\n",
              "    .colab-df-convert {\n",
              "      background-color: #E8F0FE;\n",
              "      border: none;\n",
              "      border-radius: 50%;\n",
              "      cursor: pointer;\n",
              "      display: none;\n",
              "      fill: #1967D2;\n",
              "      height: 32px;\n",
              "      padding: 0 0 0 0;\n",
              "      width: 32px;\n",
              "    }\n",
              "\n",
              "    .colab-df-convert:hover {\n",
              "      background-color: #E2EBFA;\n",
              "      box-shadow: 0px 1px 2px rgba(60, 64, 67, 0.3), 0px 1px 3px 1px rgba(60, 64, 67, 0.15);\n",
              "      fill: #174EA6;\n",
              "    }\n",
              "\n",
              "    [theme=dark] .colab-df-convert {\n",
              "      background-color: #3B4455;\n",
              "      fill: #D2E3FC;\n",
              "    }\n",
              "\n",
              "    [theme=dark] .colab-df-convert:hover {\n",
              "      background-color: #434B5C;\n",
              "      box-shadow: 0px 1px 3px 1px rgba(0, 0, 0, 0.15);\n",
              "      filter: drop-shadow(0px 1px 2px rgba(0, 0, 0, 0.3));\n",
              "      fill: #FFFFFF;\n",
              "    }\n",
              "  </style>\n",
              "\n",
              "      <script>\n",
              "        const buttonEl =\n",
              "          document.querySelector('#df-009914ff-b4a4-454e-a571-e793ee78cc0a button.colab-df-convert');\n",
              "        buttonEl.style.display =\n",
              "          google.colab.kernel.accessAllowed ? 'block' : 'none';\n",
              "\n",
              "        async function convertToInteractive(key) {\n",
              "          const element = document.querySelector('#df-009914ff-b4a4-454e-a571-e793ee78cc0a');\n",
              "          const dataTable =\n",
              "            await google.colab.kernel.invokeFunction('convertToInteractive',\n",
              "                                                     [key], {});\n",
              "          if (!dataTable) return;\n",
              "\n",
              "          const docLinkHtml = 'Like what you see? Visit the ' +\n",
              "            '<a target=\"_blank\" href=https://colab.research.google.com/notebooks/data_table.ipynb>data table notebook</a>'\n",
              "            + ' to learn more about interactive tables.';\n",
              "          element.innerHTML = '';\n",
              "          dataTable['output_type'] = 'display_data';\n",
              "          await google.colab.output.renderOutput(dataTable, element);\n",
              "          const docLink = document.createElement('div');\n",
              "          docLink.innerHTML = docLinkHtml;\n",
              "          element.appendChild(docLink);\n",
              "        }\n",
              "      </script>\n",
              "    </div>\n",
              "  </div>\n",
              "  "
            ]
          },
          "metadata": {},
          "execution_count": 12
        }
      ]
    },
    {
      "cell_type": "markdown",
      "source": [
        "# 1.6 Data Pre-processing"
      ],
      "metadata": {
        "id": "XGis1t18YUs8"
      }
    },
    {
      "cell_type": "markdown",
      "source": [
        "This section of the report will focus on the pre-processing of data before sampling has been done so that modelling can begin. One\n",
        "important stage of pre-processing as mentioned in section 1.2 is filling in missing values in the\n",
        "datasets, however as found during this section, the dataset in this report does not have any missing\n",
        "values hence this stage can be skipped. The next step is to normalise the data to ensure better\n",
        "results and to account for noise."
      ],
      "metadata": {
        "id": "J2tGApe7YdUG"
      }
    },
    {
      "cell_type": "markdown",
      "source": [
        "**Data Preparation**"
      ],
      "metadata": {
        "id": "nFuVRM9OZ2LA"
      }
    },
    {
      "cell_type": "markdown",
      "source": [
        "Next the .head() method is used to show the headings of the datsets, defining with values to show fewer rows, colunms and the class label"
      ],
      "metadata": {
        "id": "miU39N45JbXS"
      }
    },
    {
      "cell_type": "code",
      "source": [
        "df.head()"
      ],
      "metadata": {
        "id": "oR8ehpjDJep-",
        "colab": {
          "base_uri": "https://localhost:8080/",
          "height": 206
        },
        "outputId": "69b93f93-0088-47c6-80f7-4b1e17967dcd"
      },
      "execution_count": null,
      "outputs": [
        {
          "output_type": "execute_result",
          "data": {
            "text/plain": [
              "  seismic seismoacoustic shift  genergy  gpuls  gdenergy  gdpuls ghazard  \\\n",
              "0       a              a     N    15180     48       -72     -72       a   \n",
              "1       a              a     N    14720     33       -70     -79       a   \n",
              "2       a              a     N     8050     30       -81     -78       a   \n",
              "3       a              a     N    28820    171       -23      40       a   \n",
              "4       a              a     N    12640     57       -63     -52       a   \n",
              "\n",
              "   nbumps  nbumps2  nbumps3  nbumps4  nbumps5  nbumps6  nbumps7  nbumps89  \\\n",
              "0       0        0        0        0        0        0        0         0   \n",
              "1       1        0        1        0        0        0        0         0   \n",
              "2       0        0        0        0        0        0        0         0   \n",
              "3       1        0        1        0        0        0        0         0   \n",
              "4       0        0        0        0        0        0        0         0   \n",
              "\n",
              "   energy  maxenergy  class  \n",
              "0       0          0      0  \n",
              "1    2000       2000      0  \n",
              "2       0          0      0  \n",
              "3    3000       3000      0  \n",
              "4       0          0      0  "
            ],
            "text/html": [
              "\n",
              "  <div id=\"df-f7694a1e-95b3-4361-91c3-b58c753173ae\">\n",
              "    <div class=\"colab-df-container\">\n",
              "      <div>\n",
              "<style scoped>\n",
              "    .dataframe tbody tr th:only-of-type {\n",
              "        vertical-align: middle;\n",
              "    }\n",
              "\n",
              "    .dataframe tbody tr th {\n",
              "        vertical-align: top;\n",
              "    }\n",
              "\n",
              "    .dataframe thead th {\n",
              "        text-align: right;\n",
              "    }\n",
              "</style>\n",
              "<table border=\"1\" class=\"dataframe\">\n",
              "  <thead>\n",
              "    <tr style=\"text-align: right;\">\n",
              "      <th></th>\n",
              "      <th>seismic</th>\n",
              "      <th>seismoacoustic</th>\n",
              "      <th>shift</th>\n",
              "      <th>genergy</th>\n",
              "      <th>gpuls</th>\n",
              "      <th>gdenergy</th>\n",
              "      <th>gdpuls</th>\n",
              "      <th>ghazard</th>\n",
              "      <th>nbumps</th>\n",
              "      <th>nbumps2</th>\n",
              "      <th>nbumps3</th>\n",
              "      <th>nbumps4</th>\n",
              "      <th>nbumps5</th>\n",
              "      <th>nbumps6</th>\n",
              "      <th>nbumps7</th>\n",
              "      <th>nbumps89</th>\n",
              "      <th>energy</th>\n",
              "      <th>maxenergy</th>\n",
              "      <th>class</th>\n",
              "    </tr>\n",
              "  </thead>\n",
              "  <tbody>\n",
              "    <tr>\n",
              "      <th>0</th>\n",
              "      <td>a</td>\n",
              "      <td>a</td>\n",
              "      <td>N</td>\n",
              "      <td>15180</td>\n",
              "      <td>48</td>\n",
              "      <td>-72</td>\n",
              "      <td>-72</td>\n",
              "      <td>a</td>\n",
              "      <td>0</td>\n",
              "      <td>0</td>\n",
              "      <td>0</td>\n",
              "      <td>0</td>\n",
              "      <td>0</td>\n",
              "      <td>0</td>\n",
              "      <td>0</td>\n",
              "      <td>0</td>\n",
              "      <td>0</td>\n",
              "      <td>0</td>\n",
              "      <td>0</td>\n",
              "    </tr>\n",
              "    <tr>\n",
              "      <th>1</th>\n",
              "      <td>a</td>\n",
              "      <td>a</td>\n",
              "      <td>N</td>\n",
              "      <td>14720</td>\n",
              "      <td>33</td>\n",
              "      <td>-70</td>\n",
              "      <td>-79</td>\n",
              "      <td>a</td>\n",
              "      <td>1</td>\n",
              "      <td>0</td>\n",
              "      <td>1</td>\n",
              "      <td>0</td>\n",
              "      <td>0</td>\n",
              "      <td>0</td>\n",
              "      <td>0</td>\n",
              "      <td>0</td>\n",
              "      <td>2000</td>\n",
              "      <td>2000</td>\n",
              "      <td>0</td>\n",
              "    </tr>\n",
              "    <tr>\n",
              "      <th>2</th>\n",
              "      <td>a</td>\n",
              "      <td>a</td>\n",
              "      <td>N</td>\n",
              "      <td>8050</td>\n",
              "      <td>30</td>\n",
              "      <td>-81</td>\n",
              "      <td>-78</td>\n",
              "      <td>a</td>\n",
              "      <td>0</td>\n",
              "      <td>0</td>\n",
              "      <td>0</td>\n",
              "      <td>0</td>\n",
              "      <td>0</td>\n",
              "      <td>0</td>\n",
              "      <td>0</td>\n",
              "      <td>0</td>\n",
              "      <td>0</td>\n",
              "      <td>0</td>\n",
              "      <td>0</td>\n",
              "    </tr>\n",
              "    <tr>\n",
              "      <th>3</th>\n",
              "      <td>a</td>\n",
              "      <td>a</td>\n",
              "      <td>N</td>\n",
              "      <td>28820</td>\n",
              "      <td>171</td>\n",
              "      <td>-23</td>\n",
              "      <td>40</td>\n",
              "      <td>a</td>\n",
              "      <td>1</td>\n",
              "      <td>0</td>\n",
              "      <td>1</td>\n",
              "      <td>0</td>\n",
              "      <td>0</td>\n",
              "      <td>0</td>\n",
              "      <td>0</td>\n",
              "      <td>0</td>\n",
              "      <td>3000</td>\n",
              "      <td>3000</td>\n",
              "      <td>0</td>\n",
              "    </tr>\n",
              "    <tr>\n",
              "      <th>4</th>\n",
              "      <td>a</td>\n",
              "      <td>a</td>\n",
              "      <td>N</td>\n",
              "      <td>12640</td>\n",
              "      <td>57</td>\n",
              "      <td>-63</td>\n",
              "      <td>-52</td>\n",
              "      <td>a</td>\n",
              "      <td>0</td>\n",
              "      <td>0</td>\n",
              "      <td>0</td>\n",
              "      <td>0</td>\n",
              "      <td>0</td>\n",
              "      <td>0</td>\n",
              "      <td>0</td>\n",
              "      <td>0</td>\n",
              "      <td>0</td>\n",
              "      <td>0</td>\n",
              "      <td>0</td>\n",
              "    </tr>\n",
              "  </tbody>\n",
              "</table>\n",
              "</div>\n",
              "      <button class=\"colab-df-convert\" onclick=\"convertToInteractive('df-f7694a1e-95b3-4361-91c3-b58c753173ae')\"\n",
              "              title=\"Convert this dataframe to an interactive table.\"\n",
              "              style=\"display:none;\">\n",
              "        \n",
              "  <svg xmlns=\"http://www.w3.org/2000/svg\" height=\"24px\"viewBox=\"0 0 24 24\"\n",
              "       width=\"24px\">\n",
              "    <path d=\"M0 0h24v24H0V0z\" fill=\"none\"/>\n",
              "    <path d=\"M18.56 5.44l.94 2.06.94-2.06 2.06-.94-2.06-.94-.94-2.06-.94 2.06-2.06.94zm-11 1L8.5 8.5l.94-2.06 2.06-.94-2.06-.94L8.5 2.5l-.94 2.06-2.06.94zm10 10l.94 2.06.94-2.06 2.06-.94-2.06-.94-.94-2.06-.94 2.06-2.06.94z\"/><path d=\"M17.41 7.96l-1.37-1.37c-.4-.4-.92-.59-1.43-.59-.52 0-1.04.2-1.43.59L10.3 9.45l-7.72 7.72c-.78.78-.78 2.05 0 2.83L4 21.41c.39.39.9.59 1.41.59.51 0 1.02-.2 1.41-.59l7.78-7.78 2.81-2.81c.8-.78.8-2.07 0-2.86zM5.41 20L4 18.59l7.72-7.72 1.47 1.35L5.41 20z\"/>\n",
              "  </svg>\n",
              "      </button>\n",
              "      \n",
              "  <style>\n",
              "    .colab-df-container {\n",
              "      display:flex;\n",
              "      flex-wrap:wrap;\n",
              "      gap: 12px;\n",
              "    }\n",
              "\n",
              "    .colab-df-convert {\n",
              "      background-color: #E8F0FE;\n",
              "      border: none;\n",
              "      border-radius: 50%;\n",
              "      cursor: pointer;\n",
              "      display: none;\n",
              "      fill: #1967D2;\n",
              "      height: 32px;\n",
              "      padding: 0 0 0 0;\n",
              "      width: 32px;\n",
              "    }\n",
              "\n",
              "    .colab-df-convert:hover {\n",
              "      background-color: #E2EBFA;\n",
              "      box-shadow: 0px 1px 2px rgba(60, 64, 67, 0.3), 0px 1px 3px 1px rgba(60, 64, 67, 0.15);\n",
              "      fill: #174EA6;\n",
              "    }\n",
              "\n",
              "    [theme=dark] .colab-df-convert {\n",
              "      background-color: #3B4455;\n",
              "      fill: #D2E3FC;\n",
              "    }\n",
              "\n",
              "    [theme=dark] .colab-df-convert:hover {\n",
              "      background-color: #434B5C;\n",
              "      box-shadow: 0px 1px 3px 1px rgba(0, 0, 0, 0.15);\n",
              "      filter: drop-shadow(0px 1px 2px rgba(0, 0, 0, 0.3));\n",
              "      fill: #FFFFFF;\n",
              "    }\n",
              "  </style>\n",
              "\n",
              "      <script>\n",
              "        const buttonEl =\n",
              "          document.querySelector('#df-f7694a1e-95b3-4361-91c3-b58c753173ae button.colab-df-convert');\n",
              "        buttonEl.style.display =\n",
              "          google.colab.kernel.accessAllowed ? 'block' : 'none';\n",
              "\n",
              "        async function convertToInteractive(key) {\n",
              "          const element = document.querySelector('#df-f7694a1e-95b3-4361-91c3-b58c753173ae');\n",
              "          const dataTable =\n",
              "            await google.colab.kernel.invokeFunction('convertToInteractive',\n",
              "                                                     [key], {});\n",
              "          if (!dataTable) return;\n",
              "\n",
              "          const docLinkHtml = 'Like what you see? Visit the ' +\n",
              "            '<a target=\"_blank\" href=https://colab.research.google.com/notebooks/data_table.ipynb>data table notebook</a>'\n",
              "            + ' to learn more about interactive tables.';\n",
              "          element.innerHTML = '';\n",
              "          dataTable['output_type'] = 'display_data';\n",
              "          await google.colab.output.renderOutput(dataTable, element);\n",
              "          const docLink = document.createElement('div');\n",
              "          docLink.innerHTML = docLinkHtml;\n",
              "          element.appendChild(docLink);\n",
              "        }\n",
              "      </script>\n",
              "    </div>\n",
              "  </div>\n",
              "  "
            ]
          },
          "metadata": {},
          "execution_count": 13
        }
      ]
    },
    {
      "cell_type": "code",
      "source": [
        "dfc = dfc.drop(columns=['seismic', 'seismoacoustic','shift', 'ghazard'])"
      ],
      "metadata": {
        "id": "3dec-FFn5uE3"
      },
      "execution_count": null,
      "outputs": []
    },
    {
      "cell_type": "code",
      "source": [
        "#Show fewer rows, colunms and the class label\n",
        "dfc[['class', 'maxenergy', 'genergy', 'gpuls']].head()"
      ],
      "metadata": {
        "id": "GL_bY3bJvJwh",
        "colab": {
          "base_uri": "https://localhost:8080/",
          "height": 206
        },
        "outputId": "f00b8f8c-5242-4b16-ca5c-bb27436a3563"
      },
      "execution_count": null,
      "outputs": [
        {
          "output_type": "execute_result",
          "data": {
            "text/plain": [
              "   class  maxenergy  genergy  gpuls\n",
              "0      0          0    15180     48\n",
              "1      0       2000    14720     33\n",
              "2      0          0     8050     30\n",
              "3      0       3000    28820    171\n",
              "4      0          0    12640     57"
            ],
            "text/html": [
              "\n",
              "  <div id=\"df-333b207d-a22c-45f1-8621-83b72ef29599\">\n",
              "    <div class=\"colab-df-container\">\n",
              "      <div>\n",
              "<style scoped>\n",
              "    .dataframe tbody tr th:only-of-type {\n",
              "        vertical-align: middle;\n",
              "    }\n",
              "\n",
              "    .dataframe tbody tr th {\n",
              "        vertical-align: top;\n",
              "    }\n",
              "\n",
              "    .dataframe thead th {\n",
              "        text-align: right;\n",
              "    }\n",
              "</style>\n",
              "<table border=\"1\" class=\"dataframe\">\n",
              "  <thead>\n",
              "    <tr style=\"text-align: right;\">\n",
              "      <th></th>\n",
              "      <th>class</th>\n",
              "      <th>maxenergy</th>\n",
              "      <th>genergy</th>\n",
              "      <th>gpuls</th>\n",
              "    </tr>\n",
              "  </thead>\n",
              "  <tbody>\n",
              "    <tr>\n",
              "      <th>0</th>\n",
              "      <td>0</td>\n",
              "      <td>0</td>\n",
              "      <td>15180</td>\n",
              "      <td>48</td>\n",
              "    </tr>\n",
              "    <tr>\n",
              "      <th>1</th>\n",
              "      <td>0</td>\n",
              "      <td>2000</td>\n",
              "      <td>14720</td>\n",
              "      <td>33</td>\n",
              "    </tr>\n",
              "    <tr>\n",
              "      <th>2</th>\n",
              "      <td>0</td>\n",
              "      <td>0</td>\n",
              "      <td>8050</td>\n",
              "      <td>30</td>\n",
              "    </tr>\n",
              "    <tr>\n",
              "      <th>3</th>\n",
              "      <td>0</td>\n",
              "      <td>3000</td>\n",
              "      <td>28820</td>\n",
              "      <td>171</td>\n",
              "    </tr>\n",
              "    <tr>\n",
              "      <th>4</th>\n",
              "      <td>0</td>\n",
              "      <td>0</td>\n",
              "      <td>12640</td>\n",
              "      <td>57</td>\n",
              "    </tr>\n",
              "  </tbody>\n",
              "</table>\n",
              "</div>\n",
              "      <button class=\"colab-df-convert\" onclick=\"convertToInteractive('df-333b207d-a22c-45f1-8621-83b72ef29599')\"\n",
              "              title=\"Convert this dataframe to an interactive table.\"\n",
              "              style=\"display:none;\">\n",
              "        \n",
              "  <svg xmlns=\"http://www.w3.org/2000/svg\" height=\"24px\"viewBox=\"0 0 24 24\"\n",
              "       width=\"24px\">\n",
              "    <path d=\"M0 0h24v24H0V0z\" fill=\"none\"/>\n",
              "    <path d=\"M18.56 5.44l.94 2.06.94-2.06 2.06-.94-2.06-.94-.94-2.06-.94 2.06-2.06.94zm-11 1L8.5 8.5l.94-2.06 2.06-.94-2.06-.94L8.5 2.5l-.94 2.06-2.06.94zm10 10l.94 2.06.94-2.06 2.06-.94-2.06-.94-.94-2.06-.94 2.06-2.06.94z\"/><path d=\"M17.41 7.96l-1.37-1.37c-.4-.4-.92-.59-1.43-.59-.52 0-1.04.2-1.43.59L10.3 9.45l-7.72 7.72c-.78.78-.78 2.05 0 2.83L4 21.41c.39.39.9.59 1.41.59.51 0 1.02-.2 1.41-.59l7.78-7.78 2.81-2.81c.8-.78.8-2.07 0-2.86zM5.41 20L4 18.59l7.72-7.72 1.47 1.35L5.41 20z\"/>\n",
              "  </svg>\n",
              "      </button>\n",
              "      \n",
              "  <style>\n",
              "    .colab-df-container {\n",
              "      display:flex;\n",
              "      flex-wrap:wrap;\n",
              "      gap: 12px;\n",
              "    }\n",
              "\n",
              "    .colab-df-convert {\n",
              "      background-color: #E8F0FE;\n",
              "      border: none;\n",
              "      border-radius: 50%;\n",
              "      cursor: pointer;\n",
              "      display: none;\n",
              "      fill: #1967D2;\n",
              "      height: 32px;\n",
              "      padding: 0 0 0 0;\n",
              "      width: 32px;\n",
              "    }\n",
              "\n",
              "    .colab-df-convert:hover {\n",
              "      background-color: #E2EBFA;\n",
              "      box-shadow: 0px 1px 2px rgba(60, 64, 67, 0.3), 0px 1px 3px 1px rgba(60, 64, 67, 0.15);\n",
              "      fill: #174EA6;\n",
              "    }\n",
              "\n",
              "    [theme=dark] .colab-df-convert {\n",
              "      background-color: #3B4455;\n",
              "      fill: #D2E3FC;\n",
              "    }\n",
              "\n",
              "    [theme=dark] .colab-df-convert:hover {\n",
              "      background-color: #434B5C;\n",
              "      box-shadow: 0px 1px 3px 1px rgba(0, 0, 0, 0.15);\n",
              "      filter: drop-shadow(0px 1px 2px rgba(0, 0, 0, 0.3));\n",
              "      fill: #FFFFFF;\n",
              "    }\n",
              "  </style>\n",
              "\n",
              "      <script>\n",
              "        const buttonEl =\n",
              "          document.querySelector('#df-333b207d-a22c-45f1-8621-83b72ef29599 button.colab-df-convert');\n",
              "        buttonEl.style.display =\n",
              "          google.colab.kernel.accessAllowed ? 'block' : 'none';\n",
              "\n",
              "        async function convertToInteractive(key) {\n",
              "          const element = document.querySelector('#df-333b207d-a22c-45f1-8621-83b72ef29599');\n",
              "          const dataTable =\n",
              "            await google.colab.kernel.invokeFunction('convertToInteractive',\n",
              "                                                     [key], {});\n",
              "          if (!dataTable) return;\n",
              "\n",
              "          const docLinkHtml = 'Like what you see? Visit the ' +\n",
              "            '<a target=\"_blank\" href=https://colab.research.google.com/notebooks/data_table.ipynb>data table notebook</a>'\n",
              "            + ' to learn more about interactive tables.';\n",
              "          element.innerHTML = '';\n",
              "          dataTable['output_type'] = 'display_data';\n",
              "          await google.colab.output.renderOutput(dataTable, element);\n",
              "          const docLink = document.createElement('div');\n",
              "          docLink.innerHTML = docLinkHtml;\n",
              "          element.appendChild(docLink);\n",
              "        }\n",
              "      </script>\n",
              "    </div>\n",
              "  </div>\n",
              "  "
            ]
          },
          "metadata": {},
          "execution_count": 15
        }
      ]
    },
    {
      "cell_type": "markdown",
      "source": [
        "Next a print statement is written that validates the size of the data."
      ],
      "metadata": {
        "id": "zitmdPQnJOBG"
      }
    },
    {
      "cell_type": "code",
      "source": [
        "print(f'The dataset has {dfc.shape[0]} rows and {dfc.shape[1]} columns')\n"
      ],
      "metadata": {
        "id": "swYIYByZjqRv",
        "colab": {
          "base_uri": "https://localhost:8080/"
        },
        "outputId": "7aebadff-4cb9-4b44-807d-c783021cfb01"
      },
      "execution_count": null,
      "outputs": [
        {
          "output_type": "stream",
          "name": "stdout",
          "text": [
            "The dataset has 2584 rows and 15 columns\n"
          ]
        }
      ]
    },
    {
      "cell_type": "markdown",
      "source": [
        "Next the .info() method is used to get the data types of each attribute"
      ],
      "metadata": {
        "id": "5raG0Il2LBLf"
      }
    },
    {
      "cell_type": "code",
      "source": [
        "dfc.info()"
      ],
      "metadata": {
        "colab": {
          "base_uri": "https://localhost:8080/"
        },
        "id": "Iwr5G08HLDio",
        "outputId": "ab581e6a-38ca-4b24-dde5-a6bfc255e8ff"
      },
      "execution_count": null,
      "outputs": [
        {
          "output_type": "stream",
          "name": "stdout",
          "text": [
            "<class 'pandas.core.frame.DataFrame'>\n",
            "RangeIndex: 2584 entries, 0 to 2583\n",
            "Data columns (total 15 columns):\n",
            " #   Column     Non-Null Count  Dtype\n",
            "---  ------     --------------  -----\n",
            " 0   genergy    2584 non-null   int64\n",
            " 1   gpuls      2584 non-null   int64\n",
            " 2   gdenergy   2584 non-null   int64\n",
            " 3   gdpuls     2584 non-null   int64\n",
            " 4   nbumps     2584 non-null   int64\n",
            " 5   nbumps2    2584 non-null   int64\n",
            " 6   nbumps3    2584 non-null   int64\n",
            " 7   nbumps4    2584 non-null   int64\n",
            " 8   nbumps5    2584 non-null   int64\n",
            " 9   nbumps6    2584 non-null   int64\n",
            " 10  nbumps7    2584 non-null   int64\n",
            " 11  nbumps89   2584 non-null   int64\n",
            " 12  energy     2584 non-null   int64\n",
            " 13  maxenergy  2584 non-null   int64\n",
            " 14  class      2584 non-null   int64\n",
            "dtypes: int64(15)\n",
            "memory usage: 302.9 KB\n"
          ]
        }
      ]
    },
    {
      "cell_type": "markdown",
      "source": [
        "Next a useful function in the pandas is describe() function, that shows the summary statistics of all numeral features in the dataset"
      ],
      "metadata": {
        "id": "iG-DmbfoxKPG"
      }
    },
    {
      "cell_type": "code",
      "source": [
        "dfc.describe()"
      ],
      "metadata": {
        "colab": {
          "base_uri": "https://localhost:8080/",
          "height": 300
        },
        "outputId": "8b6b09d2-cfde-45e6-a4d5-e98840a28bc4",
        "id": "VJG58l9cxDJz"
      },
      "execution_count": null,
      "outputs": [
        {
          "output_type": "execute_result",
          "data": {
            "text/plain": [
              "            genergy        gpuls     gdenergy       gdpuls       nbumps  \\\n",
              "count  2.584000e+03  2584.000000  2584.000000  2584.000000  2584.000000   \n",
              "mean   9.024252e+04   538.579334    12.375774     4.508901     0.859520   \n",
              "std    2.292005e+05   562.652536    80.319051    63.166556     1.364616   \n",
              "min    1.000000e+02     2.000000   -96.000000   -96.000000     0.000000   \n",
              "25%    1.166000e+04   190.000000   -37.000000   -36.000000     0.000000   \n",
              "50%    2.548500e+04   379.000000    -6.000000    -6.000000     0.000000   \n",
              "75%    5.283250e+04   669.000000    38.000000    30.250000     1.000000   \n",
              "max    2.595650e+06  4518.000000  1245.000000   838.000000     9.000000   \n",
              "\n",
              "           nbumps2      nbumps3      nbumps4      nbumps5  nbumps6  nbumps7  \\\n",
              "count  2584.000000  2584.000000  2584.000000  2584.000000   2584.0   2584.0   \n",
              "mean      0.393576     0.392802     0.067724     0.004644      0.0      0.0   \n",
              "std       0.783772     0.769710     0.279059     0.068001      0.0      0.0   \n",
              "min       0.000000     0.000000     0.000000     0.000000      0.0      0.0   \n",
              "25%       0.000000     0.000000     0.000000     0.000000      0.0      0.0   \n",
              "50%       0.000000     0.000000     0.000000     0.000000      0.0      0.0   \n",
              "75%       1.000000     1.000000     0.000000     0.000000      0.0      0.0   \n",
              "max       8.000000     7.000000     3.000000     1.000000      0.0      0.0   \n",
              "\n",
              "       nbumps89         energy      maxenergy        class  \n",
              "count    2584.0    2584.000000    2584.000000  2584.000000  \n",
              "mean        0.0    4975.270898    4278.850619     0.065789  \n",
              "std         0.0   20450.833222   19357.454882     0.247962  \n",
              "min         0.0       0.000000       0.000000     0.000000  \n",
              "25%         0.0       0.000000       0.000000     0.000000  \n",
              "50%         0.0       0.000000       0.000000     0.000000  \n",
              "75%         0.0    2600.000000    2000.000000     0.000000  \n",
              "max         0.0  402000.000000  400000.000000     1.000000  "
            ],
            "text/html": [
              "\n",
              "  <div id=\"df-dd89040f-fb4e-4fb4-9a1c-07ae3907b584\">\n",
              "    <div class=\"colab-df-container\">\n",
              "      <div>\n",
              "<style scoped>\n",
              "    .dataframe tbody tr th:only-of-type {\n",
              "        vertical-align: middle;\n",
              "    }\n",
              "\n",
              "    .dataframe tbody tr th {\n",
              "        vertical-align: top;\n",
              "    }\n",
              "\n",
              "    .dataframe thead th {\n",
              "        text-align: right;\n",
              "    }\n",
              "</style>\n",
              "<table border=\"1\" class=\"dataframe\">\n",
              "  <thead>\n",
              "    <tr style=\"text-align: right;\">\n",
              "      <th></th>\n",
              "      <th>genergy</th>\n",
              "      <th>gpuls</th>\n",
              "      <th>gdenergy</th>\n",
              "      <th>gdpuls</th>\n",
              "      <th>nbumps</th>\n",
              "      <th>nbumps2</th>\n",
              "      <th>nbumps3</th>\n",
              "      <th>nbumps4</th>\n",
              "      <th>nbumps5</th>\n",
              "      <th>nbumps6</th>\n",
              "      <th>nbumps7</th>\n",
              "      <th>nbumps89</th>\n",
              "      <th>energy</th>\n",
              "      <th>maxenergy</th>\n",
              "      <th>class</th>\n",
              "    </tr>\n",
              "  </thead>\n",
              "  <tbody>\n",
              "    <tr>\n",
              "      <th>count</th>\n",
              "      <td>2.584000e+03</td>\n",
              "      <td>2584.000000</td>\n",
              "      <td>2584.000000</td>\n",
              "      <td>2584.000000</td>\n",
              "      <td>2584.000000</td>\n",
              "      <td>2584.000000</td>\n",
              "      <td>2584.000000</td>\n",
              "      <td>2584.000000</td>\n",
              "      <td>2584.000000</td>\n",
              "      <td>2584.0</td>\n",
              "      <td>2584.0</td>\n",
              "      <td>2584.0</td>\n",
              "      <td>2584.000000</td>\n",
              "      <td>2584.000000</td>\n",
              "      <td>2584.000000</td>\n",
              "    </tr>\n",
              "    <tr>\n",
              "      <th>mean</th>\n",
              "      <td>9.024252e+04</td>\n",
              "      <td>538.579334</td>\n",
              "      <td>12.375774</td>\n",
              "      <td>4.508901</td>\n",
              "      <td>0.859520</td>\n",
              "      <td>0.393576</td>\n",
              "      <td>0.392802</td>\n",
              "      <td>0.067724</td>\n",
              "      <td>0.004644</td>\n",
              "      <td>0.0</td>\n",
              "      <td>0.0</td>\n",
              "      <td>0.0</td>\n",
              "      <td>4975.270898</td>\n",
              "      <td>4278.850619</td>\n",
              "      <td>0.065789</td>\n",
              "    </tr>\n",
              "    <tr>\n",
              "      <th>std</th>\n",
              "      <td>2.292005e+05</td>\n",
              "      <td>562.652536</td>\n",
              "      <td>80.319051</td>\n",
              "      <td>63.166556</td>\n",
              "      <td>1.364616</td>\n",
              "      <td>0.783772</td>\n",
              "      <td>0.769710</td>\n",
              "      <td>0.279059</td>\n",
              "      <td>0.068001</td>\n",
              "      <td>0.0</td>\n",
              "      <td>0.0</td>\n",
              "      <td>0.0</td>\n",
              "      <td>20450.833222</td>\n",
              "      <td>19357.454882</td>\n",
              "      <td>0.247962</td>\n",
              "    </tr>\n",
              "    <tr>\n",
              "      <th>min</th>\n",
              "      <td>1.000000e+02</td>\n",
              "      <td>2.000000</td>\n",
              "      <td>-96.000000</td>\n",
              "      <td>-96.000000</td>\n",
              "      <td>0.000000</td>\n",
              "      <td>0.000000</td>\n",
              "      <td>0.000000</td>\n",
              "      <td>0.000000</td>\n",
              "      <td>0.000000</td>\n",
              "      <td>0.0</td>\n",
              "      <td>0.0</td>\n",
              "      <td>0.0</td>\n",
              "      <td>0.000000</td>\n",
              "      <td>0.000000</td>\n",
              "      <td>0.000000</td>\n",
              "    </tr>\n",
              "    <tr>\n",
              "      <th>25%</th>\n",
              "      <td>1.166000e+04</td>\n",
              "      <td>190.000000</td>\n",
              "      <td>-37.000000</td>\n",
              "      <td>-36.000000</td>\n",
              "      <td>0.000000</td>\n",
              "      <td>0.000000</td>\n",
              "      <td>0.000000</td>\n",
              "      <td>0.000000</td>\n",
              "      <td>0.000000</td>\n",
              "      <td>0.0</td>\n",
              "      <td>0.0</td>\n",
              "      <td>0.0</td>\n",
              "      <td>0.000000</td>\n",
              "      <td>0.000000</td>\n",
              "      <td>0.000000</td>\n",
              "    </tr>\n",
              "    <tr>\n",
              "      <th>50%</th>\n",
              "      <td>2.548500e+04</td>\n",
              "      <td>379.000000</td>\n",
              "      <td>-6.000000</td>\n",
              "      <td>-6.000000</td>\n",
              "      <td>0.000000</td>\n",
              "      <td>0.000000</td>\n",
              "      <td>0.000000</td>\n",
              "      <td>0.000000</td>\n",
              "      <td>0.000000</td>\n",
              "      <td>0.0</td>\n",
              "      <td>0.0</td>\n",
              "      <td>0.0</td>\n",
              "      <td>0.000000</td>\n",
              "      <td>0.000000</td>\n",
              "      <td>0.000000</td>\n",
              "    </tr>\n",
              "    <tr>\n",
              "      <th>75%</th>\n",
              "      <td>5.283250e+04</td>\n",
              "      <td>669.000000</td>\n",
              "      <td>38.000000</td>\n",
              "      <td>30.250000</td>\n",
              "      <td>1.000000</td>\n",
              "      <td>1.000000</td>\n",
              "      <td>1.000000</td>\n",
              "      <td>0.000000</td>\n",
              "      <td>0.000000</td>\n",
              "      <td>0.0</td>\n",
              "      <td>0.0</td>\n",
              "      <td>0.0</td>\n",
              "      <td>2600.000000</td>\n",
              "      <td>2000.000000</td>\n",
              "      <td>0.000000</td>\n",
              "    </tr>\n",
              "    <tr>\n",
              "      <th>max</th>\n",
              "      <td>2.595650e+06</td>\n",
              "      <td>4518.000000</td>\n",
              "      <td>1245.000000</td>\n",
              "      <td>838.000000</td>\n",
              "      <td>9.000000</td>\n",
              "      <td>8.000000</td>\n",
              "      <td>7.000000</td>\n",
              "      <td>3.000000</td>\n",
              "      <td>1.000000</td>\n",
              "      <td>0.0</td>\n",
              "      <td>0.0</td>\n",
              "      <td>0.0</td>\n",
              "      <td>402000.000000</td>\n",
              "      <td>400000.000000</td>\n",
              "      <td>1.000000</td>\n",
              "    </tr>\n",
              "  </tbody>\n",
              "</table>\n",
              "</div>\n",
              "      <button class=\"colab-df-convert\" onclick=\"convertToInteractive('df-dd89040f-fb4e-4fb4-9a1c-07ae3907b584')\"\n",
              "              title=\"Convert this dataframe to an interactive table.\"\n",
              "              style=\"display:none;\">\n",
              "        \n",
              "  <svg xmlns=\"http://www.w3.org/2000/svg\" height=\"24px\"viewBox=\"0 0 24 24\"\n",
              "       width=\"24px\">\n",
              "    <path d=\"M0 0h24v24H0V0z\" fill=\"none\"/>\n",
              "    <path d=\"M18.56 5.44l.94 2.06.94-2.06 2.06-.94-2.06-.94-.94-2.06-.94 2.06-2.06.94zm-11 1L8.5 8.5l.94-2.06 2.06-.94-2.06-.94L8.5 2.5l-.94 2.06-2.06.94zm10 10l.94 2.06.94-2.06 2.06-.94-2.06-.94-.94-2.06-.94 2.06-2.06.94z\"/><path d=\"M17.41 7.96l-1.37-1.37c-.4-.4-.92-.59-1.43-.59-.52 0-1.04.2-1.43.59L10.3 9.45l-7.72 7.72c-.78.78-.78 2.05 0 2.83L4 21.41c.39.39.9.59 1.41.59.51 0 1.02-.2 1.41-.59l7.78-7.78 2.81-2.81c.8-.78.8-2.07 0-2.86zM5.41 20L4 18.59l7.72-7.72 1.47 1.35L5.41 20z\"/>\n",
              "  </svg>\n",
              "      </button>\n",
              "      \n",
              "  <style>\n",
              "    .colab-df-container {\n",
              "      display:flex;\n",
              "      flex-wrap:wrap;\n",
              "      gap: 12px;\n",
              "    }\n",
              "\n",
              "    .colab-df-convert {\n",
              "      background-color: #E8F0FE;\n",
              "      border: none;\n",
              "      border-radius: 50%;\n",
              "      cursor: pointer;\n",
              "      display: none;\n",
              "      fill: #1967D2;\n",
              "      height: 32px;\n",
              "      padding: 0 0 0 0;\n",
              "      width: 32px;\n",
              "    }\n",
              "\n",
              "    .colab-df-convert:hover {\n",
              "      background-color: #E2EBFA;\n",
              "      box-shadow: 0px 1px 2px rgba(60, 64, 67, 0.3), 0px 1px 3px 1px rgba(60, 64, 67, 0.15);\n",
              "      fill: #174EA6;\n",
              "    }\n",
              "\n",
              "    [theme=dark] .colab-df-convert {\n",
              "      background-color: #3B4455;\n",
              "      fill: #D2E3FC;\n",
              "    }\n",
              "\n",
              "    [theme=dark] .colab-df-convert:hover {\n",
              "      background-color: #434B5C;\n",
              "      box-shadow: 0px 1px 3px 1px rgba(0, 0, 0, 0.15);\n",
              "      filter: drop-shadow(0px 1px 2px rgba(0, 0, 0, 0.3));\n",
              "      fill: #FFFFFF;\n",
              "    }\n",
              "  </style>\n",
              "\n",
              "      <script>\n",
              "        const buttonEl =\n",
              "          document.querySelector('#df-dd89040f-fb4e-4fb4-9a1c-07ae3907b584 button.colab-df-convert');\n",
              "        buttonEl.style.display =\n",
              "          google.colab.kernel.accessAllowed ? 'block' : 'none';\n",
              "\n",
              "        async function convertToInteractive(key) {\n",
              "          const element = document.querySelector('#df-dd89040f-fb4e-4fb4-9a1c-07ae3907b584');\n",
              "          const dataTable =\n",
              "            await google.colab.kernel.invokeFunction('convertToInteractive',\n",
              "                                                     [key], {});\n",
              "          if (!dataTable) return;\n",
              "\n",
              "          const docLinkHtml = 'Like what you see? Visit the ' +\n",
              "            '<a target=\"_blank\" href=https://colab.research.google.com/notebooks/data_table.ipynb>data table notebook</a>'\n",
              "            + ' to learn more about interactive tables.';\n",
              "          element.innerHTML = '';\n",
              "          dataTable['output_type'] = 'display_data';\n",
              "          await google.colab.output.renderOutput(dataTable, element);\n",
              "          const docLink = document.createElement('div');\n",
              "          docLink.innerHTML = docLinkHtml;\n",
              "          element.appendChild(docLink);\n",
              "        }\n",
              "      </script>\n",
              "    </div>\n",
              "  </div>\n",
              "  "
            ]
          },
          "metadata": {},
          "execution_count": 18
        }
      ]
    },
    {
      "cell_type": "markdown",
      "source": [
        "The graph 1 - made to better visualise class distribution of \"hazardous state (class = 1)\" and \"non-hazardous state (class = 0)\" in the dataset (before balacing dataset)\n"
      ],
      "metadata": {
        "id": "k2GsdwVSMY3R"
      }
    },
    {
      "cell_type": "code",
      "source": [
        "#Seismic activity boxplot comapring non hazardous to hazardous\n",
        "sns.boxplot(data=dfc,x='class',y='genergy')\n",
        "plt.title('Energy Scale\\n')\n",
        "plt.show()"
      ],
      "metadata": {
        "id": "9meN53WYPqmQ",
        "colab": {
          "base_uri": "https://localhost:8080/",
          "height": 310
        },
        "outputId": "e1bd253c-f1a6-4dc1-952d-41443fc92259"
      },
      "execution_count": null,
      "outputs": [
        {
          "output_type": "display_data",
          "data": {
            "text/plain": [
              "<Figure size 432x288 with 1 Axes>"
            ],
            "image/png": "[encoded data removed]"
          },
          "metadata": {
            "needs_background": "light"
          }
        }
      ]
    },
    {
      "cell_type": "markdown",
      "source": [
        "Graph 2 -  shows the amount of energy distributed between classes 0 and 1"
      ],
      "metadata": {
        "id": "FqXJRqHfiV71"
      }
    },
    {
      "cell_type": "code",
      "source": [
        "# Seismic energy recorded within previous shift by the most active geophone corrolated with number of pulses during shift\n",
        "sns.scatterplot(data=df, x=\"genergy\", y=\"gpuls\", hue=\"class\", style=\"class\")"
      ],
      "metadata": {
        "id": "WX7nwLs8QyrL",
        "colab": {
          "base_uri": "https://localhost:8080/",
          "height": 296
        },
        "outputId": "02e73512-666a-41a4-dc0d-242166548bbf"
      },
      "execution_count": null,
      "outputs": [
        {
          "output_type": "execute_result",
          "data": {
            "text/plain": [
              "<matplotlib.axes._subplots.AxesSubplot at 0x7f329dd22310>"
            ]
          },
          "metadata": {},
          "execution_count": 20
        },
        {
          "output_type": "display_data",
          "data": {
            "text/plain": [
              "<Figure size 432x288 with 1 Axes>"
            ],
            "image/png": "[encoded data removed]"
          },
          "metadata": {
            "needs_background": "light"
          }
        }
      ]
    },
    {
      "cell_type": "markdown",
      "source": [
        "Graph 3 - shows the energy recorded within previous shift by the most active geophone corrolated with number of pulses during shift"
      ],
      "metadata": {
        "id": "NFjxZRpOinwr"
      }
    },
    {
      "cell_type": "markdown",
      "source": [
        "# 1.7 Splitting the data and training the models"
      ],
      "metadata": {
        "id": "sZGEQQYHPrJE"
      }
    },
    {
      "cell_type": "markdown",
      "source": [
        "## Model that uses no oversampled data"
      ],
      "metadata": {
        "id": "vGYmSk6tPcfY"
      }
    },
    {
      "cell_type": "markdown",
      "source": [
        "Logistic Regression, is very simple and easy to implement. It is one of the very common used algorithms in the industry"
      ],
      "metadata": {
        "id": "oeWjgevBL8lN"
      }
    },
    {
      "cell_type": "markdown",
      "source": [
        "**Build the model (Logistic Model)**\n",
        "<br>\n",
        "• First, for each model I will create an instance of the class LinearRegression, which will represent the regression model\n",
        "<br>\n",
        "• Then I will split the data into the model\n",
        "<br>\n",
        "• Then I will fit the data into the model\n",
        "<br>\n",
        "• With .fit() calculates the optimal values of the weights 0 and 1 using the existinginput and output (X and y) as the arguments.\n"
      ],
      "metadata": {
        "id": "xtXjNARzKxwb"
      }
    },
    {
      "cell_type": "markdown",
      "source": [
        "First, we need to prepare the data by splitting the dataframe (df) into a set of features X and a\n",
        "Target variable y. This is can be easily done as follows:\n"
      ],
      "metadata": {
        "id": "fESzPnjgMEF-"
      }
    },
    {
      "cell_type": "code",
      "source": [
        "#store the input features\n",
        "y = dfc['class']\n",
        "X = dfc.drop('class', axis = 1)\n",
        "\n"
      ],
      "metadata": {
        "id": "WB5MqvZjMHOE"
      },
      "execution_count": null,
      "outputs": []
    },
    {
      "cell_type": "code",
      "source": [
        "print(type(X))\n",
        "print(type(y))"
      ],
      "metadata": {
        "colab": {
          "base_uri": "https://localhost:8080/"
        },
        "id": "dBtKHw8DMR1I",
        "outputId": "55d2dae1-cb22-4535-b4d1-6f59c2e5d261"
      },
      "execution_count": null,
      "outputs": [
        {
          "output_type": "stream",
          "name": "stdout",
          "text": [
            "<class 'pandas.core.frame.DataFrame'>\n",
            "<class 'pandas.core.series.Series'>\n"
          ]
        }
      ]
    },
    {
      "cell_type": "markdown",
      "source": [
        "### Splitting the data\n"
      ],
      "metadata": {
        "id": "IQii6HawgLvy"
      }
    },
    {
      "cell_type": "code",
      "source": [
        "from sklearn.model_selection import train_test_split\n",
        "X_train, X_test, y_train, y_test = train_test_split(X, y, test_size=0.2, random_state=0)\n"
      ],
      "metadata": {
        "id": "__iA4cXebjfl"
      },
      "execution_count": null,
      "outputs": []
    },
    {
      "cell_type": "markdown",
      "source": [
        "### Normalising the data"
      ],
      "metadata": {
        "id": "23FX73wjMqOH"
      }
    },
    {
      "cell_type": "code",
      "source": [
        "#Min-Max Normalization method is used to Normalize the data. This method scales the data range to [0,1].\n",
        "#This is a good practice to put the data into a common scale and it helps supress the noise in the data.\n",
        "from sklearn import preprocessing\n",
        "normalized_X_train = preprocessing.normalize(X_train)\n",
        "normalized_X_test = preprocessing.normalize(X_test)\n",
        "\n",
        "#In the above lines of code, for x variable, we have taken -1 value since we want to remove the last column from the dataset.\n",
        "#For y variable, we have taken 1 value as a parameter, since we want to extract the second column and indexing starts from the zero."
      ],
      "metadata": {
        "id": "aaOhHI_WM4vP"
      },
      "execution_count": null,
      "outputs": []
    },
    {
      "cell_type": "markdown",
      "source": [
        "### Fitting the Data"
      ],
      "metadata": {
        "id": "w6-N1vc0hGXB"
      }
    },
    {
      "cell_type": "markdown",
      "source": [
        "**Fitting the model is simple model.fit(x,y). These steps are outlined below**"
      ],
      "metadata": {
        "id": "nvvLOaAQgmXq"
      }
    },
    {
      "cell_type": "markdown",
      "source": [
        "Using the LogisticRegression from the sklearn library to create the Logistic Regression Model."
      ],
      "metadata": {
        "id": "QiMo0nlm65aa"
      }
    },
    {
      "cell_type": "code",
      "source": [
        "from sklearn.linear_model import LogisticRegression\n",
        "# notice that you can change the parameters of the model\n",
        "lg_model = LogisticRegression(solver='lbfgs',max_iter=3000)\n",
        "lg_model.fit(X_train,y_train)\n"
      ],
      "metadata": {
        "colab": {
          "base_uri": "https://localhost:8080/"
        },
        "id": "2Kr3_HLd6Zqw",
        "outputId": "32d08125-fa0d-4ec5-d8cf-aa108ba92078"
      },
      "execution_count": null,
      "outputs": [
        {
          "output_type": "execute_result",
          "data": {
            "text/plain": [
              "LogisticRegression(max_iter=3000)"
            ]
          },
          "metadata": {},
          "execution_count": 25
        }
      ]
    },
    {
      "cell_type": "code",
      "source": [
        "# predicted values\n",
        "y_pred = lg_model.predict(X_test)\n",
        "# actual values\n",
        "actual = y_test"
      ],
      "metadata": {
        "id": "Ude83xAS6tx3"
      },
      "execution_count": null,
      "outputs": []
    },
    {
      "cell_type": "code",
      "source": [
        "# create a dictionary and a data frame and check correct predictions\n",
        "dic = {'Actual':actual,\n",
        "'Prediction':y_pred,\n",
        "'correct_prediction':0\n",
        "}\n",
        "result = pd.DataFrame(dic)\n"
      ],
      "metadata": {
        "id": "s90jEePn7Dqu"
      },
      "execution_count": null,
      "outputs": []
    },
    {
      "cell_type": "code",
      "source": [
        "# update the correct_prediction values to 1, if correct prediction\n",
        "def myfunc(x,y):\n",
        "  if x == y:\n",
        "    return 1\n",
        "  else:\n",
        "    return 0\n",
        "result['correct_prediction'] = result.apply(lambda x: myfunc(x.Actual, x.Prediction), axis=1)\n"
      ],
      "metadata": {
        "id": "6zcguBXt7Ji4"
      },
      "execution_count": null,
      "outputs": []
    },
    {
      "cell_type": "code",
      "source": [
        "result[result.correct_prediction==0]\n"
      ],
      "metadata": {
        "colab": {
          "base_uri": "https://localhost:8080/"
        },
        "id": "0NuyHbDC7TZV",
        "outputId": "1dc68c8a-2d1c-4ba9-eeca-b0779ce79882"
      },
      "execution_count": null,
      "outputs": [
        {
          "output_type": "execute_result",
          "data": {
            "text/plain": [
              "      Actual  Prediction  correct_prediction\n",
              "2522       1           0                   0\n",
              "936        0           1                   0\n",
              "909        0           1                   0\n",
              "715        1           0                   0\n",
              "2491       0           1                   0\n",
              "1984       1           0                   0\n",
              "1087       0           1                   0\n",
              "1962       1           0                   0\n",
              "700        1           0                   0\n",
              "438        1           0                   0\n",
              "1761       1           0                   0\n",
              "712        1           0                   0\n",
              "923        0           1                   0\n",
              "892        0           1                   0\n",
              "652        1           0                   0\n",
              "1093       0           1                   0\n",
              "565        1           0                   0\n",
              "422        1           0                   0\n",
              "569        1           0                   0\n",
              "1385       1           0                   0\n",
              "1192       1           0                   0\n",
              "296        1           0                   0\n",
              "478        0           1                   0\n",
              "351        1           0                   0\n",
              "1785       1           0                   0\n",
              "692        1           0                   0\n",
              "418        1           0                   0\n",
              "303        1           0                   0\n",
              "452        1           0                   0\n",
              "353        1           0                   0\n",
              "1725       0           1                   0\n",
              "427        1           0                   0\n",
              "2209       1           0                   0\n",
              "251        0           1                   0\n",
              "23         0           1                   0\n",
              "232        0           1                   0\n",
              "1367       0           1                   0\n",
              "2045       1           0                   0\n",
              "385        1           0                   0\n",
              "878        0           1                   0\n",
              "847        0           1                   0\n",
              "245        0           1                   0\n",
              "2401       1           0                   0\n",
              "252        0           1                   0\n",
              "868        0           1                   0"
            ],
            "text/html": [
              "\n",
              "  <div id=\"df-e0c03fed-0bfb-4930-a22a-cd8fab817350\">\n",
              "    <div class=\"colab-df-container\">\n",
              "      <div>\n",
              "<style scoped>\n",
              "    .dataframe tbody tr th:only-of-type {\n",
              "        vertical-align: middle;\n",
              "    }\n",
              "\n",
              "    .dataframe tbody tr th {\n",
              "        vertical-align: top;\n",
              "    }\n",
              "\n",
              "    .dataframe thead th {\n",
              "        text-align: right;\n",
              "    }\n",
              "</style>\n",
              "<table border=\"1\" class=\"dataframe\">\n",
              "  <thead>\n",
              "    <tr style=\"text-align: right;\">\n",
              "      <th></th>\n",
              "      <th>Actual</th>\n",
              "      <th>Prediction</th>\n",
              "      <th>correct_prediction</th>\n",
              "    </tr>\n",
              "  </thead>\n",
              "  <tbody>\n",
              "    <tr>\n",
              "      <th>2522</th>\n",
              "      <td>1</td>\n",
              "      <td>0</td>\n",
              "      <td>0</td>\n",
              "    </tr>\n",
              "    <tr>\n",
              "      <th>936</th>\n",
              "      <td>0</td>\n",
              "      <td>1</td>\n",
              "      <td>0</td>\n",
              "    </tr>\n",
              "    <tr>\n",
              "      <th>909</th>\n",
              "      <td>0</td>\n",
              "      <td>1</td>\n",
              "      <td>0</td>\n",
              "    </tr>\n",
              "    <tr>\n",
              "      <th>715</th>\n",
              "      <td>1</td>\n",
              "      <td>0</td>\n",
              "      <td>0</td>\n",
              "    </tr>\n",
              "    <tr>\n",
              "      <th>2491</th>\n",
              "      <td>0</td>\n",
              "      <td>1</td>\n",
              "      <td>0</td>\n",
              "    </tr>\n",
              "    <tr>\n",
              "      <th>1984</th>\n",
              "      <td>1</td>\n",
              "      <td>0</td>\n",
              "      <td>0</td>\n",
              "    </tr>\n",
              "    <tr>\n",
              "      <th>1087</th>\n",
              "      <td>0</td>\n",
              "      <td>1</td>\n",
              "      <td>0</td>\n",
              "    </tr>\n",
              "    <tr>\n",
              "      <th>1962</th>\n",
              "      <td>1</td>\n",
              "      <td>0</td>\n",
              "      <td>0</td>\n",
              "    </tr>\n",
              "    <tr>\n",
              "      <th>700</th>\n",
              "      <td>1</td>\n",
              "      <td>0</td>\n",
              "      <td>0</td>\n",
              "    </tr>\n",
              "    <tr>\n",
              "      <th>438</th>\n",
              "      <td>1</td>\n",
              "      <td>0</td>\n",
              "      <td>0</td>\n",
              "    </tr>\n",
              "    <tr>\n",
              "      <th>1761</th>\n",
              "      <td>1</td>\n",
              "      <td>0</td>\n",
              "      <td>0</td>\n",
              "    </tr>\n",
              "    <tr>\n",
              "      <th>712</th>\n",
              "      <td>1</td>\n",
              "      <td>0</td>\n",
              "      <td>0</td>\n",
              "    </tr>\n",
              "    <tr>\n",
              "      <th>923</th>\n",
              "      <td>0</td>\n",
              "      <td>1</td>\n",
              "      <td>0</td>\n",
              "    </tr>\n",
              "    <tr>\n",
              "      <th>892</th>\n",
              "      <td>0</td>\n",
              "      <td>1</td>\n",
              "      <td>0</td>\n",
              "    </tr>\n",
              "    <tr>\n",
              "      <th>652</th>\n",
              "      <td>1</td>\n",
              "      <td>0</td>\n",
              "      <td>0</td>\n",
              "    </tr>\n",
              "    <tr>\n",
              "      <th>1093</th>\n",
              "      <td>0</td>\n",
              "      <td>1</td>\n",
              "      <td>0</td>\n",
              "    </tr>\n",
              "    <tr>\n",
              "      <th>565</th>\n",
              "      <td>1</td>\n",
              "      <td>0</td>\n",
              "      <td>0</td>\n",
              "    </tr>\n",
              "    <tr>\n",
              "      <th>422</th>\n",
              "      <td>1</td>\n",
              "      <td>0</td>\n",
              "      <td>0</td>\n",
              "    </tr>\n",
              "    <tr>\n",
              "      <th>569</th>\n",
              "      <td>1</td>\n",
              "      <td>0</td>\n",
              "      <td>0</td>\n",
              "    </tr>\n",
              "    <tr>\n",
              "      <th>1385</th>\n",
              "      <td>1</td>\n",
              "      <td>0</td>\n",
              "      <td>0</td>\n",
              "    </tr>\n",
              "    <tr>\n",
              "      <th>1192</th>\n",
              "      <td>1</td>\n",
              "      <td>0</td>\n",
              "      <td>0</td>\n",
              "    </tr>\n",
              "    <tr>\n",
              "      <th>296</th>\n",
              "      <td>1</td>\n",
              "      <td>0</td>\n",
              "      <td>0</td>\n",
              "    </tr>\n",
              "    <tr>\n",
              "      <th>478</th>\n",
              "      <td>0</td>\n",
              "      <td>1</td>\n",
              "      <td>0</td>\n",
              "    </tr>\n",
              "    <tr>\n",
              "      <th>351</th>\n",
              "      <td>1</td>\n",
              "      <td>0</td>\n",
              "      <td>0</td>\n",
              "    </tr>\n",
              "    <tr>\n",
              "      <th>1785</th>\n",
              "      <td>1</td>\n",
              "      <td>0</td>\n",
              "      <td>0</td>\n",
              "    </tr>\n",
              "    <tr>\n",
              "      <th>692</th>\n",
              "      <td>1</td>\n",
              "      <td>0</td>\n",
              "      <td>0</td>\n",
              "    </tr>\n",
              "    <tr>\n",
              "      <th>418</th>\n",
              "      <td>1</td>\n",
              "      <td>0</td>\n",
              "      <td>0</td>\n",
              "    </tr>\n",
              "    <tr>\n",
              "      <th>303</th>\n",
              "      <td>1</td>\n",
              "      <td>0</td>\n",
              "      <td>0</td>\n",
              "    </tr>\n",
              "    <tr>\n",
              "      <th>452</th>\n",
              "      <td>1</td>\n",
              "      <td>0</td>\n",
              "      <td>0</td>\n",
              "    </tr>\n",
              "    <tr>\n",
              "      <th>353</th>\n",
              "      <td>1</td>\n",
              "      <td>0</td>\n",
              "      <td>0</td>\n",
              "    </tr>\n",
              "    <tr>\n",
              "      <th>1725</th>\n",
              "      <td>0</td>\n",
              "      <td>1</td>\n",
              "      <td>0</td>\n",
              "    </tr>\n",
              "    <tr>\n",
              "      <th>427</th>\n",
              "      <td>1</td>\n",
              "      <td>0</td>\n",
              "      <td>0</td>\n",
              "    </tr>\n",
              "    <tr>\n",
              "      <th>2209</th>\n",
              "      <td>1</td>\n",
              "      <td>0</td>\n",
              "      <td>0</td>\n",
              "    </tr>\n",
              "    <tr>\n",
              "      <th>251</th>\n",
              "      <td>0</td>\n",
              "      <td>1</td>\n",
              "      <td>0</td>\n",
              "    </tr>\n",
              "    <tr>\n",
              "      <th>23</th>\n",
              "      <td>0</td>\n",
              "      <td>1</td>\n",
              "      <td>0</td>\n",
              "    </tr>\n",
              "    <tr>\n",
              "      <th>232</th>\n",
              "      <td>0</td>\n",
              "      <td>1</td>\n",
              "      <td>0</td>\n",
              "    </tr>\n",
              "    <tr>\n",
              "      <th>1367</th>\n",
              "      <td>0</td>\n",
              "      <td>1</td>\n",
              "      <td>0</td>\n",
              "    </tr>\n",
              "    <tr>\n",
              "      <th>2045</th>\n",
              "      <td>1</td>\n",
              "      <td>0</td>\n",
              "      <td>0</td>\n",
              "    </tr>\n",
              "    <tr>\n",
              "      <th>385</th>\n",
              "      <td>1</td>\n",
              "      <td>0</td>\n",
              "      <td>0</td>\n",
              "    </tr>\n",
              "    <tr>\n",
              "      <th>878</th>\n",
              "      <td>0</td>\n",
              "      <td>1</td>\n",
              "      <td>0</td>\n",
              "    </tr>\n",
              "    <tr>\n",
              "      <th>847</th>\n",
              "      <td>0</td>\n",
              "      <td>1</td>\n",
              "      <td>0</td>\n",
              "    </tr>\n",
              "    <tr>\n",
              "      <th>245</th>\n",
              "      <td>0</td>\n",
              "      <td>1</td>\n",
              "      <td>0</td>\n",
              "    </tr>\n",
              "    <tr>\n",
              "      <th>2401</th>\n",
              "      <td>1</td>\n",
              "      <td>0</td>\n",
              "      <td>0</td>\n",
              "    </tr>\n",
              "    <tr>\n",
              "      <th>252</th>\n",
              "      <td>0</td>\n",
              "      <td>1</td>\n",
              "      <td>0</td>\n",
              "    </tr>\n",
              "    <tr>\n",
              "      <th>868</th>\n",
              "      <td>0</td>\n",
              "      <td>1</td>\n",
              "      <td>0</td>\n",
              "    </tr>\n",
              "  </tbody>\n",
              "</table>\n",
              "</div>\n",
              "      <button class=\"colab-df-convert\" onclick=\"convertToInteractive('df-e0c03fed-0bfb-4930-a22a-cd8fab817350')\"\n",
              "              title=\"Convert this dataframe to an interactive table.\"\n",
              "              style=\"display:none;\">\n",
              "        \n",
              "  <svg xmlns=\"http://www.w3.org/2000/svg\" height=\"24px\"viewBox=\"0 0 24 24\"\n",
              "       width=\"24px\">\n",
              "    <path d=\"M0 0h24v24H0V0z\" fill=\"none\"/>\n",
              "    <path d=\"M18.56 5.44l.94 2.06.94-2.06 2.06-.94-2.06-.94-.94-2.06-.94 2.06-2.06.94zm-11 1L8.5 8.5l.94-2.06 2.06-.94-2.06-.94L8.5 2.5l-.94 2.06-2.06.94zm10 10l.94 2.06.94-2.06 2.06-.94-2.06-.94-.94-2.06-.94 2.06-2.06.94z\"/><path d=\"M17.41 7.96l-1.37-1.37c-.4-.4-.92-.59-1.43-.59-.52 0-1.04.2-1.43.59L10.3 9.45l-7.72 7.72c-.78.78-.78 2.05 0 2.83L4 21.41c.39.39.9.59 1.41.59.51 0 1.02-.2 1.41-.59l7.78-7.78 2.81-2.81c.8-.78.8-2.07 0-2.86zM5.41 20L4 18.59l7.72-7.72 1.47 1.35L5.41 20z\"/>\n",
              "  </svg>\n",
              "      </button>\n",
              "      \n",
              "  <style>\n",
              "    .colab-df-container {\n",
              "      display:flex;\n",
              "      flex-wrap:wrap;\n",
              "      gap: 12px;\n",
              "    }\n",
              "\n",
              "    .colab-df-convert {\n",
              "      background-color: #E8F0FE;\n",
              "      border: none;\n",
              "      border-radius: 50%;\n",
              "      cursor: pointer;\n",
              "      display: none;\n",
              "      fill: #1967D2;\n",
              "      height: 32px;\n",
              "      padding: 0 0 0 0;\n",
              "      width: 32px;\n",
              "    }\n",
              "\n",
              "    .colab-df-convert:hover {\n",
              "      background-color: #E2EBFA;\n",
              "      box-shadow: 0px 1px 2px rgba(60, 64, 67, 0.3), 0px 1px 3px 1px rgba(60, 64, 67, 0.15);\n",
              "      fill: #174EA6;\n",
              "    }\n",
              "\n",
              "    [theme=dark] .colab-df-convert {\n",
              "      background-color: #3B4455;\n",
              "      fill: #D2E3FC;\n",
              "    }\n",
              "\n",
              "    [theme=dark] .colab-df-convert:hover {\n",
              "      background-color: #434B5C;\n",
              "      box-shadow: 0px 1px 3px 1px rgba(0, 0, 0, 0.15);\n",
              "      filter: drop-shadow(0px 1px 2px rgba(0, 0, 0, 0.3));\n",
              "      fill: #FFFFFF;\n",
              "    }\n",
              "  </style>\n",
              "\n",
              "      <script>\n",
              "        const buttonEl =\n",
              "          document.querySelector('#df-e0c03fed-0bfb-4930-a22a-cd8fab817350 button.colab-df-convert');\n",
              "        buttonEl.style.display =\n",
              "          google.colab.kernel.accessAllowed ? 'block' : 'none';\n",
              "\n",
              "        async function convertToInteractive(key) {\n",
              "          const element = document.querySelector('#df-e0c03fed-0bfb-4930-a22a-cd8fab817350');\n",
              "          const dataTable =\n",
              "            await google.colab.kernel.invokeFunction('convertToInteractive',\n",
              "                                                     [key], {});\n",
              "          if (!dataTable) return;\n",
              "\n",
              "          const docLinkHtml = 'Like what you see? Visit the ' +\n",
              "            '<a target=\"_blank\" href=https://colab.research.google.com/notebooks/data_table.ipynb>data table notebook</a>'\n",
              "            + ' to learn more about interactive tables.';\n",
              "          element.innerHTML = '';\n",
              "          dataTable['output_type'] = 'display_data';\n",
              "          await google.colab.output.renderOutput(dataTable, element);\n",
              "          const docLink = document.createElement('div');\n",
              "          docLink.innerHTML = docLinkHtml;\n",
              "          element.appendChild(docLink);\n",
              "        }\n",
              "      </script>\n",
              "    </div>\n",
              "  </div>\n",
              "  "
            ]
          },
          "metadata": {},
          "execution_count": 29
        }
      ]
    },
    {
      "cell_type": "code",
      "source": [
        "print(f'Model Accuracy on Test Data is {len(result[result.correct_prediction==1])/len(result)}')\n"
      ],
      "metadata": {
        "colab": {
          "base_uri": "https://localhost:8080/"
        },
        "id": "NuaJwgIM7acd",
        "outputId": "c6136910-50a3-4086-c744-575c7a6eff7d"
      },
      "execution_count": null,
      "outputs": [
        {
          "output_type": "stream",
          "name": "stdout",
          "text": [
            "Model Accuracy on Test Data is 0.9129593810444874\n"
          ]
        }
      ]
    },
    {
      "cell_type": "code",
      "source": [
        "from sklearn.metrics import accuracy_score\n",
        "print(f'The Model Accuracy on Testing Set is {round(accuracy_score(y_test,y_pred),2)}')\n"
      ],
      "metadata": {
        "colab": {
          "base_uri": "https://localhost:8080/"
        },
        "id": "9KPo_Onz7mMK",
        "outputId": "e26ca0c0-6844-4ea9-a657-521df99481db"
      },
      "execution_count": null,
      "outputs": [
        {
          "output_type": "stream",
          "name": "stdout",
          "text": [
            "The Model Accuracy on Testing Set is 0.91\n"
          ]
        }
      ]
    },
    {
      "cell_type": "code",
      "source": [
        "from sklearn.metrics import classification_report\n",
        "print(classification_report(y_test,y_pred))\n"
      ],
      "metadata": {
        "colab": {
          "base_uri": "https://localhost:8080/"
        },
        "id": "bbyay_z27sEO",
        "outputId": "3a110c16-ec61-427a-a795-120cf696d9c8"
      },
      "execution_count": null,
      "outputs": [
        {
          "output_type": "stream",
          "name": "stdout",
          "text": [
            "              precision    recall  f1-score   support\n",
            "\n",
            "           0       0.95      0.96      0.95       490\n",
            "           1       0.00      0.00      0.00        27\n",
            "\n",
            "    accuracy                           0.91       517\n",
            "   macro avg       0.47      0.48      0.48       517\n",
            "weighted avg       0.90      0.91      0.90       517\n",
            "\n"
          ]
        }
      ]
    },
    {
      "cell_type": "code",
      "source": [
        "from sklearn.metrics import confusion_matrix\n",
        "print(confusion_matrix(y_test,y_pred))"
      ],
      "metadata": {
        "colab": {
          "base_uri": "https://localhost:8080/"
        },
        "id": "SO6ZbjPr7utc",
        "outputId": "56d6bfbf-053d-4707-d072-076101b34c6b"
      },
      "execution_count": null,
      "outputs": [
        {
          "output_type": "stream",
          "name": "stdout",
          "text": [
            "[[472  18]\n",
            " [ 27   0]]\n"
          ]
        }
      ]
    },
    {
      "cell_type": "code",
      "source": [
        "ax = sns.heatmap(confusion_matrix(y_test,y_pred),annot=True,fmt=\"d\")\n",
        "ax.set_ylim([0,2])\n"
      ],
      "metadata": {
        "colab": {
          "base_uri": "https://localhost:8080/"
        },
        "id": "LAJrFptg7xwl",
        "outputId": "23e2440a-c14f-4826-c711-c38108600923"
      },
      "execution_count": null,
      "outputs": [
        {
          "output_type": "execute_result",
          "data": {
            "text/plain": [
              "(0.0, 2.0)"
            ]
          },
          "metadata": {},
          "execution_count": 34
        },
        {
          "output_type": "display_data",
          "data": {
            "text/plain": [
              "<Figure size 432x288 with 2 Axes>"
            ],
            "image/png": "[encoded data removed]"
          },
          "metadata": {
            "needs_background": "light"
          }
        }
      ]
    },
    {
      "cell_type": "markdown",
      "source": [
        "The Confusion Matrix True Positive value is 0 and true Negative was 472. And the False Positive\n",
        "came out to be 27 and False Negative is 18."
      ],
      "metadata": {
        "id": "4l4qubTD72cI"
      }
    },
    {
      "cell_type": "markdown",
      "source": [
        "**Saving the model**\n"
      ],
      "metadata": {
        "id": "EXDhVcHn8Bdl"
      }
    },
    {
      "cell_type": "code",
      "source": [
        "import pickle\n",
        "# Save to file in the current working directory\n",
        "pkl_filename = \"pickle_lr_model.pkl\"\n",
        "\n",
        "# save your model that was created above (lg_model)\n",
        "with open(pkl_filename, 'wb') as file:\n",
        "  pickle.dump(lg_model, file)\n",
        "\n",
        "# Load from file\n",
        "with open(pkl_filename, 'rb') as file:\n",
        "  pickle_model = pickle.load(file)\n",
        "\n",
        "# Lets test the mode loaded from a file and check results\n",
        "score = pickle_model.score(X_test, y_test)\n",
        "print(\"Test score: {0:.2f} %\".format(100 * score))\n",
        "y_hat = pickle_model.predict(X_test)\n"
      ],
      "metadata": {
        "colab": {
          "base_uri": "https://localhost:8080/"
        },
        "id": "OOpoRRd_8GEJ",
        "outputId": "e33d384e-2a85-45bd-d957-b221ac78fb87"
      },
      "execution_count": null,
      "outputs": [
        {
          "output_type": "stream",
          "name": "stdout",
          "text": [
            "Test score: 91.30 %\n"
          ]
        }
      ]
    },
    {
      "cell_type": "markdown",
      "source": [
        "Now the second step is to fit my model to the training dataset. To do so, we will import the LogisticRegression class of the logistic_model library from the scikit learn. After importing the class, we are going to create an object of the class named as a regressor. The code for this is given below:"
      ],
      "metadata": {
        "id": "Tx7sQ6wugsSO"
      }
    },
    {
      "cell_type": "markdown",
      "source": [
        "## Models that use oversampled data, splitting or fitting"
      ],
      "metadata": {
        "id": "KXYjOUxiPJ1R"
      }
    },
    {
      "cell_type": "markdown",
      "source": [
        "### Using Smote with undersampled data\n"
      ],
      "metadata": {
        "id": "4qvFYlwvO0_h"
      }
    },
    {
      "cell_type": "code",
      "source": [
        "# check version number\n",
        "import imblearn\n",
        "print(imblearn.__version__)"
      ],
      "metadata": {
        "colab": {
          "base_uri": "https://localhost:8080/"
        },
        "id": "zYxmhZHQ2Rq8",
        "outputId": "b5717dc4-af5a-4e73-aa1e-e854f7626047"
      },
      "execution_count": null,
      "outputs": [
        {
          "output_type": "stream",
          "name": "stdout",
          "text": [
            "0.8.1\n"
          ]
        }
      ]
    },
    {
      "cell_type": "code",
      "source": [
        "import pandas as pd\n",
        "import numpy as np\n",
        "import time\n",
        "import matplotlib.pyplot as plt\n",
        "from imblearn.over_sampling import SMOTE\n",
        "from imblearn.over_sampling import BorderlineSMOTE\n",
        "from imblearn.under_sampling import RandomUnderSampler\n",
        "from xgboost import XGBClassifier\n",
        "from lightgbm import LGBMClassifier\n",
        "from sklearn.dummy import DummyClassifier\n",
        "from sklearn.neighbors import KNeighborsClassifier\n",
        "from sklearn.tree import DecisionTreeClassifier\n",
        "from sklearn.ensemble import RandomForestClassifier\n",
        "from sklearn.ensemble import AdaBoostClassifier\n",
        "from sklearn.ensemble import GradientBoostingClassifier\n",
        "from sklearn.naive_bayes import GaussianNB\n",
        "from sklearn.linear_model import LogisticRegression\n",
        "from sklearn.model_selection import RepeatedStratifiedKFold\n",
        "from sklearn.model_selection import cross_val_score\n",
        "from sklearn.model_selection import train_test_split\n",
        "from sklearn.metrics import classification_report\n",
        "from sklearn.metrics import confusion_matrix\n",
        "from sklearn.metrics import f1_score\n",
        "from sklearn.metrics import accuracy_score\n",
        "from sklearn.metrics import roc_auc_score\n",
        "from sklearn.metrics import precision_score\n",
        "from sklearn.metrics import recall_score\n",
        "from sklearn.metrics import average_precision_score\n",
        "from sklearn.metrics import precision_recall_curve\n",
        "from sklearn.metrics import make_scorer"
      ],
      "metadata": {
        "id": "b-SipuKF8xaL"
      },
      "execution_count": null,
      "outputs": []
    },
    {
      "cell_type": "markdown",
      "source": [
        "**SMOTE for Balancing Data**<br>\n",
        "\n",
        "\n"
      ],
      "metadata": {
        "id": "0l0klw9y2V1X"
      }
    },
    {
      "cell_type": "code",
      "source": [
        "# In this section, I will use SMOTE by applying it to an imbalanced binary classification problem.\n",
        "dfc.columns = map(str.lower, dfc.columns)\n",
        "dfc.head().T"
      ],
      "metadata": {
        "colab": {
          "base_uri": "https://localhost:8080/"
        },
        "id": "2BhsdnbG8538",
        "outputId": "0ef9a833-76c1-41be-a7c5-119208672e46"
      },
      "execution_count": null,
      "outputs": [
        {
          "output_type": "execute_result",
          "data": {
            "text/plain": [
              "               0      1     2      3      4\n",
              "genergy    15180  14720  8050  28820  12640\n",
              "gpuls         48     33    30    171     57\n",
              "gdenergy     -72    -70   -81    -23    -63\n",
              "gdpuls       -72    -79   -78     40    -52\n",
              "nbumps         0      1     0      1      0\n",
              "nbumps2        0      0     0      0      0\n",
              "nbumps3        0      1     0      1      0\n",
              "nbumps4        0      0     0      0      0\n",
              "nbumps5        0      0     0      0      0\n",
              "nbumps6        0      0     0      0      0\n",
              "nbumps7        0      0     0      0      0\n",
              "nbumps89       0      0     0      0      0\n",
              "energy         0   2000     0   3000      0\n",
              "maxenergy      0   2000     0   3000      0\n",
              "class          0      0     0      0      0"
            ],
            "text/html": [
              "\n",
              "  <div id=\"df-a3f5c6bc-fdb9-472d-98b6-74357883c38e\">\n",
              "    <div class=\"colab-df-container\">\n",
              "      <div>\n",
              "<style scoped>\n",
              "    .dataframe tbody tr th:only-of-type {\n",
              "        vertical-align: middle;\n",
              "    }\n",
              "\n",
              "    .dataframe tbody tr th {\n",
              "        vertical-align: top;\n",
              "    }\n",
              "\n",
              "    .dataframe thead th {\n",
              "        text-align: right;\n",
              "    }\n",
              "</style>\n",
              "<table border=\"1\" class=\"dataframe\">\n",
              "  <thead>\n",
              "    <tr style=\"text-align: right;\">\n",
              "      <th></th>\n",
              "      <th>0</th>\n",
              "      <th>1</th>\n",
              "      <th>2</th>\n",
              "      <th>3</th>\n",
              "      <th>4</th>\n",
              "    </tr>\n",
              "  </thead>\n",
              "  <tbody>\n",
              "    <tr>\n",
              "      <th>genergy</th>\n",
              "      <td>15180</td>\n",
              "      <td>14720</td>\n",
              "      <td>8050</td>\n",
              "      <td>28820</td>\n",
              "      <td>12640</td>\n",
              "    </tr>\n",
              "    <tr>\n",
              "      <th>gpuls</th>\n",
              "      <td>48</td>\n",
              "      <td>33</td>\n",
              "      <td>30</td>\n",
              "      <td>171</td>\n",
              "      <td>57</td>\n",
              "    </tr>\n",
              "    <tr>\n",
              "      <th>gdenergy</th>\n",
              "      <td>-72</td>\n",
              "      <td>-70</td>\n",
              "      <td>-81</td>\n",
              "      <td>-23</td>\n",
              "      <td>-63</td>\n",
              "    </tr>\n",
              "    <tr>\n",
              "      <th>gdpuls</th>\n",
              "      <td>-72</td>\n",
              "      <td>-79</td>\n",
              "      <td>-78</td>\n",
              "      <td>40</td>\n",
              "      <td>-52</td>\n",
              "    </tr>\n",
              "    <tr>\n",
              "      <th>nbumps</th>\n",
              "      <td>0</td>\n",
              "      <td>1</td>\n",
              "      <td>0</td>\n",
              "      <td>1</td>\n",
              "      <td>0</td>\n",
              "    </tr>\n",
              "    <tr>\n",
              "      <th>nbumps2</th>\n",
              "      <td>0</td>\n",
              "      <td>0</td>\n",
              "      <td>0</td>\n",
              "      <td>0</td>\n",
              "      <td>0</td>\n",
              "    </tr>\n",
              "    <tr>\n",
              "      <th>nbumps3</th>\n",
              "      <td>0</td>\n",
              "      <td>1</td>\n",
              "      <td>0</td>\n",
              "      <td>1</td>\n",
              "      <td>0</td>\n",
              "    </tr>\n",
              "    <tr>\n",
              "      <th>nbumps4</th>\n",
              "      <td>0</td>\n",
              "      <td>0</td>\n",
              "      <td>0</td>\n",
              "      <td>0</td>\n",
              "      <td>0</td>\n",
              "    </tr>\n",
              "    <tr>\n",
              "      <th>nbumps5</th>\n",
              "      <td>0</td>\n",
              "      <td>0</td>\n",
              "      <td>0</td>\n",
              "      <td>0</td>\n",
              "      <td>0</td>\n",
              "    </tr>\n",
              "    <tr>\n",
              "      <th>nbumps6</th>\n",
              "      <td>0</td>\n",
              "      <td>0</td>\n",
              "      <td>0</td>\n",
              "      <td>0</td>\n",
              "      <td>0</td>\n",
              "    </tr>\n",
              "    <tr>\n",
              "      <th>nbumps7</th>\n",
              "      <td>0</td>\n",
              "      <td>0</td>\n",
              "      <td>0</td>\n",
              "      <td>0</td>\n",
              "      <td>0</td>\n",
              "    </tr>\n",
              "    <tr>\n",
              "      <th>nbumps89</th>\n",
              "      <td>0</td>\n",
              "      <td>0</td>\n",
              "      <td>0</td>\n",
              "      <td>0</td>\n",
              "      <td>0</td>\n",
              "    </tr>\n",
              "    <tr>\n",
              "      <th>energy</th>\n",
              "      <td>0</td>\n",
              "      <td>2000</td>\n",
              "      <td>0</td>\n",
              "      <td>3000</td>\n",
              "      <td>0</td>\n",
              "    </tr>\n",
              "    <tr>\n",
              "      <th>maxenergy</th>\n",
              "      <td>0</td>\n",
              "      <td>2000</td>\n",
              "      <td>0</td>\n",
              "      <td>3000</td>\n",
              "      <td>0</td>\n",
              "    </tr>\n",
              "    <tr>\n",
              "      <th>class</th>\n",
              "      <td>0</td>\n",
              "      <td>0</td>\n",
              "      <td>0</td>\n",
              "      <td>0</td>\n",
              "      <td>0</td>\n",
              "    </tr>\n",
              "  </tbody>\n",
              "</table>\n",
              "</div>\n",
              "      <button class=\"colab-df-convert\" onclick=\"convertToInteractive('df-a3f5c6bc-fdb9-472d-98b6-74357883c38e')\"\n",
              "              title=\"Convert this dataframe to an interactive table.\"\n",
              "              style=\"display:none;\">\n",
              "        \n",
              "  <svg xmlns=\"http://www.w3.org/2000/svg\" height=\"24px\"viewBox=\"0 0 24 24\"\n",
              "       width=\"24px\">\n",
              "    <path d=\"M0 0h24v24H0V0z\" fill=\"none\"/>\n",
              "    <path d=\"M18.56 5.44l.94 2.06.94-2.06 2.06-.94-2.06-.94-.94-2.06-.94 2.06-2.06.94zm-11 1L8.5 8.5l.94-2.06 2.06-.94-2.06-.94L8.5 2.5l-.94 2.06-2.06.94zm10 10l.94 2.06.94-2.06 2.06-.94-2.06-.94-.94-2.06-.94 2.06-2.06.94z\"/><path d=\"M17.41 7.96l-1.37-1.37c-.4-.4-.92-.59-1.43-.59-.52 0-1.04.2-1.43.59L10.3 9.45l-7.72 7.72c-.78.78-.78 2.05 0 2.83L4 21.41c.39.39.9.59 1.41.59.51 0 1.02-.2 1.41-.59l7.78-7.78 2.81-2.81c.8-.78.8-2.07 0-2.86zM5.41 20L4 18.59l7.72-7.72 1.47 1.35L5.41 20z\"/>\n",
              "  </svg>\n",
              "      </button>\n",
              "      \n",
              "  <style>\n",
              "    .colab-df-container {\n",
              "      display:flex;\n",
              "      flex-wrap:wrap;\n",
              "      gap: 12px;\n",
              "    }\n",
              "\n",
              "    .colab-df-convert {\n",
              "      background-color: #E8F0FE;\n",
              "      border: none;\n",
              "      border-radius: 50%;\n",
              "      cursor: pointer;\n",
              "      display: none;\n",
              "      fill: #1967D2;\n",
              "      height: 32px;\n",
              "      padding: 0 0 0 0;\n",
              "      width: 32px;\n",
              "    }\n",
              "\n",
              "    .colab-df-convert:hover {\n",
              "      background-color: #E2EBFA;\n",
              "      box-shadow: 0px 1px 2px rgba(60, 64, 67, 0.3), 0px 1px 3px 1px rgba(60, 64, 67, 0.15);\n",
              "      fill: #174EA6;\n",
              "    }\n",
              "\n",
              "    [theme=dark] .colab-df-convert {\n",
              "      background-color: #3B4455;\n",
              "      fill: #D2E3FC;\n",
              "    }\n",
              "\n",
              "    [theme=dark] .colab-df-convert:hover {\n",
              "      background-color: #434B5C;\n",
              "      box-shadow: 0px 1px 3px 1px rgba(0, 0, 0, 0.15);\n",
              "      filter: drop-shadow(0px 1px 2px rgba(0, 0, 0, 0.3));\n",
              "      fill: #FFFFFF;\n",
              "    }\n",
              "  </style>\n",
              "\n",
              "      <script>\n",
              "        const buttonEl =\n",
              "          document.querySelector('#df-a3f5c6bc-fdb9-472d-98b6-74357883c38e button.colab-df-convert');\n",
              "        buttonEl.style.display =\n",
              "          google.colab.kernel.accessAllowed ? 'block' : 'none';\n",
              "\n",
              "        async function convertToInteractive(key) {\n",
              "          const element = document.querySelector('#df-a3f5c6bc-fdb9-472d-98b6-74357883c38e');\n",
              "          const dataTable =\n",
              "            await google.colab.kernel.invokeFunction('convertToInteractive',\n",
              "                                                     [key], {});\n",
              "          if (!dataTable) return;\n",
              "\n",
              "          const docLinkHtml = 'Like what you see? Visit the ' +\n",
              "            '<a target=\"_blank\" href=https://colab.research.google.com/notebooks/data_table.ipynb>data table notebook</a>'\n",
              "            + ' to learn more about interactive tables.';\n",
              "          element.innerHTML = '';\n",
              "          dataTable['output_type'] = 'display_data';\n",
              "          await google.colab.output.renderOutput(dataTable, element);\n",
              "          const docLink = document.createElement('div');\n",
              "          docLink.innerHTML = docLinkHtml;\n",
              "          element.appendChild(docLink);\n",
              "        }\n",
              "      </script>\n",
              "    </div>\n",
              "  </div>\n",
              "  "
            ]
          },
          "metadata": {},
          "execution_count": 38
        }
      ]
    },
    {
      "cell_type": "markdown",
      "source": [
        "**Examine the class imbalance**"
      ],
      "metadata": {
        "id": "dlR8uZ5R9Yiy"
      }
    },
    {
      "cell_type": "code",
      "source": [
        "dfc['class'].value_counts()"
      ],
      "metadata": {
        "colab": {
          "base_uri": "https://localhost:8080/"
        },
        "id": "2fpaSp4f9bl6",
        "outputId": "910def99-7748-4e22-8eee-a26206d72e88"
      },
      "execution_count": null,
      "outputs": [
        {
          "output_type": "execute_result",
          "data": {
            "text/plain": [
              "0    2414\n",
              "1     170\n",
              "Name: class, dtype: int64"
            ]
          },
          "metadata": {},
          "execution_count": 39
        }
      ]
    },
    {
      "cell_type": "code",
      "source": [
        "(170/2414)*100"
      ],
      "metadata": {
        "colab": {
          "base_uri": "https://localhost:8080/"
        },
        "id": "bIO9JgGx9fzE",
        "outputId": "8ec3f244-9459-4370-94ea-70510d56162d"
      },
      "execution_count": null,
      "outputs": [
        {
          "output_type": "execute_result",
          "data": {
            "text/plain": [
              "7.042253521126761"
            ]
          },
          "metadata": {},
          "execution_count": 40
        }
      ]
    },
    {
      "cell_type": "code",
      "source": [
        "100-(170/2414)*100"
      ],
      "metadata": {
        "colab": {
          "base_uri": "https://localhost:8080/"
        },
        "id": "GUohKuVO9maB",
        "outputId": "ff1c84e4-0da1-45de-d205-ca00581e9d17"
      },
      "execution_count": null,
      "outputs": [
        {
          "output_type": "execute_result",
          "data": {
            "text/plain": [
              "92.95774647887323"
            ]
          },
          "metadata": {},
          "execution_count": 41
        }
      ]
    },
    {
      "cell_type": "code",
      "source": [
        "dfc[dfc.columns[1:]].corr()['class'][:].sort_values(ascending=False)"
      ],
      "metadata": {
        "colab": {
          "base_uri": "https://localhost:8080/"
        },
        "id": "Zi1E6UaN-IgG",
        "outputId": "f554deca-b318-48e8-85ad-6da5499ce506"
      },
      "execution_count": null,
      "outputs": [
        {
          "output_type": "execute_result",
          "data": {
            "text/plain": [
              "class        1.000000\n",
              "nbumps       0.248144\n",
              "nbumps3      0.205327\n",
              "nbumps2      0.201381\n",
              "gpuls        0.201042\n",
              "nbumps4      0.075458\n",
              "energy       0.058431\n",
              "maxenergy    0.040243\n",
              "gdpuls       0.021788\n",
              "nbumps5      0.004834\n",
              "gdenergy     0.002957\n",
              "nbumps6           NaN\n",
              "nbumps7           NaN\n",
              "nbumps89          NaN\n",
              "Name: class, dtype: float64"
            ]
          },
          "metadata": {},
          "execution_count": 42
        }
      ]
    },
    {
      "cell_type": "code",
      "source": [
        "X_train, X_test, y_train, y_test = train_test_split(X, y, test_size=0.3,random_state=0,shuffle=True,stratify=y)"
      ],
      "metadata": {
        "id": "SiE2vaHc-XGR"
      },
      "execution_count": null,
      "outputs": []
    },
    {
      "cell_type": "code",
      "source": [
        "oversampled = SMOTE(random_state=0)\n",
        "X_train_smote, y_train_smote = oversampled.fit_resample(X_train, y_train)"
      ],
      "metadata": {
        "id": "3yH1lxah-TPq"
      },
      "execution_count": null,
      "outputs": []
    },
    {
      "cell_type": "code",
      "source": [
        "y_train_smote.value_counts()"
      ],
      "metadata": {
        "colab": {
          "base_uri": "https://localhost:8080/"
        },
        "id": "rBEfh_np-scc",
        "outputId": "8651ef04-3877-44b3-c684-be5f324bd1d7"
      },
      "execution_count": null,
      "outputs": [
        {
          "output_type": "execute_result",
          "data": {
            "text/plain": [
              "0    1689\n",
              "1    1689\n",
              "Name: class, dtype: int64"
            ]
          },
          "metadata": {},
          "execution_count": 45
        }
      ]
    },
    {
      "cell_type": "markdown",
      "source": [
        "### Creating the model"
      ],
      "metadata": {
        "id": "LDv7oc1pQCWG"
      }
    },
    {
      "cell_type": "code",
      "source": [
        "dfc2 = df.copy()"
      ],
      "metadata": {
        "id": "UmQoGlF5AOeT"
      },
      "execution_count": null,
      "outputs": []
    },
    {
      "cell_type": "code",
      "source": [
        "dfc2 = dfc2.drop(columns=['seismic', 'seismoacoustic','shift', 'ghazard'])"
      ],
      "metadata": {
        "id": "VhFHPDGZBeRx"
      },
      "execution_count": null,
      "outputs": []
    },
    {
      "cell_type": "code",
      "source": [
        "#store the input features\n",
        "y2 = dfc2['class']\n",
        "X2 = dfc2.drop('class', axis = 1)"
      ],
      "metadata": {
        "id": "r8glPZ5GATVk"
      },
      "execution_count": null,
      "outputs": []
    },
    {
      "cell_type": "code",
      "source": [
        "print(type(X2))\n",
        "print(type(y2))\n"
      ],
      "metadata": {
        "colab": {
          "base_uri": "https://localhost:8080/"
        },
        "id": "CKAqTL5oAdDF",
        "outputId": "f2b30b97-08cb-4bb9-cee8-4963c4e208c9"
      },
      "execution_count": null,
      "outputs": [
        {
          "output_type": "stream",
          "name": "stdout",
          "text": [
            "<class 'pandas.core.frame.DataFrame'>\n",
            "<class 'pandas.core.series.Series'>\n"
          ]
        }
      ]
    },
    {
      "cell_type": "markdown",
      "source": [
        "### Splitting the Data"
      ],
      "metadata": {
        "id": "Rs89Hfa6AhJn"
      }
    },
    {
      "cell_type": "code",
      "source": [
        "from sklearn.model_selection import train_test_split\n",
        "X2_train, X2_test, y2_train, y2_test = train_test_split(X2, y2, test_size=0.2, random_state=0)\n"
      ],
      "metadata": {
        "id": "ezBnu6cmAjvt"
      },
      "execution_count": null,
      "outputs": []
    },
    {
      "cell_type": "markdown",
      "source": [
        "### Fitting the Data"
      ],
      "metadata": {
        "id": "Xbil3z8IhOsJ"
      }
    },
    {
      "cell_type": "code",
      "source": [
        "from sklearn.linear_model import LogisticRegression\n",
        "# notice that you can change the parameters of the model\n",
        "lg2_model = LogisticRegression(solver='lbfgs',max_iter=3000)\n",
        "lg2_model.fit(X2_train,y2_train)\n"
      ],
      "metadata": {
        "colab": {
          "base_uri": "https://localhost:8080/"
        },
        "id": "owmIZUfFAsTo",
        "outputId": "a95ee9c3-65d7-4119-86e8-2b9ddc6e5542"
      },
      "execution_count": null,
      "outputs": [
        {
          "output_type": "execute_result",
          "data": {
            "text/plain": [
              "LogisticRegression(max_iter=3000)"
            ]
          },
          "metadata": {},
          "execution_count": 51
        }
      ]
    },
    {
      "cell_type": "code",
      "source": [
        "# predicted values\n",
        "y_pred = lg_model.predict(X_test)\n",
        "# actual values\n",
        "actual = y_test\n"
      ],
      "metadata": {
        "id": "6wOU_nfhBj1U"
      },
      "execution_count": null,
      "outputs": []
    },
    {
      "cell_type": "code",
      "source": [
        "# create a dictionary and a data frame and check correct predictions\n",
        "dic = {'Actual':actual,\n",
        "'Prediction':y_pred,\n",
        "'correct_prediction':0\n",
        "}\n",
        "result = pd.DataFrame(dic)\n"
      ],
      "metadata": {
        "id": "96bfoOHaBlf7"
      },
      "execution_count": null,
      "outputs": []
    },
    {
      "cell_type": "code",
      "source": [
        "# update the correct_prediction values to 1, if correct prediction\n",
        "def myfunc(x,y):\n",
        "  if x == y:\n",
        "    return 1\n",
        "  else:\n",
        "    return 0\n",
        "result['correct_prediction'] = result.apply(lambda x: myfunc(x.Actual, x.Prediction), axis=1)"
      ],
      "metadata": {
        "id": "jl52P6fTBnuU"
      },
      "execution_count": null,
      "outputs": []
    },
    {
      "cell_type": "code",
      "source": [
        "result[result.correct_prediction==0]\n"
      ],
      "metadata": {
        "colab": {
          "base_uri": "https://localhost:8080/"
        },
        "id": "9BcrDo5KBtk9",
        "outputId": "4f7f6196-d1fc-4db1-8a3e-8400161bde1f"
      },
      "execution_count": null,
      "outputs": [
        {
          "output_type": "execute_result",
          "data": {
            "text/plain": [
              "      Actual  Prediction  correct_prediction\n",
              "2209       1           0                   0\n",
              "639        1           0                   0\n",
              "855        0           1                   0\n",
              "801        1           0                   0\n",
              "847        0           1                   0\n",
              "...      ...         ...                 ...\n",
              "202        1           0                   0\n",
              "628        1           0                   0\n",
              "709        1           0                   0\n",
              "692        1           0                   0\n",
              "1091       0           1                   0\n",
              "\n",
              "[75 rows x 3 columns]"
            ],
            "text/html": [
              "\n",
              "  <div id=\"df-3966a12d-8e4f-46a1-94b0-95aeed46fdbd\">\n",
              "    <div class=\"colab-df-container\">\n",
              "      <div>\n",
              "<style scoped>\n",
              "    .dataframe tbody tr th:only-of-type {\n",
              "        vertical-align: middle;\n",
              "    }\n",
              "\n",
              "    .dataframe tbody tr th {\n",
              "        vertical-align: top;\n",
              "    }\n",
              "\n",
              "    .dataframe thead th {\n",
              "        text-align: right;\n",
              "    }\n",
              "</style>\n",
              "<table border=\"1\" class=\"dataframe\">\n",
              "  <thead>\n",
              "    <tr style=\"text-align: right;\">\n",
              "      <th></th>\n",
              "      <th>Actual</th>\n",
              "      <th>Prediction</th>\n",
              "      <th>correct_prediction</th>\n",
              "    </tr>\n",
              "  </thead>\n",
              "  <tbody>\n",
              "    <tr>\n",
              "      <th>2209</th>\n",
              "      <td>1</td>\n",
              "      <td>0</td>\n",
              "      <td>0</td>\n",
              "    </tr>\n",
              "    <tr>\n",
              "      <th>639</th>\n",
              "      <td>1</td>\n",
              "      <td>0</td>\n",
              "      <td>0</td>\n",
              "    </tr>\n",
              "    <tr>\n",
              "      <th>855</th>\n",
              "      <td>0</td>\n",
              "      <td>1</td>\n",
              "      <td>0</td>\n",
              "    </tr>\n",
              "    <tr>\n",
              "      <th>801</th>\n",
              "      <td>1</td>\n",
              "      <td>0</td>\n",
              "      <td>0</td>\n",
              "    </tr>\n",
              "    <tr>\n",
              "      <th>847</th>\n",
              "      <td>0</td>\n",
              "      <td>1</td>\n",
              "      <td>0</td>\n",
              "    </tr>\n",
              "    <tr>\n",
              "      <th>...</th>\n",
              "      <td>...</td>\n",
              "      <td>...</td>\n",
              "      <td>...</td>\n",
              "    </tr>\n",
              "    <tr>\n",
              "      <th>202</th>\n",
              "      <td>1</td>\n",
              "      <td>0</td>\n",
              "      <td>0</td>\n",
              "    </tr>\n",
              "    <tr>\n",
              "      <th>628</th>\n",
              "      <td>1</td>\n",
              "      <td>0</td>\n",
              "      <td>0</td>\n",
              "    </tr>\n",
              "    <tr>\n",
              "      <th>709</th>\n",
              "      <td>1</td>\n",
              "      <td>0</td>\n",
              "      <td>0</td>\n",
              "    </tr>\n",
              "    <tr>\n",
              "      <th>692</th>\n",
              "      <td>1</td>\n",
              "      <td>0</td>\n",
              "      <td>0</td>\n",
              "    </tr>\n",
              "    <tr>\n",
              "      <th>1091</th>\n",
              "      <td>0</td>\n",
              "      <td>1</td>\n",
              "      <td>0</td>\n",
              "    </tr>\n",
              "  </tbody>\n",
              "</table>\n",
              "<p>75 rows × 3 columns</p>\n",
              "</div>\n",
              "      <button class=\"colab-df-convert\" onclick=\"convertToInteractive('df-3966a12d-8e4f-46a1-94b0-95aeed46fdbd')\"\n",
              "              title=\"Convert this dataframe to an interactive table.\"\n",
              "              style=\"display:none;\">\n",
              "        \n",
              "  <svg xmlns=\"http://www.w3.org/2000/svg\" height=\"24px\"viewBox=\"0 0 24 24\"\n",
              "       width=\"24px\">\n",
              "    <path d=\"M0 0h24v24H0V0z\" fill=\"none\"/>\n",
              "    <path d=\"M18.56 5.44l.94 2.06.94-2.06 2.06-.94-2.06-.94-.94-2.06-.94 2.06-2.06.94zm-11 1L8.5 8.5l.94-2.06 2.06-.94-2.06-.94L8.5 2.5l-.94 2.06-2.06.94zm10 10l.94 2.06.94-2.06 2.06-.94-2.06-.94-.94-2.06-.94 2.06-2.06.94z\"/><path d=\"M17.41 7.96l-1.37-1.37c-.4-.4-.92-.59-1.43-.59-.52 0-1.04.2-1.43.59L10.3 9.45l-7.72 7.72c-.78.78-.78 2.05 0 2.83L4 21.41c.39.39.9.59 1.41.59.51 0 1.02-.2 1.41-.59l7.78-7.78 2.81-2.81c.8-.78.8-2.07 0-2.86zM5.41 20L4 18.59l7.72-7.72 1.47 1.35L5.41 20z\"/>\n",
              "  </svg>\n",
              "      </button>\n",
              "      \n",
              "  <style>\n",
              "    .colab-df-container {\n",
              "      display:flex;\n",
              "      flex-wrap:wrap;\n",
              "      gap: 12px;\n",
              "    }\n",
              "\n",
              "    .colab-df-convert {\n",
              "      background-color: #E8F0FE;\n",
              "      border: none;\n",
              "      border-radius: 50%;\n",
              "      cursor: pointer;\n",
              "      display: none;\n",
              "      fill: #1967D2;\n",
              "      height: 32px;\n",
              "      padding: 0 0 0 0;\n",
              "      width: 32px;\n",
              "    }\n",
              "\n",
              "    .colab-df-convert:hover {\n",
              "      background-color: #E2EBFA;\n",
              "      box-shadow: 0px 1px 2px rgba(60, 64, 67, 0.3), 0px 1px 3px 1px rgba(60, 64, 67, 0.15);\n",
              "      fill: #174EA6;\n",
              "    }\n",
              "\n",
              "    [theme=dark] .colab-df-convert {\n",
              "      background-color: #3B4455;\n",
              "      fill: #D2E3FC;\n",
              "    }\n",
              "\n",
              "    [theme=dark] .colab-df-convert:hover {\n",
              "      background-color: #434B5C;\n",
              "      box-shadow: 0px 1px 3px 1px rgba(0, 0, 0, 0.15);\n",
              "      filter: drop-shadow(0px 1px 2px rgba(0, 0, 0, 0.3));\n",
              "      fill: #FFFFFF;\n",
              "    }\n",
              "  </style>\n",
              "\n",
              "      <script>\n",
              "        const buttonEl =\n",
              "          document.querySelector('#df-3966a12d-8e4f-46a1-94b0-95aeed46fdbd button.colab-df-convert');\n",
              "        buttonEl.style.display =\n",
              "          google.colab.kernel.accessAllowed ? 'block' : 'none';\n",
              "\n",
              "        async function convertToInteractive(key) {\n",
              "          const element = document.querySelector('#df-3966a12d-8e4f-46a1-94b0-95aeed46fdbd');\n",
              "          const dataTable =\n",
              "            await google.colab.kernel.invokeFunction('convertToInteractive',\n",
              "                                                     [key], {});\n",
              "          if (!dataTable) return;\n",
              "\n",
              "          const docLinkHtml = 'Like what you see? Visit the ' +\n",
              "            '<a target=\"_blank\" href=https://colab.research.google.com/notebooks/data_table.ipynb>data table notebook</a>'\n",
              "            + ' to learn more about interactive tables.';\n",
              "          element.innerHTML = '';\n",
              "          dataTable['output_type'] = 'display_data';\n",
              "          await google.colab.output.renderOutput(dataTable, element);\n",
              "          const docLink = document.createElement('div');\n",
              "          docLink.innerHTML = docLinkHtml;\n",
              "          element.appendChild(docLink);\n",
              "        }\n",
              "      </script>\n",
              "    </div>\n",
              "  </div>\n",
              "  "
            ]
          },
          "metadata": {},
          "execution_count": 55
        }
      ]
    },
    {
      "cell_type": "code",
      "source": [
        "print(f'Model Accuracy on Test Data is {len(result[result.correct_prediction==1])/len(result)}')\n"
      ],
      "metadata": {
        "colab": {
          "base_uri": "https://localhost:8080/"
        },
        "id": "yydCgyZ2Bwb4",
        "outputId": "f1990f97-008a-4c4d-c952-187f7d3ee236"
      },
      "execution_count": null,
      "outputs": [
        {
          "output_type": "stream",
          "name": "stdout",
          "text": [
            "Model Accuracy on Test Data is 0.9033505154639175\n"
          ]
        }
      ]
    },
    {
      "cell_type": "code",
      "source": [
        "from sklearn.metrics import accuracy_score\n",
        "print(f'The Model Accuracy on Testing Set is {round(accuracy_score(y_test,y_pred),2)}')\n"
      ],
      "metadata": {
        "colab": {
          "base_uri": "https://localhost:8080/"
        },
        "id": "7-hN7sIJBz9P",
        "outputId": "980026de-9f9f-4861-fca0-d805a402e659"
      },
      "execution_count": null,
      "outputs": [
        {
          "output_type": "stream",
          "name": "stdout",
          "text": [
            "The Model Accuracy on Testing Set is 0.9\n"
          ]
        }
      ]
    },
    {
      "cell_type": "code",
      "source": [
        "from sklearn.metrics import classification_report\n",
        "print(classification_report(y_test,y_pred))"
      ],
      "metadata": {
        "colab": {
          "base_uri": "https://localhost:8080/"
        },
        "id": "qd6_t4XWB449",
        "outputId": "4679269f-0fd3-469b-b8e7-43b7fba2f1fd"
      },
      "execution_count": null,
      "outputs": [
        {
          "output_type": "stream",
          "name": "stdout",
          "text": [
            "              precision    recall  f1-score   support\n",
            "\n",
            "           0       0.93      0.97      0.95       725\n",
            "           1       0.04      0.02      0.03        51\n",
            "\n",
            "    accuracy                           0.90       776\n",
            "   macro avg       0.49      0.49      0.49       776\n",
            "weighted avg       0.87      0.90      0.89       776\n",
            "\n"
          ]
        }
      ]
    },
    {
      "cell_type": "code",
      "source": [
        "from sklearn.metrics import confusion_matrix\n",
        "print(confusion_matrix(y_test,y_pred))"
      ],
      "metadata": {
        "colab": {
          "base_uri": "https://localhost:8080/"
        },
        "id": "UZYaYkdTB7pv",
        "outputId": "f2226ddd-2064-4ddc-ffbd-ab0d58b41cad"
      },
      "execution_count": null,
      "outputs": [
        {
          "output_type": "stream",
          "name": "stdout",
          "text": [
            "[[700  25]\n",
            " [ 50   1]]\n"
          ]
        }
      ]
    },
    {
      "cell_type": "code",
      "source": [
        "ax = sns.heatmap(confusion_matrix(y_test,y_pred),annot=True,fmt=\"d\")\n",
        "ax.set_ylim([0,2])\n"
      ],
      "metadata": {
        "colab": {
          "base_uri": "https://localhost:8080/"
        },
        "id": "XZj5Hg9gB9rC",
        "outputId": "1a0eb960-c391-460a-fbb3-7c28bbe84150"
      },
      "execution_count": null,
      "outputs": [
        {
          "output_type": "execute_result",
          "data": {
            "text/plain": [
              "(0.0, 2.0)"
            ]
          },
          "metadata": {},
          "execution_count": 60
        },
        {
          "output_type": "display_data",
          "data": {
            "text/plain": [
              "<Figure size 432x288 with 2 Axes>"
            ],
            "image/png": "[encoded data removed]"
          },
          "metadata": {
            "needs_background": "light"
          }
        }
      ]
    },
    {
      "cell_type": "markdown",
      "source": [
        "The Confusion Matrix True Positive value is 1 and true Negative was 700. And the False Positive\n",
        "came out to be 50 and False Negative is 25."
      ],
      "metadata": {
        "id": "s9dBizMHCBPg"
      }
    },
    {
      "cell_type": "code",
      "source": [
        "import pickle\n",
        "# Save to file in the current working directory\n",
        "pkl_filename = \"pickle_lr_model.pkl\"\n",
        "\n",
        "# save your model that was created above (lg_model)\n",
        "with open(pkl_filename, 'wb') as file:\n",
        "  pickle.dump(lg_model, file)\n",
        "# Load from file\n",
        "with open(pkl_filename, 'rb') as file:\n",
        "  pickle_model = pickle.load(file)\n",
        "\n",
        "# Lets test the mode loaded from a file and check results\n",
        "score = pickle_model.score(X_test, y_test)\n",
        "print(\"Test score: {0:.2f} %\".format(100 * score))\n",
        "y_hat = pickle_model.predict(X_test)"
      ],
      "metadata": {
        "colab": {
          "base_uri": "https://localhost:8080/"
        },
        "id": "0L50RVwUCOAc",
        "outputId": "ed2e652a-49fc-45e3-dfbc-5eb1e2bb08dc"
      },
      "execution_count": null,
      "outputs": [
        {
          "output_type": "stream",
          "name": "stdout",
          "text": [
            "Test score: 90.34 %\n"
          ]
        }
      ]
    },
    {
      "cell_type": "markdown",
      "source": [
        "The evaluation of these models will be explained in 2.1 Evalution at the end of this report"
      ],
      "metadata": {
        "id": "qqnxQPB21iYu"
      }
    },
    {
      "cell_type": "markdown",
      "source": [
        "# 1.8 Building the Random Forest and Decision Tree Model"
      ],
      "metadata": {
        "id": "9-aGlxTnDZJG"
      }
    },
    {
      "cell_type": "markdown",
      "source": [
        "## Random Forest"
      ],
      "metadata": {
        "id": "qkfRE7jODG02"
      }
    },
    {
      "cell_type": "code",
      "source": [
        "# store all rows and columns apart from label in 'X'\n",
        "# note, X is a data frame with (2224, 10000) shape\n",
        "X = dfc.iloc[:,:-1]\n",
        "8\n",
        "# store the labels in y\n",
        "y = dfc.iloc[:,-1]\n"
      ],
      "metadata": {
        "id": "4gJRI1jir7tn"
      },
      "execution_count": null,
      "outputs": []
    },
    {
      "cell_type": "code",
      "source": [
        "X = np.array(X)"
      ],
      "metadata": {
        "id": "EqTyflydr-Gc"
      },
      "execution_count": null,
      "outputs": []
    },
    {
      "cell_type": "code",
      "source": [
        "# encode y into integers\n",
        "from sklearn.preprocessing import LabelEncoder\n",
        "y_labels = y\n",
        "le = LabelEncoder()\n",
        "le.fit(y)\n",
        "y_encoded = le.transform(y)\n",
        "# show few class labels after encoding\n",
        "y_encoded[:10]"
      ],
      "metadata": {
        "colab": {
          "base_uri": "https://localhost:8080/"
        },
        "id": "uqIsEnFAsAPw",
        "outputId": "e06c4cee-496e-42f2-ed2e-329eb5e17bbf"
      },
      "execution_count": null,
      "outputs": [
        {
          "output_type": "execute_result",
          "data": {
            "text/plain": [
              "array([0, 0, 0, 0, 0, 0, 0, 0, 0, 0])"
            ]
          },
          "metadata": {},
          "execution_count": 64
        }
      ]
    },
    {
      "cell_type": "code",
      "source": [
        "inversed_labels = le.inverse_transform(y_encoded)\n",
        "# show few class labels after dencoding\n",
        "inversed_labels[:10]\n"
      ],
      "metadata": {
        "colab": {
          "base_uri": "https://localhost:8080/"
        },
        "id": "8uAk63UEsCDM",
        "outputId": "3f5f57bf-f091-4b4c-ccb7-a91b8a4c5001"
      },
      "execution_count": null,
      "outputs": [
        {
          "output_type": "execute_result",
          "data": {
            "text/plain": [
              "array([0, 0, 0, 0, 0, 0, 0, 0, 0, 0])"
            ]
          },
          "metadata": {},
          "execution_count": 65
        }
      ]
    },
    {
      "cell_type": "code",
      "source": [
        "# test_size default value is 25%\n",
        "from sklearn.model_selection import train_test_split\n",
        "X_train,X_test,y_train,y_test=train_test_split(X,y, test_size = 0.3,random_state=30)"
      ],
      "metadata": {
        "id": "BlAt-LWmsEGd"
      },
      "execution_count": null,
      "outputs": []
    },
    {
      "cell_type": "code",
      "source": [
        "# Now check few rows and columns of X_train\n",
        "# Notice that all values are between zero and one\n",
        "X_train[:5,:5]\n"
      ],
      "metadata": {
        "id": "uBBIhjhesQ26",
        "colab": {
          "base_uri": "https://localhost:8080/"
        },
        "outputId": "c52b570f-56fd-44f7-8c8b-851f19a46384"
      },
      "execution_count": null,
      "outputs": [
        {
          "output_type": "execute_result",
          "data": {
            "text/plain": [
              "array([[  44960,     643,      19,      56,       4],\n",
              "       [  64150,     872,     133,      81,       1],\n",
              "       [  11540,     285,      -8,      14,       0],\n",
              "       [2052510,    3635,      55,      46,       1],\n",
              "       [  14210,     469,     -53,      -8,       0]])"
            ]
          },
          "metadata": {},
          "execution_count": 67
        }
      ]
    },
    {
      "cell_type": "code",
      "source": [
        "from sklearn.ensemble import RandomForestClassifier\n",
        "# create an instance of RandomForestClassifier\n",
        "rf=RandomForestClassifier(n_estimators=100,)"
      ],
      "metadata": {
        "id": "Xj0S4cUCtljU"
      },
      "execution_count": null,
      "outputs": []
    },
    {
      "cell_type": "code",
      "source": [
        "# fit the model on training data\n",
        "rf.fit(X_train,y_train)"
      ],
      "metadata": {
        "colab": {
          "base_uri": "https://localhost:8080/"
        },
        "id": "vnuklHpntonn",
        "outputId": "73f50da1-5c55-4990-d3ec-416d5850eccf"
      },
      "execution_count": null,
      "outputs": [
        {
          "output_type": "execute_result",
          "data": {
            "text/plain": [
              "RandomForestClassifier()"
            ]
          },
          "metadata": {},
          "execution_count": 69
        }
      ]
    },
    {
      "cell_type": "code",
      "source": [
        "# Predicted classes of the testing set\n",
        "rf_predictions = rf.predict(X_test)\n",
        "# get probabilities of predictions\n",
        "rf_probs = rf.predict_proba(X_test)\n",
        "# note rf_probs is a 2d numpy array\n",
        "# show the class probs for the first image (note the output)\n",
        "rf_probs[:1]\n"
      ],
      "metadata": {
        "id": "9XYpFHtetrva",
        "colab": {
          "base_uri": "https://localhost:8080/"
        },
        "outputId": "903629ad-6c33-4b52-a352-ed7aaf66b359"
      },
      "execution_count": null,
      "outputs": [
        {
          "output_type": "execute_result",
          "data": {
            "text/plain": [
              "array([[0.96, 0.04]])"
            ]
          },
          "metadata": {},
          "execution_count": 70
        }
      ]
    },
    {
      "cell_type": "code",
      "source": [
        "import numpy as np\n",
        "from sklearn.metrics import accuracy_score\n",
        "from sklearn.metrics import classification_report, confusion_matrix\n",
        "accuracy = accuracy_score(y_test, rf_predictions)"
      ],
      "metadata": {
        "id": "7Srz7z26tuZ9"
      },
      "execution_count": null,
      "outputs": []
    },
    {
      "cell_type": "code",
      "source": [
        "print(f'The overall accuracy of RF is {np.round(accuracy*100,2)}%')"
      ],
      "metadata": {
        "id": "CQy32Wi8tw32",
        "colab": {
          "base_uri": "https://localhost:8080/"
        },
        "outputId": "7cb241d8-5bf6-4b86-cf64-02ef082ce98c"
      },
      "execution_count": null,
      "outputs": [
        {
          "output_type": "stream",
          "name": "stdout",
          "text": [
            "The overall accuracy of RF is 92.4%\n"
          ]
        }
      ]
    },
    {
      "cell_type": "code",
      "source": [
        "# print confusion matrix\n",
        "print(confusion_matrix(y_test,rf_predictions))"
      ],
      "metadata": {
        "id": "kMF_c9Nnty_R",
        "colab": {
          "base_uri": "https://localhost:8080/"
        },
        "outputId": "c02a4415-d3df-4613-f5bb-502b0b63322d"
      },
      "execution_count": null,
      "outputs": [
        {
          "output_type": "stream",
          "name": "stdout",
          "text": [
            "[[715   4]\n",
            " [ 55   2]]\n"
          ]
        }
      ]
    },
    {
      "cell_type": "code",
      "source": [
        " # classification_report\n",
        "print(classification_report(y_test,rf_predictions))"
      ],
      "metadata": {
        "id": "jnEq2qK_t3jz",
        "colab": {
          "base_uri": "https://localhost:8080/"
        },
        "outputId": "e8e3741b-0746-4d63-cb96-a05a84678a30"
      },
      "execution_count": null,
      "outputs": [
        {
          "output_type": "stream",
          "name": "stdout",
          "text": [
            "              precision    recall  f1-score   support\n",
            "\n",
            "           0       0.93      0.99      0.96       719\n",
            "           1       0.33      0.04      0.06        57\n",
            "\n",
            "    accuracy                           0.92       776\n",
            "   macro avg       0.63      0.51      0.51       776\n",
            "weighted avg       0.88      0.92      0.89       776\n",
            "\n"
          ]
        }
      ]
    },
    {
      "cell_type": "code",
      "source": [
        "# store actual class labels and predicted ones in a dataframe\n",
        "results = pd.DataFrame({'Actual':y_test,'Predicted':rf_predictions})\n",
        "results.head()"
      ],
      "metadata": {
        "id": "wnKzkjKNt6Su",
        "colab": {
          "base_uri": "https://localhost:8080/"
        },
        "outputId": "3ff3a64b-436b-41e7-d59a-36c21430ffef"
      },
      "execution_count": null,
      "outputs": [
        {
          "output_type": "execute_result",
          "data": {
            "text/plain": [
              "      Actual  Predicted\n",
              "932        0          0\n",
              "1696       0          0\n",
              "1273       0          0\n",
              "311        0          0\n",
              "859        0          0"
            ],
            "text/html": [
              "\n",
              "  <div id=\"df-627ca239-26e2-42ca-aa8d-36f2abc3bc60\">\n",
              "    <div class=\"colab-df-container\">\n",
              "      <div>\n",
              "<style scoped>\n",
              "    .dataframe tbody tr th:only-of-type {\n",
              "        vertical-align: middle;\n",
              "    }\n",
              "\n",
              "    .dataframe tbody tr th {\n",
              "        vertical-align: top;\n",
              "    }\n",
              "\n",
              "    .dataframe thead th {\n",
              "        text-align: right;\n",
              "    }\n",
              "</style>\n",
              "<table border=\"1\" class=\"dataframe\">\n",
              "  <thead>\n",
              "    <tr style=\"text-align: right;\">\n",
              "      <th></th>\n",
              "      <th>Actual</th>\n",
              "      <th>Predicted</th>\n",
              "    </tr>\n",
              "  </thead>\n",
              "  <tbody>\n",
              "    <tr>\n",
              "      <th>932</th>\n",
              "      <td>0</td>\n",
              "      <td>0</td>\n",
              "    </tr>\n",
              "    <tr>\n",
              "      <th>1696</th>\n",
              "      <td>0</td>\n",
              "      <td>0</td>\n",
              "    </tr>\n",
              "    <tr>\n",
              "      <th>1273</th>\n",
              "      <td>0</td>\n",
              "      <td>0</td>\n",
              "    </tr>\n",
              "    <tr>\n",
              "      <th>311</th>\n",
              "      <td>0</td>\n",
              "      <td>0</td>\n",
              "    </tr>\n",
              "    <tr>\n",
              "      <th>859</th>\n",
              "      <td>0</td>\n",
              "      <td>0</td>\n",
              "    </tr>\n",
              "  </tbody>\n",
              "</table>\n",
              "</div>\n",
              "      <button class=\"colab-df-convert\" onclick=\"convertToInteractive('df-627ca239-26e2-42ca-aa8d-36f2abc3bc60')\"\n",
              "              title=\"Convert this dataframe to an interactive table.\"\n",
              "              style=\"display:none;\">\n",
              "        \n",
              "  <svg xmlns=\"http://www.w3.org/2000/svg\" height=\"24px\"viewBox=\"0 0 24 24\"\n",
              "       width=\"24px\">\n",
              "    <path d=\"M0 0h24v24H0V0z\" fill=\"none\"/>\n",
              "    <path d=\"M18.56 5.44l.94 2.06.94-2.06 2.06-.94-2.06-.94-.94-2.06-.94 2.06-2.06.94zm-11 1L8.5 8.5l.94-2.06 2.06-.94-2.06-.94L8.5 2.5l-.94 2.06-2.06.94zm10 10l.94 2.06.94-2.06 2.06-.94-2.06-.94-.94-2.06-.94 2.06-2.06.94z\"/><path d=\"M17.41 7.96l-1.37-1.37c-.4-.4-.92-.59-1.43-.59-.52 0-1.04.2-1.43.59L10.3 9.45l-7.72 7.72c-.78.78-.78 2.05 0 2.83L4 21.41c.39.39.9.59 1.41.59.51 0 1.02-.2 1.41-.59l7.78-7.78 2.81-2.81c.8-.78.8-2.07 0-2.86zM5.41 20L4 18.59l7.72-7.72 1.47 1.35L5.41 20z\"/>\n",
              "  </svg>\n",
              "      </button>\n",
              "      \n",
              "  <style>\n",
              "    .colab-df-container {\n",
              "      display:flex;\n",
              "      flex-wrap:wrap;\n",
              "      gap: 12px;\n",
              "    }\n",
              "\n",
              "    .colab-df-convert {\n",
              "      background-color: #E8F0FE;\n",
              "      border: none;\n",
              "      border-radius: 50%;\n",
              "      cursor: pointer;\n",
              "      display: none;\n",
              "      fill: #1967D2;\n",
              "      height: 32px;\n",
              "      padding: 0 0 0 0;\n",
              "      width: 32px;\n",
              "    }\n",
              "\n",
              "    .colab-df-convert:hover {\n",
              "      background-color: #E2EBFA;\n",
              "      box-shadow: 0px 1px 2px rgba(60, 64, 67, 0.3), 0px 1px 3px 1px rgba(60, 64, 67, 0.15);\n",
              "      fill: #174EA6;\n",
              "    }\n",
              "\n",
              "    [theme=dark] .colab-df-convert {\n",
              "      background-color: #3B4455;\n",
              "      fill: #D2E3FC;\n",
              "    }\n",
              "\n",
              "    [theme=dark] .colab-df-convert:hover {\n",
              "      background-color: #434B5C;\n",
              "      box-shadow: 0px 1px 3px 1px rgba(0, 0, 0, 0.15);\n",
              "      filter: drop-shadow(0px 1px 2px rgba(0, 0, 0, 0.3));\n",
              "      fill: #FFFFFF;\n",
              "    }\n",
              "  </style>\n",
              "\n",
              "      <script>\n",
              "        const buttonEl =\n",
              "          document.querySelector('#df-627ca239-26e2-42ca-aa8d-36f2abc3bc60 button.colab-df-convert');\n",
              "        buttonEl.style.display =\n",
              "          google.colab.kernel.accessAllowed ? 'block' : 'none';\n",
              "\n",
              "        async function convertToInteractive(key) {\n",
              "          const element = document.querySelector('#df-627ca239-26e2-42ca-aa8d-36f2abc3bc60');\n",
              "          const dataTable =\n",
              "            await google.colab.kernel.invokeFunction('convertToInteractive',\n",
              "                                                     [key], {});\n",
              "          if (!dataTable) return;\n",
              "\n",
              "          const docLinkHtml = 'Like what you see? Visit the ' +\n",
              "            '<a target=\"_blank\" href=https://colab.research.google.com/notebooks/data_table.ipynb>data table notebook</a>'\n",
              "            + ' to learn more about interactive tables.';\n",
              "          element.innerHTML = '';\n",
              "          dataTable['output_type'] = 'display_data';\n",
              "          await google.colab.output.renderOutput(dataTable, element);\n",
              "          const docLink = document.createElement('div');\n",
              "          docLink.innerHTML = docLinkHtml;\n",
              "          element.appendChild(docLink);\n",
              "        }\n",
              "      </script>\n",
              "    </div>\n",
              "  </div>\n",
              "  "
            ]
          },
          "metadata": {},
          "execution_count": 75
        }
      ]
    },
    {
      "cell_type": "code",
      "source": [
        "accuracy_m = results[results.Actual==results.Predicted].shape[0]/results.shape[0]\n",
        "print(f'Accuracy of the model is {np.round(accuracy_m*100,2)}%')"
      ],
      "metadata": {
        "id": "G78v9UWZuClI",
        "colab": {
          "base_uri": "https://localhost:8080/"
        },
        "outputId": "8a229013-4431-43b7-8ddb-7a0ead592dfa"
      },
      "execution_count": null,
      "outputs": [
        {
          "output_type": "stream",
          "name": "stdout",
          "text": [
            "Accuracy of the model is 92.4%\n"
          ]
        }
      ]
    },
    {
      "cell_type": "code",
      "source": [
        "# create dataframe with probs, and headers as class names\n",
        "tmp = pd.DataFrame(rf.predict_proba(X_test), columns=rf.classes_)\n",
        "tmp.columns = rf.classes_\n",
        "# un-comment the line below to show how the probs dataframe look like\n",
        "tmp.head()"
      ],
      "metadata": {
        "id": "7yIk-mw-uEsD",
        "colab": {
          "base_uri": "https://localhost:8080/"
        },
        "outputId": "a9c45253-5a29-47b8-fd2c-05c7f3ceb6b7"
      },
      "execution_count": null,
      "outputs": [
        {
          "output_type": "execute_result",
          "data": {
            "text/plain": [
              "      0     1\n",
              "0  0.96  0.04\n",
              "1  0.93  0.07\n",
              "2  1.00  0.00\n",
              "3  1.00  0.00\n",
              "4  0.99  0.01"
            ],
            "text/html": [
              "\n",
              "  <div id=\"df-1c13f0eb-f4c0-4b2d-afc9-ede9c4dd4cf1\">\n",
              "    <div class=\"colab-df-container\">\n",
              "      <div>\n",
              "<style scoped>\n",
              "    .dataframe tbody tr th:only-of-type {\n",
              "        vertical-align: middle;\n",
              "    }\n",
              "\n",
              "    .dataframe tbody tr th {\n",
              "        vertical-align: top;\n",
              "    }\n",
              "\n",
              "    .dataframe thead th {\n",
              "        text-align: right;\n",
              "    }\n",
              "</style>\n",
              "<table border=\"1\" class=\"dataframe\">\n",
              "  <thead>\n",
              "    <tr style=\"text-align: right;\">\n",
              "      <th></th>\n",
              "      <th>0</th>\n",
              "      <th>1</th>\n",
              "    </tr>\n",
              "  </thead>\n",
              "  <tbody>\n",
              "    <tr>\n",
              "      <th>0</th>\n",
              "      <td>0.96</td>\n",
              "      <td>0.04</td>\n",
              "    </tr>\n",
              "    <tr>\n",
              "      <th>1</th>\n",
              "      <td>0.93</td>\n",
              "      <td>0.07</td>\n",
              "    </tr>\n",
              "    <tr>\n",
              "      <th>2</th>\n",
              "      <td>1.00</td>\n",
              "      <td>0.00</td>\n",
              "    </tr>\n",
              "    <tr>\n",
              "      <th>3</th>\n",
              "      <td>1.00</td>\n",
              "      <td>0.00</td>\n",
              "    </tr>\n",
              "    <tr>\n",
              "      <th>4</th>\n",
              "      <td>0.99</td>\n",
              "      <td>0.01</td>\n",
              "    </tr>\n",
              "  </tbody>\n",
              "</table>\n",
              "</div>\n",
              "      <button class=\"colab-df-convert\" onclick=\"convertToInteractive('df-1c13f0eb-f4c0-4b2d-afc9-ede9c4dd4cf1')\"\n",
              "              title=\"Convert this dataframe to an interactive table.\"\n",
              "              style=\"display:none;\">\n",
              "        \n",
              "  <svg xmlns=\"http://www.w3.org/2000/svg\" height=\"24px\"viewBox=\"0 0 24 24\"\n",
              "       width=\"24px\">\n",
              "    <path d=\"M0 0h24v24H0V0z\" fill=\"none\"/>\n",
              "    <path d=\"M18.56 5.44l.94 2.06.94-2.06 2.06-.94-2.06-.94-.94-2.06-.94 2.06-2.06.94zm-11 1L8.5 8.5l.94-2.06 2.06-.94-2.06-.94L8.5 2.5l-.94 2.06-2.06.94zm10 10l.94 2.06.94-2.06 2.06-.94-2.06-.94-.94-2.06-.94 2.06-2.06.94z\"/><path d=\"M17.41 7.96l-1.37-1.37c-.4-.4-.92-.59-1.43-.59-.52 0-1.04.2-1.43.59L10.3 9.45l-7.72 7.72c-.78.78-.78 2.05 0 2.83L4 21.41c.39.39.9.59 1.41.59.51 0 1.02-.2 1.41-.59l7.78-7.78 2.81-2.81c.8-.78.8-2.07 0-2.86zM5.41 20L4 18.59l7.72-7.72 1.47 1.35L5.41 20z\"/>\n",
              "  </svg>\n",
              "      </button>\n",
              "      \n",
              "  <style>\n",
              "    .colab-df-container {\n",
              "      display:flex;\n",
              "      flex-wrap:wrap;\n",
              "      gap: 12px;\n",
              "    }\n",
              "\n",
              "    .colab-df-convert {\n",
              "      background-color: #E8F0FE;\n",
              "      border: none;\n",
              "      border-radius: 50%;\n",
              "      cursor: pointer;\n",
              "      display: none;\n",
              "      fill: #1967D2;\n",
              "      height: 32px;\n",
              "      padding: 0 0 0 0;\n",
              "      width: 32px;\n",
              "    }\n",
              "\n",
              "    .colab-df-convert:hover {\n",
              "      background-color: #E2EBFA;\n",
              "      box-shadow: 0px 1px 2px rgba(60, 64, 67, 0.3), 0px 1px 3px 1px rgba(60, 64, 67, 0.15);\n",
              "      fill: #174EA6;\n",
              "    }\n",
              "\n",
              "    [theme=dark] .colab-df-convert {\n",
              "      background-color: #3B4455;\n",
              "      fill: #D2E3FC;\n",
              "    }\n",
              "\n",
              "    [theme=dark] .colab-df-convert:hover {\n",
              "      background-color: #434B5C;\n",
              "      box-shadow: 0px 1px 3px 1px rgba(0, 0, 0, 0.15);\n",
              "      filter: drop-shadow(0px 1px 2px rgba(0, 0, 0, 0.3));\n",
              "      fill: #FFFFFF;\n",
              "    }\n",
              "  </style>\n",
              "\n",
              "      <script>\n",
              "        const buttonEl =\n",
              "          document.querySelector('#df-1c13f0eb-f4c0-4b2d-afc9-ede9c4dd4cf1 button.colab-df-convert');\n",
              "        buttonEl.style.display =\n",
              "          google.colab.kernel.accessAllowed ? 'block' : 'none';\n",
              "\n",
              "        async function convertToInteractive(key) {\n",
              "          const element = document.querySelector('#df-1c13f0eb-f4c0-4b2d-afc9-ede9c4dd4cf1');\n",
              "          const dataTable =\n",
              "            await google.colab.kernel.invokeFunction('convertToInteractive',\n",
              "                                                     [key], {});\n",
              "          if (!dataTable) return;\n",
              "\n",
              "          const docLinkHtml = 'Like what you see? Visit the ' +\n",
              "            '<a target=\"_blank\" href=https://colab.research.google.com/notebooks/data_table.ipynb>data table notebook</a>'\n",
              "            + ' to learn more about interactive tables.';\n",
              "          element.innerHTML = '';\n",
              "          dataTable['output_type'] = 'display_data';\n",
              "          await google.colab.output.renderOutput(dataTable, element);\n",
              "          const docLink = document.createElement('div');\n",
              "          docLink.innerHTML = docLinkHtml;\n",
              "          element.appendChild(docLink);\n",
              "        }\n",
              "      </script>\n",
              "    </div>\n",
              "  </div>\n",
              "  "
            ]
          },
          "metadata": {},
          "execution_count": 77
        }
      ]
    },
    {
      "cell_type": "code",
      "source": [
        "# get predicted classes for the first five instances in the dataset\n",
        "for i in range(5):\n",
        "# use \\ to continue to next line\n",
        "  print(f'The predicted class of symbol {i} \\\n",
        "  in the testing set is {rf.predict(X_test[i:i+1])}')\n"
      ],
      "metadata": {
        "id": "cexVgWvDuIk3",
        "colab": {
          "base_uri": "https://localhost:8080/"
        },
        "outputId": "ac887aa9-c0db-429d-a717-ae4ebea79e99"
      },
      "execution_count": null,
      "outputs": [
        {
          "output_type": "stream",
          "name": "stdout",
          "text": [
            "The predicted class of symbol 0   in the testing set is [0]\n",
            "The predicted class of symbol 1   in the testing set is [0]\n",
            "The predicted class of symbol 2   in the testing set is [0]\n",
            "The predicted class of symbol 3   in the testing set is [0]\n",
            "The predicted class of symbol 4   in the testing set is [0]\n"
          ]
        }
      ]
    },
    {
      "cell_type": "code",
      "source": [
        "incorrect = results[results.Actual!=results.Predicted]\n",
        "incorrect.head()"
      ],
      "metadata": {
        "id": "5sXOLW-6uPHB",
        "colab": {
          "base_uri": "https://localhost:8080/"
        },
        "outputId": "6af35ed2-e0e9-44a3-e808-f3a555d33bb4"
      },
      "execution_count": null,
      "outputs": [
        {
          "output_type": "execute_result",
          "data": {
            "text/plain": [
              "      Actual  Predicted\n",
              "493        1          0\n",
              "1499       1          0\n",
              "273        1          0\n",
              "1737       1          0\n",
              "304        1          0"
            ],
            "text/html": [
              "\n",
              "  <div id=\"df-2ee1bd88-0043-41b9-8a6d-dc14bdd490d5\">\n",
              "    <div class=\"colab-df-container\">\n",
              "      <div>\n",
              "<style scoped>\n",
              "    .dataframe tbody tr th:only-of-type {\n",
              "        vertical-align: middle;\n",
              "    }\n",
              "\n",
              "    .dataframe tbody tr th {\n",
              "        vertical-align: top;\n",
              "    }\n",
              "\n",
              "    .dataframe thead th {\n",
              "        text-align: right;\n",
              "    }\n",
              "</style>\n",
              "<table border=\"1\" class=\"dataframe\">\n",
              "  <thead>\n",
              "    <tr style=\"text-align: right;\">\n",
              "      <th></th>\n",
              "      <th>Actual</th>\n",
              "      <th>Predicted</th>\n",
              "    </tr>\n",
              "  </thead>\n",
              "  <tbody>\n",
              "    <tr>\n",
              "      <th>493</th>\n",
              "      <td>1</td>\n",
              "      <td>0</td>\n",
              "    </tr>\n",
              "    <tr>\n",
              "      <th>1499</th>\n",
              "      <td>1</td>\n",
              "      <td>0</td>\n",
              "    </tr>\n",
              "    <tr>\n",
              "      <th>273</th>\n",
              "      <td>1</td>\n",
              "      <td>0</td>\n",
              "    </tr>\n",
              "    <tr>\n",
              "      <th>1737</th>\n",
              "      <td>1</td>\n",
              "      <td>0</td>\n",
              "    </tr>\n",
              "    <tr>\n",
              "      <th>304</th>\n",
              "      <td>1</td>\n",
              "      <td>0</td>\n",
              "    </tr>\n",
              "  </tbody>\n",
              "</table>\n",
              "</div>\n",
              "      <button class=\"colab-df-convert\" onclick=\"convertToInteractive('df-2ee1bd88-0043-41b9-8a6d-dc14bdd490d5')\"\n",
              "              title=\"Convert this dataframe to an interactive table.\"\n",
              "              style=\"display:none;\">\n",
              "        \n",
              "  <svg xmlns=\"http://www.w3.org/2000/svg\" height=\"24px\"viewBox=\"0 0 24 24\"\n",
              "       width=\"24px\">\n",
              "    <path d=\"M0 0h24v24H0V0z\" fill=\"none\"/>\n",
              "    <path d=\"M18.56 5.44l.94 2.06.94-2.06 2.06-.94-2.06-.94-.94-2.06-.94 2.06-2.06.94zm-11 1L8.5 8.5l.94-2.06 2.06-.94-2.06-.94L8.5 2.5l-.94 2.06-2.06.94zm10 10l.94 2.06.94-2.06 2.06-.94-2.06-.94-.94-2.06-.94 2.06-2.06.94z\"/><path d=\"M17.41 7.96l-1.37-1.37c-.4-.4-.92-.59-1.43-.59-.52 0-1.04.2-1.43.59L10.3 9.45l-7.72 7.72c-.78.78-.78 2.05 0 2.83L4 21.41c.39.39.9.59 1.41.59.51 0 1.02-.2 1.41-.59l7.78-7.78 2.81-2.81c.8-.78.8-2.07 0-2.86zM5.41 20L4 18.59l7.72-7.72 1.47 1.35L5.41 20z\"/>\n",
              "  </svg>\n",
              "      </button>\n",
              "      \n",
              "  <style>\n",
              "    .colab-df-container {\n",
              "      display:flex;\n",
              "      flex-wrap:wrap;\n",
              "      gap: 12px;\n",
              "    }\n",
              "\n",
              "    .colab-df-convert {\n",
              "      background-color: #E8F0FE;\n",
              "      border: none;\n",
              "      border-radius: 50%;\n",
              "      cursor: pointer;\n",
              "      display: none;\n",
              "      fill: #1967D2;\n",
              "      height: 32px;\n",
              "      padding: 0 0 0 0;\n",
              "      width: 32px;\n",
              "    }\n",
              "\n",
              "    .colab-df-convert:hover {\n",
              "      background-color: #E2EBFA;\n",
              "      box-shadow: 0px 1px 2px rgba(60, 64, 67, 0.3), 0px 1px 3px 1px rgba(60, 64, 67, 0.15);\n",
              "      fill: #174EA6;\n",
              "    }\n",
              "\n",
              "    [theme=dark] .colab-df-convert {\n",
              "      background-color: #3B4455;\n",
              "      fill: #D2E3FC;\n",
              "    }\n",
              "\n",
              "    [theme=dark] .colab-df-convert:hover {\n",
              "      background-color: #434B5C;\n",
              "      box-shadow: 0px 1px 3px 1px rgba(0, 0, 0, 0.15);\n",
              "      filter: drop-shadow(0px 1px 2px rgba(0, 0, 0, 0.3));\n",
              "      fill: #FFFFFF;\n",
              "    }\n",
              "  </style>\n",
              "\n",
              "      <script>\n",
              "        const buttonEl =\n",
              "          document.querySelector('#df-2ee1bd88-0043-41b9-8a6d-dc14bdd490d5 button.colab-df-convert');\n",
              "        buttonEl.style.display =\n",
              "          google.colab.kernel.accessAllowed ? 'block' : 'none';\n",
              "\n",
              "        async function convertToInteractive(key) {\n",
              "          const element = document.querySelector('#df-2ee1bd88-0043-41b9-8a6d-dc14bdd490d5');\n",
              "          const dataTable =\n",
              "            await google.colab.kernel.invokeFunction('convertToInteractive',\n",
              "                                                     [key], {});\n",
              "          if (!dataTable) return;\n",
              "\n",
              "          const docLinkHtml = 'Like what you see? Visit the ' +\n",
              "            '<a target=\"_blank\" href=https://colab.research.google.com/notebooks/data_table.ipynb>data table notebook</a>'\n",
              "            + ' to learn more about interactive tables.';\n",
              "          element.innerHTML = '';\n",
              "          dataTable['output_type'] = 'display_data';\n",
              "          await google.colab.output.renderOutput(dataTable, element);\n",
              "          const docLink = document.createElement('div');\n",
              "          docLink.innerHTML = docLinkHtml;\n",
              "          element.appendChild(docLink);\n",
              "        }\n",
              "      </script>\n",
              "    </div>\n",
              "  </div>\n",
              "  "
            ]
          },
          "metadata": {},
          "execution_count": 79
        }
      ]
    },
    {
      "cell_type": "markdown",
      "source": [
        "## Decision Tree Model"
      ],
      "metadata": {
        "id": "3erpkKUiDNL1"
      }
    },
    {
      "cell_type": "code",
      "source": [
        "df.head()"
      ],
      "metadata": {
        "id": "-b_juEhKkH5X",
        "colab": {
          "base_uri": "https://localhost:8080/"
        },
        "outputId": "fdbb7734-0bff-4331-90ea-339c45977a5c"
      },
      "execution_count": null,
      "outputs": [
        {
          "output_type": "execute_result",
          "data": {
            "text/plain": [
              "  seismic seismoacoustic shift  genergy  gpuls  gdenergy  gdpuls ghazard  \\\n",
              "0       a              a     N    15180     48       -72     -72       a   \n",
              "1       a              a     N    14720     33       -70     -79       a   \n",
              "2       a              a     N     8050     30       -81     -78       a   \n",
              "3       a              a     N    28820    171       -23      40       a   \n",
              "4       a              a     N    12640     57       -63     -52       a   \n",
              "\n",
              "   nbumps  nbumps2  nbumps3  nbumps4  nbumps5  nbumps6  nbumps7  nbumps89  \\\n",
              "0       0        0        0        0        0        0        0         0   \n",
              "1       1        0        1        0        0        0        0         0   \n",
              "2       0        0        0        0        0        0        0         0   \n",
              "3       1        0        1        0        0        0        0         0   \n",
              "4       0        0        0        0        0        0        0         0   \n",
              "\n",
              "   energy  maxenergy  class  \n",
              "0       0          0      0  \n",
              "1    2000       2000      0  \n",
              "2       0          0      0  \n",
              "3    3000       3000      0  \n",
              "4       0          0      0  "
            ],
            "text/html": [
              "\n",
              "  <div id=\"df-81cf8b47-f0bb-43fd-ba78-6a8d0a216ded\">\n",
              "    <div class=\"colab-df-container\">\n",
              "      <div>\n",
              "<style scoped>\n",
              "    .dataframe tbody tr th:only-of-type {\n",
              "        vertical-align: middle;\n",
              "    }\n",
              "\n",
              "    .dataframe tbody tr th {\n",
              "        vertical-align: top;\n",
              "    }\n",
              "\n",
              "    .dataframe thead th {\n",
              "        text-align: right;\n",
              "    }\n",
              "</style>\n",
              "<table border=\"1\" class=\"dataframe\">\n",
              "  <thead>\n",
              "    <tr style=\"text-align: right;\">\n",
              "      <th></th>\n",
              "      <th>seismic</th>\n",
              "      <th>seismoacoustic</th>\n",
              "      <th>shift</th>\n",
              "      <th>genergy</th>\n",
              "      <th>gpuls</th>\n",
              "      <th>gdenergy</th>\n",
              "      <th>gdpuls</th>\n",
              "      <th>ghazard</th>\n",
              "      <th>nbumps</th>\n",
              "      <th>nbumps2</th>\n",
              "      <th>nbumps3</th>\n",
              "      <th>nbumps4</th>\n",
              "      <th>nbumps5</th>\n",
              "      <th>nbumps6</th>\n",
              "      <th>nbumps7</th>\n",
              "      <th>nbumps89</th>\n",
              "      <th>energy</th>\n",
              "      <th>maxenergy</th>\n",
              "      <th>class</th>\n",
              "    </tr>\n",
              "  </thead>\n",
              "  <tbody>\n",
              "    <tr>\n",
              "      <th>0</th>\n",
              "      <td>a</td>\n",
              "      <td>a</td>\n",
              "      <td>N</td>\n",
              "      <td>15180</td>\n",
              "      <td>48</td>\n",
              "      <td>-72</td>\n",
              "      <td>-72</td>\n",
              "      <td>a</td>\n",
              "      <td>0</td>\n",
              "      <td>0</td>\n",
              "      <td>0</td>\n",
              "      <td>0</td>\n",
              "      <td>0</td>\n",
              "      <td>0</td>\n",
              "      <td>0</td>\n",
              "      <td>0</td>\n",
              "      <td>0</td>\n",
              "      <td>0</td>\n",
              "      <td>0</td>\n",
              "    </tr>\n",
              "    <tr>\n",
              "      <th>1</th>\n",
              "      <td>a</td>\n",
              "      <td>a</td>\n",
              "      <td>N</td>\n",
              "      <td>14720</td>\n",
              "      <td>33</td>\n",
              "      <td>-70</td>\n",
              "      <td>-79</td>\n",
              "      <td>a</td>\n",
              "      <td>1</td>\n",
              "      <td>0</td>\n",
              "      <td>1</td>\n",
              "      <td>0</td>\n",
              "      <td>0</td>\n",
              "      <td>0</td>\n",
              "      <td>0</td>\n",
              "      <td>0</td>\n",
              "      <td>2000</td>\n",
              "      <td>2000</td>\n",
              "      <td>0</td>\n",
              "    </tr>\n",
              "    <tr>\n",
              "      <th>2</th>\n",
              "      <td>a</td>\n",
              "      <td>a</td>\n",
              "      <td>N</td>\n",
              "      <td>8050</td>\n",
              "      <td>30</td>\n",
              "      <td>-81</td>\n",
              "      <td>-78</td>\n",
              "      <td>a</td>\n",
              "      <td>0</td>\n",
              "      <td>0</td>\n",
              "      <td>0</td>\n",
              "      <td>0</td>\n",
              "      <td>0</td>\n",
              "      <td>0</td>\n",
              "      <td>0</td>\n",
              "      <td>0</td>\n",
              "      <td>0</td>\n",
              "      <td>0</td>\n",
              "      <td>0</td>\n",
              "    </tr>\n",
              "    <tr>\n",
              "      <th>3</th>\n",
              "      <td>a</td>\n",
              "      <td>a</td>\n",
              "      <td>N</td>\n",
              "      <td>28820</td>\n",
              "      <td>171</td>\n",
              "      <td>-23</td>\n",
              "      <td>40</td>\n",
              "      <td>a</td>\n",
              "      <td>1</td>\n",
              "      <td>0</td>\n",
              "      <td>1</td>\n",
              "      <td>0</td>\n",
              "      <td>0</td>\n",
              "      <td>0</td>\n",
              "      <td>0</td>\n",
              "      <td>0</td>\n",
              "      <td>3000</td>\n",
              "      <td>3000</td>\n",
              "      <td>0</td>\n",
              "    </tr>\n",
              "    <tr>\n",
              "      <th>4</th>\n",
              "      <td>a</td>\n",
              "      <td>a</td>\n",
              "      <td>N</td>\n",
              "      <td>12640</td>\n",
              "      <td>57</td>\n",
              "      <td>-63</td>\n",
              "      <td>-52</td>\n",
              "      <td>a</td>\n",
              "      <td>0</td>\n",
              "      <td>0</td>\n",
              "      <td>0</td>\n",
              "      <td>0</td>\n",
              "      <td>0</td>\n",
              "      <td>0</td>\n",
              "      <td>0</td>\n",
              "      <td>0</td>\n",
              "      <td>0</td>\n",
              "      <td>0</td>\n",
              "      <td>0</td>\n",
              "    </tr>\n",
              "  </tbody>\n",
              "</table>\n",
              "</div>\n",
              "      <button class=\"colab-df-convert\" onclick=\"convertToInteractive('df-81cf8b47-f0bb-43fd-ba78-6a8d0a216ded')\"\n",
              "              title=\"Convert this dataframe to an interactive table.\"\n",
              "              style=\"display:none;\">\n",
              "        \n",
              "  <svg xmlns=\"http://www.w3.org/2000/svg\" height=\"24px\"viewBox=\"0 0 24 24\"\n",
              "       width=\"24px\">\n",
              "    <path d=\"M0 0h24v24H0V0z\" fill=\"none\"/>\n",
              "    <path d=\"M18.56 5.44l.94 2.06.94-2.06 2.06-.94-2.06-.94-.94-2.06-.94 2.06-2.06.94zm-11 1L8.5 8.5l.94-2.06 2.06-.94-2.06-.94L8.5 2.5l-.94 2.06-2.06.94zm10 10l.94 2.06.94-2.06 2.06-.94-2.06-.94-.94-2.06-.94 2.06-2.06.94z\"/><path d=\"M17.41 7.96l-1.37-1.37c-.4-.4-.92-.59-1.43-.59-.52 0-1.04.2-1.43.59L10.3 9.45l-7.72 7.72c-.78.78-.78 2.05 0 2.83L4 21.41c.39.39.9.59 1.41.59.51 0 1.02-.2 1.41-.59l7.78-7.78 2.81-2.81c.8-.78.8-2.07 0-2.86zM5.41 20L4 18.59l7.72-7.72 1.47 1.35L5.41 20z\"/>\n",
              "  </svg>\n",
              "      </button>\n",
              "      \n",
              "  <style>\n",
              "    .colab-df-container {\n",
              "      display:flex;\n",
              "      flex-wrap:wrap;\n",
              "      gap: 12px;\n",
              "    }\n",
              "\n",
              "    .colab-df-convert {\n",
              "      background-color: #E8F0FE;\n",
              "      border: none;\n",
              "      border-radius: 50%;\n",
              "      cursor: pointer;\n",
              "      display: none;\n",
              "      fill: #1967D2;\n",
              "      height: 32px;\n",
              "      padding: 0 0 0 0;\n",
              "      width: 32px;\n",
              "    }\n",
              "\n",
              "    .colab-df-convert:hover {\n",
              "      background-color: #E2EBFA;\n",
              "      box-shadow: 0px 1px 2px rgba(60, 64, 67, 0.3), 0px 1px 3px 1px rgba(60, 64, 67, 0.15);\n",
              "      fill: #174EA6;\n",
              "    }\n",
              "\n",
              "    [theme=dark] .colab-df-convert {\n",
              "      background-color: #3B4455;\n",
              "      fill: #D2E3FC;\n",
              "    }\n",
              "\n",
              "    [theme=dark] .colab-df-convert:hover {\n",
              "      background-color: #434B5C;\n",
              "      box-shadow: 0px 1px 3px 1px rgba(0, 0, 0, 0.15);\n",
              "      filter: drop-shadow(0px 1px 2px rgba(0, 0, 0, 0.3));\n",
              "      fill: #FFFFFF;\n",
              "    }\n",
              "  </style>\n",
              "\n",
              "      <script>\n",
              "        const buttonEl =\n",
              "          document.querySelector('#df-81cf8b47-f0bb-43fd-ba78-6a8d0a216ded button.colab-df-convert');\n",
              "        buttonEl.style.display =\n",
              "          google.colab.kernel.accessAllowed ? 'block' : 'none';\n",
              "\n",
              "        async function convertToInteractive(key) {\n",
              "          const element = document.querySelector('#df-81cf8b47-f0bb-43fd-ba78-6a8d0a216ded');\n",
              "          const dataTable =\n",
              "            await google.colab.kernel.invokeFunction('convertToInteractive',\n",
              "                                                     [key], {});\n",
              "          if (!dataTable) return;\n",
              "\n",
              "          const docLinkHtml = 'Like what you see? Visit the ' +\n",
              "            '<a target=\"_blank\" href=https://colab.research.google.com/notebooks/data_table.ipynb>data table notebook</a>'\n",
              "            + ' to learn more about interactive tables.';\n",
              "          element.innerHTML = '';\n",
              "          dataTable['output_type'] = 'display_data';\n",
              "          await google.colab.output.renderOutput(dataTable, element);\n",
              "          const docLink = document.createElement('div');\n",
              "          docLink.innerHTML = docLinkHtml;\n",
              "          element.appendChild(docLink);\n",
              "        }\n",
              "      </script>\n",
              "    </div>\n",
              "  </div>\n",
              "  "
            ]
          },
          "metadata": {},
          "execution_count": 80
        }
      ]
    },
    {
      "cell_type": "markdown",
      "source": [
        "Import the necessary libraries\n"
      ],
      "metadata": {
        "id": "ebx6n8snkU72"
      }
    },
    {
      "cell_type": "code",
      "source": [
        "import pandas as pd\n",
        "from sklearn.model_selection import train_test_split\n",
        "# Import LabelEncoder\n",
        "from sklearn import preprocessing"
      ],
      "metadata": {
        "id": "uD-eCmNJkSnl"
      },
      "execution_count": null,
      "outputs": []
    },
    {
      "cell_type": "code",
      "source": [
        "# create label ecnoder to encode the labels (setosta, ...) into integers\n",
        "le = preprocessing.LabelEncoder()"
      ],
      "metadata": {
        "id": "eiPO2w8ckWM6"
      },
      "execution_count": null,
      "outputs": []
    },
    {
      "cell_type": "code",
      "source": [
        "# Converting string labels into numbers\n",
        "df['class'] = le.fit_transform(df['class'])\n",
        "# check the data now\n",
        "df.head()"
      ],
      "metadata": {
        "id": "X1J2S3PRkcE_",
        "colab": {
          "base_uri": "https://localhost:8080/"
        },
        "outputId": "59367021-48dc-49bd-b7fe-dc2e8ea7543b"
      },
      "execution_count": null,
      "outputs": [
        {
          "output_type": "execute_result",
          "data": {
            "text/plain": [
              "  seismic seismoacoustic shift  genergy  gpuls  gdenergy  gdpuls ghazard  \\\n",
              "0       a              a     N    15180     48       -72     -72       a   \n",
              "1       a              a     N    14720     33       -70     -79       a   \n",
              "2       a              a     N     8050     30       -81     -78       a   \n",
              "3       a              a     N    28820    171       -23      40       a   \n",
              "4       a              a     N    12640     57       -63     -52       a   \n",
              "\n",
              "   nbumps  nbumps2  nbumps3  nbumps4  nbumps5  nbumps6  nbumps7  nbumps89  \\\n",
              "0       0        0        0        0        0        0        0         0   \n",
              "1       1        0        1        0        0        0        0         0   \n",
              "2       0        0        0        0        0        0        0         0   \n",
              "3       1        0        1        0        0        0        0         0   \n",
              "4       0        0        0        0        0        0        0         0   \n",
              "\n",
              "   energy  maxenergy  class  \n",
              "0       0          0      0  \n",
              "1    2000       2000      0  \n",
              "2       0          0      0  \n",
              "3    3000       3000      0  \n",
              "4       0          0      0  "
            ],
            "text/html": [
              "\n",
              "  <div id=\"df-bcad2da8-02d0-47af-b28a-4094c3596b45\">\n",
              "    <div class=\"colab-df-container\">\n",
              "      <div>\n",
              "<style scoped>\n",
              "    .dataframe tbody tr th:only-of-type {\n",
              "        vertical-align: middle;\n",
              "    }\n",
              "\n",
              "    .dataframe tbody tr th {\n",
              "        vertical-align: top;\n",
              "    }\n",
              "\n",
              "    .dataframe thead th {\n",
              "        text-align: right;\n",
              "    }\n",
              "</style>\n",
              "<table border=\"1\" class=\"dataframe\">\n",
              "  <thead>\n",
              "    <tr style=\"text-align: right;\">\n",
              "      <th></th>\n",
              "      <th>seismic</th>\n",
              "      <th>seismoacoustic</th>\n",
              "      <th>shift</th>\n",
              "      <th>genergy</th>\n",
              "      <th>gpuls</th>\n",
              "      <th>gdenergy</th>\n",
              "      <th>gdpuls</th>\n",
              "      <th>ghazard</th>\n",
              "      <th>nbumps</th>\n",
              "      <th>nbumps2</th>\n",
              "      <th>nbumps3</th>\n",
              "      <th>nbumps4</th>\n",
              "      <th>nbumps5</th>\n",
              "      <th>nbumps6</th>\n",
              "      <th>nbumps7</th>\n",
              "      <th>nbumps89</th>\n",
              "      <th>energy</th>\n",
              "      <th>maxenergy</th>\n",
              "      <th>class</th>\n",
              "    </tr>\n",
              "  </thead>\n",
              "  <tbody>\n",
              "    <tr>\n",
              "      <th>0</th>\n",
              "      <td>a</td>\n",
              "      <td>a</td>\n",
              "      <td>N</td>\n",
              "      <td>15180</td>\n",
              "      <td>48</td>\n",
              "      <td>-72</td>\n",
              "      <td>-72</td>\n",
              "      <td>a</td>\n",
              "      <td>0</td>\n",
              "      <td>0</td>\n",
              "      <td>0</td>\n",
              "      <td>0</td>\n",
              "      <td>0</td>\n",
              "      <td>0</td>\n",
              "      <td>0</td>\n",
              "      <td>0</td>\n",
              "      <td>0</td>\n",
              "      <td>0</td>\n",
              "      <td>0</td>\n",
              "    </tr>\n",
              "    <tr>\n",
              "      <th>1</th>\n",
              "      <td>a</td>\n",
              "      <td>a</td>\n",
              "      <td>N</td>\n",
              "      <td>14720</td>\n",
              "      <td>33</td>\n",
              "      <td>-70</td>\n",
              "      <td>-79</td>\n",
              "      <td>a</td>\n",
              "      <td>1</td>\n",
              "      <td>0</td>\n",
              "      <td>1</td>\n",
              "      <td>0</td>\n",
              "      <td>0</td>\n",
              "      <td>0</td>\n",
              "      <td>0</td>\n",
              "      <td>0</td>\n",
              "      <td>2000</td>\n",
              "      <td>2000</td>\n",
              "      <td>0</td>\n",
              "    </tr>\n",
              "    <tr>\n",
              "      <th>2</th>\n",
              "      <td>a</td>\n",
              "      <td>a</td>\n",
              "      <td>N</td>\n",
              "      <td>8050</td>\n",
              "      <td>30</td>\n",
              "      <td>-81</td>\n",
              "      <td>-78</td>\n",
              "      <td>a</td>\n",
              "      <td>0</td>\n",
              "      <td>0</td>\n",
              "      <td>0</td>\n",
              "      <td>0</td>\n",
              "      <td>0</td>\n",
              "      <td>0</td>\n",
              "      <td>0</td>\n",
              "      <td>0</td>\n",
              "      <td>0</td>\n",
              "      <td>0</td>\n",
              "      <td>0</td>\n",
              "    </tr>\n",
              "    <tr>\n",
              "      <th>3</th>\n",
              "      <td>a</td>\n",
              "      <td>a</td>\n",
              "      <td>N</td>\n",
              "      <td>28820</td>\n",
              "      <td>171</td>\n",
              "      <td>-23</td>\n",
              "      <td>40</td>\n",
              "      <td>a</td>\n",
              "      <td>1</td>\n",
              "      <td>0</td>\n",
              "      <td>1</td>\n",
              "      <td>0</td>\n",
              "      <td>0</td>\n",
              "      <td>0</td>\n",
              "      <td>0</td>\n",
              "      <td>0</td>\n",
              "      <td>3000</td>\n",
              "      <td>3000</td>\n",
              "      <td>0</td>\n",
              "    </tr>\n",
              "    <tr>\n",
              "      <th>4</th>\n",
              "      <td>a</td>\n",
              "      <td>a</td>\n",
              "      <td>N</td>\n",
              "      <td>12640</td>\n",
              "      <td>57</td>\n",
              "      <td>-63</td>\n",
              "      <td>-52</td>\n",
              "      <td>a</td>\n",
              "      <td>0</td>\n",
              "      <td>0</td>\n",
              "      <td>0</td>\n",
              "      <td>0</td>\n",
              "      <td>0</td>\n",
              "      <td>0</td>\n",
              "      <td>0</td>\n",
              "      <td>0</td>\n",
              "      <td>0</td>\n",
              "      <td>0</td>\n",
              "      <td>0</td>\n",
              "    </tr>\n",
              "  </tbody>\n",
              "</table>\n",
              "</div>\n",
              "      <button class=\"colab-df-convert\" onclick=\"convertToInteractive('df-bcad2da8-02d0-47af-b28a-4094c3596b45')\"\n",
              "              title=\"Convert this dataframe to an interactive table.\"\n",
              "              style=\"display:none;\">\n",
              "        \n",
              "  <svg xmlns=\"http://www.w3.org/2000/svg\" height=\"24px\"viewBox=\"0 0 24 24\"\n",
              "       width=\"24px\">\n",
              "    <path d=\"M0 0h24v24H0V0z\" fill=\"none\"/>\n",
              "    <path d=\"M18.56 5.44l.94 2.06.94-2.06 2.06-.94-2.06-.94-.94-2.06-.94 2.06-2.06.94zm-11 1L8.5 8.5l.94-2.06 2.06-.94-2.06-.94L8.5 2.5l-.94 2.06-2.06.94zm10 10l.94 2.06.94-2.06 2.06-.94-2.06-.94-.94-2.06-.94 2.06-2.06.94z\"/><path d=\"M17.41 7.96l-1.37-1.37c-.4-.4-.92-.59-1.43-.59-.52 0-1.04.2-1.43.59L10.3 9.45l-7.72 7.72c-.78.78-.78 2.05 0 2.83L4 21.41c.39.39.9.59 1.41.59.51 0 1.02-.2 1.41-.59l7.78-7.78 2.81-2.81c.8-.78.8-2.07 0-2.86zM5.41 20L4 18.59l7.72-7.72 1.47 1.35L5.41 20z\"/>\n",
              "  </svg>\n",
              "      </button>\n",
              "      \n",
              "  <style>\n",
              "    .colab-df-container {\n",
              "      display:flex;\n",
              "      flex-wrap:wrap;\n",
              "      gap: 12px;\n",
              "    }\n",
              "\n",
              "    .colab-df-convert {\n",
              "      background-color: #E8F0FE;\n",
              "      border: none;\n",
              "      border-radius: 50%;\n",
              "      cursor: pointer;\n",
              "      display: none;\n",
              "      fill: #1967D2;\n",
              "      height: 32px;\n",
              "      padding: 0 0 0 0;\n",
              "      width: 32px;\n",
              "    }\n",
              "\n",
              "    .colab-df-convert:hover {\n",
              "      background-color: #E2EBFA;\n",
              "      box-shadow: 0px 1px 2px rgba(60, 64, 67, 0.3), 0px 1px 3px 1px rgba(60, 64, 67, 0.15);\n",
              "      fill: #174EA6;\n",
              "    }\n",
              "\n",
              "    [theme=dark] .colab-df-convert {\n",
              "      background-color: #3B4455;\n",
              "      fill: #D2E3FC;\n",
              "    }\n",
              "\n",
              "    [theme=dark] .colab-df-convert:hover {\n",
              "      background-color: #434B5C;\n",
              "      box-shadow: 0px 1px 3px 1px rgba(0, 0, 0, 0.15);\n",
              "      filter: drop-shadow(0px 1px 2px rgba(0, 0, 0, 0.3));\n",
              "      fill: #FFFFFF;\n",
              "    }\n",
              "  </style>\n",
              "\n",
              "      <script>\n",
              "        const buttonEl =\n",
              "          document.querySelector('#df-bcad2da8-02d0-47af-b28a-4094c3596b45 button.colab-df-convert');\n",
              "        buttonEl.style.display =\n",
              "          google.colab.kernel.accessAllowed ? 'block' : 'none';\n",
              "\n",
              "        async function convertToInteractive(key) {\n",
              "          const element = document.querySelector('#df-bcad2da8-02d0-47af-b28a-4094c3596b45');\n",
              "          const dataTable =\n",
              "            await google.colab.kernel.invokeFunction('convertToInteractive',\n",
              "                                                     [key], {});\n",
              "          if (!dataTable) return;\n",
              "\n",
              "          const docLinkHtml = 'Like what you see? Visit the ' +\n",
              "            '<a target=\"_blank\" href=https://colab.research.google.com/notebooks/data_table.ipynb>data table notebook</a>'\n",
              "            + ' to learn more about interactive tables.';\n",
              "          element.innerHTML = '';\n",
              "          dataTable['output_type'] = 'display_data';\n",
              "          await google.colab.output.renderOutput(dataTable, element);\n",
              "          const docLink = document.createElement('div');\n",
              "          docLink.innerHTML = docLinkHtml;\n",
              "          element.appendChild(docLink);\n",
              "        }\n",
              "      </script>\n",
              "    </div>\n",
              "  </div>\n",
              "  "
            ]
          },
          "metadata": {},
          "execution_count": 83
        }
      ]
    },
    {
      "cell_type": "code",
      "source": [
        "# split the data into Features and Label (X, y)\n",
        "features = ['genergy','gpuls', 'gdenergy', 'gdpuls','nbumps', 'nbumps2', 'nbumps3', 'nbumps4', 'nbumps5', 'nbumps6', 'nbumps7', 'nbumps89', 'energy', 'maxenergy']\n",
        "X = df[features]# returns data frame\n",
        "y = df['class']\n"
      ],
      "metadata": {
        "id": "vmMmRnXukmwp"
      },
      "execution_count": null,
      "outputs": []
    },
    {
      "cell_type": "code",
      "source": [
        "X_train, X_test, y_train, y_test = train_test_split(X, y, test_size=0.40, random_state=0)"
      ],
      "metadata": {
        "id": "Qlmc_Zc2le_d"
      },
      "execution_count": null,
      "outputs": []
    },
    {
      "cell_type": "code",
      "source": [
        "print ('The shape of the training set is ',X_train.shape)\n"
      ],
      "metadata": {
        "id": "fvDfho2ollgL",
        "colab": {
          "base_uri": "https://localhost:8080/"
        },
        "outputId": "94f87e3b-c665-408f-dc21-b8f3d91bb933"
      },
      "execution_count": null,
      "outputs": [
        {
          "output_type": "stream",
          "name": "stdout",
          "text": [
            "The shape of the training set is  (1550, 14)\n"
          ]
        }
      ]
    },
    {
      "cell_type": "code",
      "source": [
        "# create an instance of the decision tree model\n",
        "clf = DecisionTreeClassifier(max_depth = 2,\n",
        "random_state = 0)"
      ],
      "metadata": {
        "id": "MzXcVInqlpo6"
      },
      "execution_count": null,
      "outputs": []
    },
    {
      "cell_type": "code",
      "source": [
        "# train the model (notice the parameters of the DecisionTreeClassifier)\n",
        "clf.fit(X_train, y_train)"
      ],
      "metadata": {
        "id": "ahTCoKZ0ltLE",
        "colab": {
          "base_uri": "https://localhost:8080/"
        },
        "outputId": "03e1e19d-673b-4177-90cb-18c8ed780eae"
      },
      "execution_count": null,
      "outputs": [
        {
          "output_type": "execute_result",
          "data": {
            "text/plain": [
              "DecisionTreeClassifier(max_depth=2, random_state=0)"
            ]
          },
          "metadata": {},
          "execution_count": 88
        }
      ]
    },
    {
      "cell_type": "code",
      "source": [
        "# Prediction for one instance (first one in the testing set)\n",
        "label0 = clf.predict(X_test.iloc[0].values.reshape(1, -1))\n",
        "# Predictions for the 10 instances in the testing set\n",
        "labels_1_to_10= clf.predict(X_test[0:10])\n",
        "# Predictions for the whole testing set\n",
        "predictions = clf.predict(X_test)\n",
        "predictions"
      ],
      "metadata": {
        "id": "JSlvBf1MmjLm",
        "colab": {
          "base_uri": "https://localhost:8080/"
        },
        "outputId": "3f34db79-6537-4206-cd7a-5cdfce182075"
      },
      "execution_count": null,
      "outputs": [
        {
          "output_type": "stream",
          "name": "stderr",
          "text": [
            "/usr/local/lib/python3.8/dist-packages/sklearn/base.py:450: UserWarning: X does not have valid feature names, but DecisionTreeClassifier was fitted with feature names\n",
            "  warnings.warn(\n"
          ]
        },
        {
          "output_type": "execute_result",
          "data": {
            "text/plain": [
              "array([0, 0, 0, ..., 0, 0, 0])"
            ]
          },
          "metadata": {},
          "execution_count": 89
        }
      ]
    },
    {
      "cell_type": "code",
      "source": [
        "# Get the model's accuracy\n",
        "accuracy = clf.score(X_test, y_test)\n",
        "print(f'The Model Accuracy is {round(accuracy*100,2)}%')"
      ],
      "metadata": {
        "id": "pyqH3kiimx8s",
        "colab": {
          "base_uri": "https://localhost:8080/"
        },
        "outputId": "68400329-a68a-4e5f-9697-049c85213dcb"
      },
      "execution_count": null,
      "outputs": [
        {
          "output_type": "stream",
          "name": "stdout",
          "text": [
            "The Model Accuracy is 94.29%\n"
          ]
        }
      ]
    },
    {
      "cell_type": "code",
      "source": [
        "# We can manually try various values:\n",
        "max_depth_vals = list(range(1, 10))\n",
        "\n",
        "# We need a list to store the accuracy for each model with different max depth\n",
        "# List to store the average RMSE for each value of max_depth:\n",
        "accuracy_list = []\n",
        "\n",
        "# Try different max depth values above\n",
        "for max_depth in max_depth_vals:\n",
        "  # create the model with specific max depth\n",
        "  clf = DecisionTreeClassifier(max_depth = max_depth,\n",
        "  random_state = 0)\n",
        "\n",
        "  # fit the data\n",
        "  clf.fit(X_train, y_train)\n",
        "\n",
        "  # get accuracy and store it in the list accuracy\n",
        "  accuracy = clf.score(X_test, y_test)\n",
        "  accuracy_list.append(accuracy)"
      ],
      "metadata": {
        "id": "DU4gJljfm4GJ"
      },
      "execution_count": null,
      "outputs": []
    },
    {
      "cell_type": "code",
      "source": [
        "# you can now view the list of accuracies\n",
        "print(accuracy_list)"
      ],
      "metadata": {
        "id": "Bt1eBtgznFfK",
        "colab": {
          "base_uri": "https://localhost:8080/"
        },
        "outputId": "b78fadf4-6515-4c5d-8816-0db2ea47752f"
      },
      "execution_count": null,
      "outputs": [
        {
          "output_type": "stream",
          "name": "stdout",
          "text": [
            "[0.9429400386847195, 0.9429400386847195, 0.9400386847195358, 0.9400386847195358, 0.9342359767891683, 0.925531914893617, 0.9226305609284333, 0.8965183752417795, 0.8887814313346228]\n"
          ]
        }
      ]
    },
    {
      "cell_type": "code",
      "source": [
        "# create list of tuples (pairs of depth and accuracy)\n",
        "depth_accuracies = list(zip(max_depth_vals,accuracy_list))\n",
        "\n",
        "# create a data frame\n",
        "results = pd.DataFrame(data=depth_accuracies, columns=['max_depth','accuracy'])\n",
        "results"
      ],
      "metadata": {
        "id": "vds3ZltwnLAP",
        "colab": {
          "base_uri": "https://localhost:8080/"
        },
        "outputId": "a35fd71d-1f39-4fcf-b6d7-b37bae1727e7"
      },
      "execution_count": null,
      "outputs": [
        {
          "output_type": "execute_result",
          "data": {
            "text/plain": [
              "   max_depth  accuracy\n",
              "0          1  0.942940\n",
              "1          2  0.942940\n",
              "2          3  0.940039\n",
              "3          4  0.940039\n",
              "4          5  0.934236\n",
              "5          6  0.925532\n",
              "6          7  0.922631\n",
              "7          8  0.896518\n",
              "8          9  0.888781"
            ],
            "text/html": [
              "\n",
              "  <div id=\"df-23118acd-e475-4aae-9bc9-a841514e08e2\">\n",
              "    <div class=\"colab-df-container\">\n",
              "      <div>\n",
              "<style scoped>\n",
              "    .dataframe tbody tr th:only-of-type {\n",
              "        vertical-align: middle;\n",
              "    }\n",
              "\n",
              "    .dataframe tbody tr th {\n",
              "        vertical-align: top;\n",
              "    }\n",
              "\n",
              "    .dataframe thead th {\n",
              "        text-align: right;\n",
              "    }\n",
              "</style>\n",
              "<table border=\"1\" class=\"dataframe\">\n",
              "  <thead>\n",
              "    <tr style=\"text-align: right;\">\n",
              "      <th></th>\n",
              "      <th>max_depth</th>\n",
              "      <th>accuracy</th>\n",
              "    </tr>\n",
              "  </thead>\n",
              "  <tbody>\n",
              "    <tr>\n",
              "      <th>0</th>\n",
              "      <td>1</td>\n",
              "      <td>0.942940</td>\n",
              "    </tr>\n",
              "    <tr>\n",
              "      <th>1</th>\n",
              "      <td>2</td>\n",
              "      <td>0.942940</td>\n",
              "    </tr>\n",
              "    <tr>\n",
              "      <th>2</th>\n",
              "      <td>3</td>\n",
              "      <td>0.940039</td>\n",
              "    </tr>\n",
              "    <tr>\n",
              "      <th>3</th>\n",
              "      <td>4</td>\n",
              "      <td>0.940039</td>\n",
              "    </tr>\n",
              "    <tr>\n",
              "      <th>4</th>\n",
              "      <td>5</td>\n",
              "      <td>0.934236</td>\n",
              "    </tr>\n",
              "    <tr>\n",
              "      <th>5</th>\n",
              "      <td>6</td>\n",
              "      <td>0.925532</td>\n",
              "    </tr>\n",
              "    <tr>\n",
              "      <th>6</th>\n",
              "      <td>7</td>\n",
              "      <td>0.922631</td>\n",
              "    </tr>\n",
              "    <tr>\n",
              "      <th>7</th>\n",
              "      <td>8</td>\n",
              "      <td>0.896518</td>\n",
              "    </tr>\n",
              "    <tr>\n",
              "      <th>8</th>\n",
              "      <td>9</td>\n",
              "      <td>0.888781</td>\n",
              "    </tr>\n",
              "  </tbody>\n",
              "</table>\n",
              "</div>\n",
              "      <button class=\"colab-df-convert\" onclick=\"convertToInteractive('df-23118acd-e475-4aae-9bc9-a841514e08e2')\"\n",
              "              title=\"Convert this dataframe to an interactive table.\"\n",
              "              style=\"display:none;\">\n",
              "        \n",
              "  <svg xmlns=\"http://www.w3.org/2000/svg\" height=\"24px\"viewBox=\"0 0 24 24\"\n",
              "       width=\"24px\">\n",
              "    <path d=\"M0 0h24v24H0V0z\" fill=\"none\"/>\n",
              "    <path d=\"M18.56 5.44l.94 2.06.94-2.06 2.06-.94-2.06-.94-.94-2.06-.94 2.06-2.06.94zm-11 1L8.5 8.5l.94-2.06 2.06-.94-2.06-.94L8.5 2.5l-.94 2.06-2.06.94zm10 10l.94 2.06.94-2.06 2.06-.94-2.06-.94-.94-2.06-.94 2.06-2.06.94z\"/><path d=\"M17.41 7.96l-1.37-1.37c-.4-.4-.92-.59-1.43-.59-.52 0-1.04.2-1.43.59L10.3 9.45l-7.72 7.72c-.78.78-.78 2.05 0 2.83L4 21.41c.39.39.9.59 1.41.59.51 0 1.02-.2 1.41-.59l7.78-7.78 2.81-2.81c.8-.78.8-2.07 0-2.86zM5.41 20L4 18.59l7.72-7.72 1.47 1.35L5.41 20z\"/>\n",
              "  </svg>\n",
              "      </button>\n",
              "      \n",
              "  <style>\n",
              "    .colab-df-container {\n",
              "      display:flex;\n",
              "      flex-wrap:wrap;\n",
              "      gap: 12px;\n",
              "    }\n",
              "\n",
              "    .colab-df-convert {\n",
              "      background-color: #E8F0FE;\n",
              "      border: none;\n",
              "      border-radius: 50%;\n",
              "      cursor: pointer;\n",
              "      display: none;\n",
              "      fill: #1967D2;\n",
              "      height: 32px;\n",
              "      padding: 0 0 0 0;\n",
              "      width: 32px;\n",
              "    }\n",
              "\n",
              "    .colab-df-convert:hover {\n",
              "      background-color: #E2EBFA;\n",
              "      box-shadow: 0px 1px 2px rgba(60, 64, 67, 0.3), 0px 1px 3px 1px rgba(60, 64, 67, 0.15);\n",
              "      fill: #174EA6;\n",
              "    }\n",
              "\n",
              "    [theme=dark] .colab-df-convert {\n",
              "      background-color: #3B4455;\n",
              "      fill: #D2E3FC;\n",
              "    }\n",
              "\n",
              "    [theme=dark] .colab-df-convert:hover {\n",
              "      background-color: #434B5C;\n",
              "      box-shadow: 0px 1px 3px 1px rgba(0, 0, 0, 0.15);\n",
              "      filter: drop-shadow(0px 1px 2px rgba(0, 0, 0, 0.3));\n",
              "      fill: #FFFFFF;\n",
              "    }\n",
              "  </style>\n",
              "\n",
              "      <script>\n",
              "        const buttonEl =\n",
              "          document.querySelector('#df-23118acd-e475-4aae-9bc9-a841514e08e2 button.colab-df-convert');\n",
              "        buttonEl.style.display =\n",
              "          google.colab.kernel.accessAllowed ? 'block' : 'none';\n",
              "\n",
              "        async function convertToInteractive(key) {\n",
              "          const element = document.querySelector('#df-23118acd-e475-4aae-9bc9-a841514e08e2');\n",
              "          const dataTable =\n",
              "            await google.colab.kernel.invokeFunction('convertToInteractive',\n",
              "                                                     [key], {});\n",
              "          if (!dataTable) return;\n",
              "\n",
              "          const docLinkHtml = 'Like what you see? Visit the ' +\n",
              "            '<a target=\"_blank\" href=https://colab.research.google.com/notebooks/data_table.ipynb>data table notebook</a>'\n",
              "            + ' to learn more about interactive tables.';\n",
              "          element.innerHTML = '';\n",
              "          dataTable['output_type'] = 'display_data';\n",
              "          await google.colab.output.renderOutput(dataTable, element);\n",
              "          const docLink = document.createElement('div');\n",
              "          docLink.innerHTML = docLinkHtml;\n",
              "          element.appendChild(docLink);\n",
              "        }\n",
              "      </script>\n",
              "    </div>\n",
              "  </div>\n",
              "  "
            ]
          },
          "metadata": {},
          "execution_count": 93
        }
      ]
    },
    {
      "cell_type": "code",
      "source": [
        "ax = sns.lineplot(x=\"max_depth\", y=\"accuracy\", data=results, marker=\"o\")\n",
        "ax.set(xlabel='Tree Depth', ylabel='Accuracy')"
      ],
      "metadata": {
        "id": "0U15L7LCnRA3",
        "colab": {
          "base_uri": "https://localhost:8080/"
        },
        "outputId": "232d8e18-116b-436c-deea-9a98ee00b820"
      },
      "execution_count": null,
      "outputs": [
        {
          "output_type": "execute_result",
          "data": {
            "text/plain": [
              "[Text(0, 0.5, 'Accuracy'), Text(0.5, 0, 'Tree Depth')]"
            ]
          },
          "metadata": {},
          "execution_count": 94
        },
        {
          "output_type": "display_data",
          "data": {
            "text/plain": [
              "<Figure size 432x288 with 1 Axes>"
            ],
            "image/png": "[encoded data removed]"
          },
          "metadata": {
            "needs_background": "light"
          }
        }
      ]
    },
    {
      "cell_type": "code",
      "source": [
        "# create data frame to store features importances\n",
        "importances = pd.DataFrame({'feature':X_train.columns,'importance':np.round(clf.feature_importances_,3)})\n",
        "# sort the data frame by importance attribute\n",
        "importances = importances.sort_values('importance',ascending=False)\n",
        "# show results\n",
        "importances\n"
      ],
      "metadata": {
        "id": "Q5oH1ELtncer",
        "colab": {
          "base_uri": "https://localhost:8080/"
        },
        "outputId": "c3eb5543-cfef-4537-956d-b603ec70fee5"
      },
      "execution_count": null,
      "outputs": [
        {
          "output_type": "execute_result",
          "data": {
            "text/plain": [
              "      feature  importance\n",
              "0     genergy       0.200\n",
              "1       gpuls       0.199\n",
              "3      gdpuls       0.123\n",
              "4      nbumps       0.113\n",
              "2    gdenergy       0.108\n",
              "12     energy       0.084\n",
              "13  maxenergy       0.066\n",
              "6     nbumps3       0.059\n",
              "5     nbumps2       0.026\n",
              "7     nbumps4       0.022\n",
              "8     nbumps5       0.000\n",
              "9     nbumps6       0.000\n",
              "10    nbumps7       0.000\n",
              "11   nbumps89       0.000"
            ],
            "text/html": [
              "\n",
              "  <div id=\"df-62706c58-7091-4d11-94d8-b19776c2d3ef\">\n",
              "    <div class=\"colab-df-container\">\n",
              "      <div>\n",
              "<style scoped>\n",
              "    .dataframe tbody tr th:only-of-type {\n",
              "        vertical-align: middle;\n",
              "    }\n",
              "\n",
              "    .dataframe tbody tr th {\n",
              "        vertical-align: top;\n",
              "    }\n",
              "\n",
              "    .dataframe thead th {\n",
              "        text-align: right;\n",
              "    }\n",
              "</style>\n",
              "<table border=\"1\" class=\"dataframe\">\n",
              "  <thead>\n",
              "    <tr style=\"text-align: right;\">\n",
              "      <th></th>\n",
              "      <th>feature</th>\n",
              "      <th>importance</th>\n",
              "    </tr>\n",
              "  </thead>\n",
              "  <tbody>\n",
              "    <tr>\n",
              "      <th>0</th>\n",
              "      <td>genergy</td>\n",
              "      <td>0.200</td>\n",
              "    </tr>\n",
              "    <tr>\n",
              "      <th>1</th>\n",
              "      <td>gpuls</td>\n",
              "      <td>0.199</td>\n",
              "    </tr>\n",
              "    <tr>\n",
              "      <th>3</th>\n",
              "      <td>gdpuls</td>\n",
              "      <td>0.123</td>\n",
              "    </tr>\n",
              "    <tr>\n",
              "      <th>4</th>\n",
              "      <td>nbumps</td>\n",
              "      <td>0.113</td>\n",
              "    </tr>\n",
              "    <tr>\n",
              "      <th>2</th>\n",
              "      <td>gdenergy</td>\n",
              "      <td>0.108</td>\n",
              "    </tr>\n",
              "    <tr>\n",
              "      <th>12</th>\n",
              "      <td>energy</td>\n",
              "      <td>0.084</td>\n",
              "    </tr>\n",
              "    <tr>\n",
              "      <th>13</th>\n",
              "      <td>maxenergy</td>\n",
              "      <td>0.066</td>\n",
              "    </tr>\n",
              "    <tr>\n",
              "      <th>6</th>\n",
              "      <td>nbumps3</td>\n",
              "      <td>0.059</td>\n",
              "    </tr>\n",
              "    <tr>\n",
              "      <th>5</th>\n",
              "      <td>nbumps2</td>\n",
              "      <td>0.026</td>\n",
              "    </tr>\n",
              "    <tr>\n",
              "      <th>7</th>\n",
              "      <td>nbumps4</td>\n",
              "      <td>0.022</td>\n",
              "    </tr>\n",
              "    <tr>\n",
              "      <th>8</th>\n",
              "      <td>nbumps5</td>\n",
              "      <td>0.000</td>\n",
              "    </tr>\n",
              "    <tr>\n",
              "      <th>9</th>\n",
              "      <td>nbumps6</td>\n",
              "      <td>0.000</td>\n",
              "    </tr>\n",
              "    <tr>\n",
              "      <th>10</th>\n",
              "      <td>nbumps7</td>\n",
              "      <td>0.000</td>\n",
              "    </tr>\n",
              "    <tr>\n",
              "      <th>11</th>\n",
              "      <td>nbumps89</td>\n",
              "      <td>0.000</td>\n",
              "    </tr>\n",
              "  </tbody>\n",
              "</table>\n",
              "</div>\n",
              "      <button class=\"colab-df-convert\" onclick=\"convertToInteractive('df-62706c58-7091-4d11-94d8-b19776c2d3ef')\"\n",
              "              title=\"Convert this dataframe to an interactive table.\"\n",
              "              style=\"display:none;\">\n",
              "        \n",
              "  <svg xmlns=\"http://www.w3.org/2000/svg\" height=\"24px\"viewBox=\"0 0 24 24\"\n",
              "       width=\"24px\">\n",
              "    <path d=\"M0 0h24v24H0V0z\" fill=\"none\"/>\n",
              "    <path d=\"M18.56 5.44l.94 2.06.94-2.06 2.06-.94-2.06-.94-.94-2.06-.94 2.06-2.06.94zm-11 1L8.5 8.5l.94-2.06 2.06-.94-2.06-.94L8.5 2.5l-.94 2.06-2.06.94zm10 10l.94 2.06.94-2.06 2.06-.94-2.06-.94-.94-2.06-.94 2.06-2.06.94z\"/><path d=\"M17.41 7.96l-1.37-1.37c-.4-.4-.92-.59-1.43-.59-.52 0-1.04.2-1.43.59L10.3 9.45l-7.72 7.72c-.78.78-.78 2.05 0 2.83L4 21.41c.39.39.9.59 1.41.59.51 0 1.02-.2 1.41-.59l7.78-7.78 2.81-2.81c.8-.78.8-2.07 0-2.86zM5.41 20L4 18.59l7.72-7.72 1.47 1.35L5.41 20z\"/>\n",
              "  </svg>\n",
              "      </button>\n",
              "      \n",
              "  <style>\n",
              "    .colab-df-container {\n",
              "      display:flex;\n",
              "      flex-wrap:wrap;\n",
              "      gap: 12px;\n",
              "    }\n",
              "\n",
              "    .colab-df-convert {\n",
              "      background-color: #E8F0FE;\n",
              "      border: none;\n",
              "      border-radius: 50%;\n",
              "      cursor: pointer;\n",
              "      display: none;\n",
              "      fill: #1967D2;\n",
              "      height: 32px;\n",
              "      padding: 0 0 0 0;\n",
              "      width: 32px;\n",
              "    }\n",
              "\n",
              "    .colab-df-convert:hover {\n",
              "      background-color: #E2EBFA;\n",
              "      box-shadow: 0px 1px 2px rgba(60, 64, 67, 0.3), 0px 1px 3px 1px rgba(60, 64, 67, 0.15);\n",
              "      fill: #174EA6;\n",
              "    }\n",
              "\n",
              "    [theme=dark] .colab-df-convert {\n",
              "      background-color: #3B4455;\n",
              "      fill: #D2E3FC;\n",
              "    }\n",
              "\n",
              "    [theme=dark] .colab-df-convert:hover {\n",
              "      background-color: #434B5C;\n",
              "      box-shadow: 0px 1px 3px 1px rgba(0, 0, 0, 0.15);\n",
              "      filter: drop-shadow(0px 1px 2px rgba(0, 0, 0, 0.3));\n",
              "      fill: #FFFFFF;\n",
              "    }\n",
              "  </style>\n",
              "\n",
              "      <script>\n",
              "        const buttonEl =\n",
              "          document.querySelector('#df-62706c58-7091-4d11-94d8-b19776c2d3ef button.colab-df-convert');\n",
              "        buttonEl.style.display =\n",
              "          google.colab.kernel.accessAllowed ? 'block' : 'none';\n",
              "\n",
              "        async function convertToInteractive(key) {\n",
              "          const element = document.querySelector('#df-62706c58-7091-4d11-94d8-b19776c2d3ef');\n",
              "          const dataTable =\n",
              "            await google.colab.kernel.invokeFunction('convertToInteractive',\n",
              "                                                     [key], {});\n",
              "          if (!dataTable) return;\n",
              "\n",
              "          const docLinkHtml = 'Like what you see? Visit the ' +\n",
              "            '<a target=\"_blank\" href=https://colab.research.google.com/notebooks/data_table.ipynb>data table notebook</a>'\n",
              "            + ' to learn more about interactive tables.';\n",
              "          element.innerHTML = '';\n",
              "          dataTable['output_type'] = 'display_data';\n",
              "          await google.colab.output.renderOutput(dataTable, element);\n",
              "          const docLink = document.createElement('div');\n",
              "          docLink.innerHTML = docLinkHtml;\n",
              "          element.appendChild(docLink);\n",
              "        }\n",
              "      </script>\n",
              "    </div>\n",
              "  </div>\n",
              "  "
            ]
          },
          "metadata": {},
          "execution_count": 95
        }
      ]
    },
    {
      "cell_type": "markdown",
      "source": [
        "#1.9 ROC curve of Logistic Regression, Random Forest and Decision Tree Model"
      ],
      "metadata": {
        "id": "DAqn0ZVAwCVp"
      }
    },
    {
      "cell_type": "code",
      "source": [
        "# libraries for the various models we will be using\n",
        "from sklearn.linear_model import LogisticRegression\n",
        "from sklearn.tree import DecisionTreeClassifier\n",
        "from sklearn.ensemble import RandomForestClassifier\n",
        "from sklearn.metrics import roc_curve, roc_auc_score\n",
        "# Instantiate the classfiers and make a list\n",
        "# notice the parameters for each classifie\n",
        "classifiers = [LogisticRegression(solver='lbfgs',max_iter=4000,class_weight='balanced'),\n",
        "DecisionTreeClassifier(random_state=15),\n",
        "RandomForestClassifier(n_estimators=500,random_state=15)\n",
        "]"
      ],
      "metadata": {
        "id": "0AK-q9F4CuM4"
      },
      "execution_count": null,
      "outputs": []
    },
    {
      "cell_type": "code",
      "source": [
        "# Define a result table as a DataFrame\n",
        "results = pd.DataFrame(columns=['classifiers', 'fpr','tpr','auc'])\n",
        "# Train the models and store the results\n",
        "for cls in classifiers:\n",
        "\n",
        "# fit the data\n",
        "  model = cls.fit(X_train, y_train)\n",
        "  # get predictions as probabilities\n",
        "  # notice that predict_proba returns array (n_samples, n_classes)\n",
        "  yproba = model.predict_proba(X_test)[::,1]\n",
        "  fpr, tpr, thres = roc_curve(y_test, yproba)\n",
        "  # get the auc (area under the curve)\n",
        "  auc = roc_auc_score(y_test, yproba)\n",
        "  # add results to the table\n",
        "  results = results.append({'classifiers':cls.__class__.__name__,\n",
        "  'fpr':fpr,\n",
        "  'tpr':tpr,\n",
        "  'auc':auc}, ignore_index=True)\n",
        "# Set name of the classifiers as index labels\n",
        "results.set_index('classifiers', inplace=True)"
      ],
      "metadata": {
        "id": "1L1StU3FC0Bg"
      },
      "execution_count": null,
      "outputs": []
    },
    {
      "cell_type": "markdown",
      "source": [
        "Here I will split the data of each case and train different models. I will create three models Logistic Regression, Decision Tree and Random Forest. I will then assess the performance of each model in the evaluation section."
      ],
      "metadata": {
        "id": "G6sLfguRJUTI"
      }
    },
    {
      "cell_type": "code",
      "source": [
        "fig = plt.figure(figsize=(8,6))\n",
        "for i in results.index:\n",
        "  plt.plot(results.loc[i]['fpr'],\n",
        "    results.loc[i]['tpr'],\n",
        "    label=\"{}, AUC={:.3f}\".format(i, results.loc[i]['auc']))\n",
        "# plot the random model (diagonal)\n",
        "plt.plot([0,1], [0,1], color='orange', linestyle='--')\n",
        "plt.xticks(np.arange(0.0, 1.1, step=0.1))\n",
        "plt.xlabel(\"Flase Positive Rate\", fontsize=15)\n",
        "plt.yticks(np.arange(0.0, 1.1, step=0.1))\n",
        "plt.ylabel(\"True Positive Rate\", fontsize=15)\n",
        "plt.title('ROC Curve Analysis', fontsize=12)\n",
        "plt.legend(prop={'size':13}, loc='lower right')\n",
        "plt.show()"
      ],
      "metadata": {
        "colab": {
          "base_uri": "https://localhost:8080/",
          "height": 409
        },
        "id": "FjuQusXQDBz4",
        "outputId": "6040ca9a-5775-4396-d199-e68a5a9f8ee4"
      },
      "execution_count": null,
      "outputs": [
        {
          "output_type": "display_data",
          "data": {
            "text/plain": [
              "<Figure size 576x432 with 1 Axes>"
            ],
            "image/png": "[encoded data removed]"
          },
          "metadata": {
            "needs_background": "light"
          }
        }
      ]
    },
    {
      "cell_type": "markdown",
      "source": [
        "#2.1 Evaluation"
      ],
      "metadata": {
        "id": "936eZ2YJwOPN"
      }
    },
    {
      "cell_type": "markdown",
      "source": [
        "From this report I can see that the data models best used are logistic regression and random forest both competing in the positive rate on the Receiver-operating characteristic (ROC) analysis graph. The classifiers that give curves closer to the top-left corner indicate a better performance for this dataset.\n",
        "<br>\n",
        "\n",
        "\"As a baseline, a random classifier is expected to give points lying along the diagonal (FPR = TPR).\" <br>\n",
        "\n",
        "https://www.displayr.com/what-is-a-roc-curve-how-to-interpret-it/#:~:text=Interpreting%20the%20ROC%20curve&text=Classifiers%20that%20give%20curves%20closer,the%20less%20accurate%20the%20test<br>\n",
        "\n",
        "The closer the curve comes to the 45-degree diagonal of the ROC space, the less accurate the test.  "
      ],
      "metadata": {
        "id": "qRLqlX6ZHbOI"
      }
    },
    {
      "cell_type": "markdown",
      "source": [
        "## References"
      ],
      "metadata": {
        "id": "bxF7-g_79DBT"
      }
    },
    {
      "cell_type": "markdown",
      "source": [
        "1. All code was learned and taken from tutorials and lectures from RGU by Eyad\n",
        "Elyan. (2022)\n",
        "* https://campusmoodle.rgu.ac.uk/pluginfile.php/6099187/mod_resource/content/3/Regression.pdf\n",
        "* https://campusmoodle.rgu.ac.uk/pluginfile.php/6099193/mod_resource/content/3/Logistic_Reg.pdf\n",
        "* https://campusmoodle.rgu.ac.uk/pluginfile.php/6099197/mod_resource/content/2/SVM.pdf\n",
        "* https://campusmoodle.rgu.ac.uk/pluginfile.php/6099204/mod_resource/content/2/Week05-Decision%20Trees.pdf\n",
        "* https://campusmoodle.rgu.ac.uk/pluginfile.php/6099209/mod_resource/content/2/CNN_Eng_Drawings.pdf\n",
        "* https://campusmoodle.rgu.ac.uk/pluginfile.php/6099218/mod_resource/content/1/Bank.pdf\n",
        "* https://campusmoodle.rgu.ac.uk/pluginfile.php/6099223/mod_resource/content/1/Unsupervised-Learning.pdf\n",
        "* https://campusmoodle.rgu.ac.uk/pluginfile.php/6099226/mod_resource/content/1/Dimension-Reduction.pdf\n",
        "<br>\n",
        "\n",
        "2. Campusmoodle: Learning Facilities: RGU (no date) Robert Gordon University. Available at: https://www.rgu.ac.uk/life-at-rgu/learning-facilities/campusmoodle (Accessed: November 22, 2022). <br>\n",
        "\n",
        "3. UCI Machine Learning Repository: Seismic-bumps data set.(no date) Available\n",
        "at: https://archive.ics.uci.edu/ml/datasets/seismic-bumps (Accessed: October 26, 2022).<br>\n",
        "\n",
        "4. Data Cleaning: The most important step in machine learning (2020) Data Science without Code. Available at: https://www.obviously.ai/post/data-cleaning-in-machine-learning (Accessed: November 26, 2022).\n",
        "\n",
        "5. Shravan-Kuchkula (no date) Seismic-bumps/readme.md at master · Shravan-Kuchkula/seismic-bumps, GitHub. Available at: https://github.com/ (Accessed: November 26, 2022). <br>\n",
        "\n",
        "6. Geng, Y. et al. (2019) Seismic events prediction using deep temporal convolution networks, Journal of Electrical and Computer Engineering. Hindawi. Available at: https://www.hindawi.com/journals/jece/2019/7343784/ (Accessed: November 28, 2022).\n",
        "\n",
        "7. Chan, C. (2022) What is a ROC curve and how to interpret it, Displayr. Available at: https://www.displayr.com/what-is-a-roc-curve-how-to-interpret-it/#:~:text=Interpreting%20the%20ROC%20curve&amp;text=Classifiers%20that%20give%20curves%20closer,the%20less%20accurate%20the%20test. (Accessed: October 28, 2022)."
      ],
      "metadata": {
        "id": "lzY0tsXY9V_B"
      }
    }
  ]
}